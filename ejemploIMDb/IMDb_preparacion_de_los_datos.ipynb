{
  "nbformat": 4,
  "nbformat_minor": 0,
  "metadata": {
    "colab": {
      "name": "IMDB_preparacion_de_los_datos.ipynb",
      "provenance": [],
      "collapsed_sections": [
        "jqKnt429tdrD",
        "EaQVwOtE0l2h",
        "XvD_Ob4Oc6OG",
        "lLJtrMd3irN4"
      ]
    },
    "kernelspec": {
      "name": "python3",
      "display_name": "Python 3"
    }
  },
  "cells": [
    {
      "cell_type": "code",
      "metadata": {
        "id": "fe86Yp2GsXtW",
        "colab_type": "code",
        "colab": {}
      },
      "source": [
        "%matplotlib inline\n",
        "import numpy as np\n",
        "import pandas as pd\n",
        "import matplotlib.pyplot as plt\n",
        "import seaborn as sb\n",
        "\n",
        "from sklearn.impute import SimpleImputer"
      ],
      "execution_count": 0,
      "outputs": []
    },
    {
      "cell_type": "markdown",
      "metadata": {
        "id": "jqKnt429tdrD",
        "colab_type": "text"
      },
      "source": [
        "# **Cargar data**\n",
        "\n",
        "---\n",
        "\n"
      ]
    },
    {
      "cell_type": "code",
      "metadata": {
        "id": "216sdFaYsrwT",
        "colab_type": "code",
        "colab": {}
      },
      "source": [
        "movies = pd.read_csv('peliculas.csv', encoding='utf-8')"
      ],
      "execution_count": 0,
      "outputs": []
    },
    {
      "cell_type": "code",
      "metadata": {
        "id": "pZ950SwEtmOp",
        "colab_type": "code",
        "outputId": "effe43f5-e393-48df-c7f3-4f73af66122c",
        "colab": {
          "base_uri": "https://localhost:8080/",
          "height": 360
        }
      },
      "source": [
        "movies.head()"
      ],
      "execution_count": 3,
      "outputs": [
        {
          "output_type": "execute_result",
          "data": {
            "text/html": [
              "<div>\n",
              "<style scoped>\n",
              "    .dataframe tbody tr th:only-of-type {\n",
              "        vertical-align: middle;\n",
              "    }\n",
              "\n",
              "    .dataframe tbody tr th {\n",
              "        vertical-align: top;\n",
              "    }\n",
              "\n",
              "    .dataframe thead th {\n",
              "        text-align: right;\n",
              "    }\n",
              "</style>\n",
              "<table border=\"1\" class=\"dataframe\">\n",
              "  <thead>\n",
              "    <tr style=\"text-align: right;\">\n",
              "      <th></th>\n",
              "      <th>movie_title</th>\n",
              "      <th>title_year</th>\n",
              "      <th>color</th>\n",
              "      <th>aspect_ratio</th>\n",
              "      <th>duration</th>\n",
              "      <th>language</th>\n",
              "      <th>country</th>\n",
              "      <th>duration.1</th>\n",
              "      <th>genres</th>\n",
              "      <th>content_rating</th>\n",
              "      <th>plot_keywords</th>\n",
              "      <th>director_name</th>\n",
              "      <th>actor_1_name</th>\n",
              "      <th>actor_2_name</th>\n",
              "      <th>actor_3_name</th>\n",
              "      <th>cast_total_facebook_likes</th>\n",
              "      <th>budget</th>\n",
              "      <th>imdb_score</th>\n",
              "      <th>gross</th>\n",
              "    </tr>\n",
              "  </thead>\n",
              "  <tbody>\n",
              "    <tr>\n",
              "      <th>0</th>\n",
              "      <td>Avatar</td>\n",
              "      <td>2009.0</td>\n",
              "      <td>Color</td>\n",
              "      <td>1.78</td>\n",
              "      <td>178.0</td>\n",
              "      <td>English</td>\n",
              "      <td>USA</td>\n",
              "      <td>178.0</td>\n",
              "      <td>Action|Adventure|Fantasy|Sci-Fi</td>\n",
              "      <td>PG-13</td>\n",
              "      <td>avatar|future|marine|native|paraplegic</td>\n",
              "      <td>James Cameron</td>\n",
              "      <td>CCH Pounder</td>\n",
              "      <td>Joel David Moore</td>\n",
              "      <td>Wes Studi</td>\n",
              "      <td>4834</td>\n",
              "      <td>237000000.0</td>\n",
              "      <td>7.9</td>\n",
              "      <td>760505847.0</td>\n",
              "    </tr>\n",
              "    <tr>\n",
              "      <th>1</th>\n",
              "      <td>Pirates of the Caribbean: At World's End</td>\n",
              "      <td>2007.0</td>\n",
              "      <td>Color</td>\n",
              "      <td>2.35</td>\n",
              "      <td>169.0</td>\n",
              "      <td>English</td>\n",
              "      <td>USA</td>\n",
              "      <td>169.0</td>\n",
              "      <td>Action|Adventure|Fantasy</td>\n",
              "      <td>PG-13</td>\n",
              "      <td>goddess|marriage ceremony|marriage proposal|pi...</td>\n",
              "      <td>Gore Verbinski</td>\n",
              "      <td>Johnny Depp</td>\n",
              "      <td>Orlando Bloom</td>\n",
              "      <td>Jack Davenport</td>\n",
              "      <td>48350</td>\n",
              "      <td>300000000.0</td>\n",
              "      <td>7.1</td>\n",
              "      <td>309404152.0</td>\n",
              "    </tr>\n",
              "    <tr>\n",
              "      <th>2</th>\n",
              "      <td>Spectre</td>\n",
              "      <td>2015.0</td>\n",
              "      <td>Color</td>\n",
              "      <td>2.35</td>\n",
              "      <td>148.0</td>\n",
              "      <td>English</td>\n",
              "      <td>UK</td>\n",
              "      <td>148.0</td>\n",
              "      <td>Action|Adventure|Thriller</td>\n",
              "      <td>PG-13</td>\n",
              "      <td>bomb|espionage|sequel|spy|terrorist</td>\n",
              "      <td>Sam Mendes</td>\n",
              "      <td>Christoph Waltz</td>\n",
              "      <td>Rory Kinnear</td>\n",
              "      <td>Stephanie Sigman</td>\n",
              "      <td>11700</td>\n",
              "      <td>245000000.0</td>\n",
              "      <td>6.8</td>\n",
              "      <td>200074175.0</td>\n",
              "    </tr>\n",
              "    <tr>\n",
              "      <th>3</th>\n",
              "      <td>The Dark Knight Rises</td>\n",
              "      <td>2012.0</td>\n",
              "      <td>Color</td>\n",
              "      <td>2.35</td>\n",
              "      <td>164.0</td>\n",
              "      <td>English</td>\n",
              "      <td>USA</td>\n",
              "      <td>164.0</td>\n",
              "      <td>Action|Thriller</td>\n",
              "      <td>PG-13</td>\n",
              "      <td>deception|imprisonment|lawlessness|police offi...</td>\n",
              "      <td>Christopher Nolan</td>\n",
              "      <td>Tom Hardy</td>\n",
              "      <td>Christian Bale</td>\n",
              "      <td>Joseph Gordon-Levitt</td>\n",
              "      <td>106759</td>\n",
              "      <td>250000000.0</td>\n",
              "      <td>8.5</td>\n",
              "      <td>448130642.0</td>\n",
              "    </tr>\n",
              "    <tr>\n",
              "      <th>4</th>\n",
              "      <td>Star Wars: Episode VII - The Force Awakens    ...</td>\n",
              "      <td>NaN</td>\n",
              "      <td>NaN</td>\n",
              "      <td>NaN</td>\n",
              "      <td>NaN</td>\n",
              "      <td>NaN</td>\n",
              "      <td>NaN</td>\n",
              "      <td>NaN</td>\n",
              "      <td>Documentary</td>\n",
              "      <td>NaN</td>\n",
              "      <td>NaN</td>\n",
              "      <td>Doug Walker</td>\n",
              "      <td>Doug Walker</td>\n",
              "      <td>Rob Walker</td>\n",
              "      <td>NaN</td>\n",
              "      <td>143</td>\n",
              "      <td>NaN</td>\n",
              "      <td>7.1</td>\n",
              "      <td>NaN</td>\n",
              "    </tr>\n",
              "  </tbody>\n",
              "</table>\n",
              "</div>"
            ],
            "text/plain": [
              "                                         movie_title  ...        gross\n",
              "0                                            Avatar   ...  760505847.0\n",
              "1          Pirates of the Caribbean: At World's End   ...  309404152.0\n",
              "2                                           Spectre   ...  200074175.0\n",
              "3                             The Dark Knight Rises   ...  448130642.0\n",
              "4  Star Wars: Episode VII - The Force Awakens    ...  ...          NaN\n",
              "\n",
              "[5 rows x 19 columns]"
            ]
          },
          "metadata": {
            "tags": []
          },
          "execution_count": 3
        }
      ]
    },
    {
      "cell_type": "code",
      "metadata": {
        "id": "Vop2ANn4t9WX",
        "colab_type": "code",
        "outputId": "87db9725-19bd-4406-8386-a123c4ac7dd6",
        "colab": {
          "base_uri": "https://localhost:8080/",
          "height": 34
        }
      },
      "source": [
        "movies.shape"
      ],
      "execution_count": 4,
      "outputs": [
        {
          "output_type": "execute_result",
          "data": {
            "text/plain": [
              "(5043, 19)"
            ]
          },
          "metadata": {
            "tags": []
          },
          "execution_count": 4
        }
      ]
    },
    {
      "cell_type": "code",
      "metadata": {
        "id": "hwkf_hofuOdE",
        "colab_type": "code",
        "outputId": "4d7255e6-be17-4507-f24b-ea944d4aadd4",
        "colab": {
          "base_uri": "https://localhost:8080/",
          "height": 119
        }
      },
      "source": [
        "movies.columns, movies.index"
      ],
      "execution_count": 5,
      "outputs": [
        {
          "output_type": "execute_result",
          "data": {
            "text/plain": [
              "(Index(['movie_title', 'title_year', 'color', 'aspect_ratio', 'duration',\n",
              "        'language', 'country', 'duration.1', 'genres', 'content_rating',\n",
              "        'plot_keywords', 'director_name', 'actor_1_name', 'actor_2_name',\n",
              "        'actor_3_name', 'cast_total_facebook_likes', 'budget', 'imdb_score',\n",
              "        'gross'],\n",
              "       dtype='object'), RangeIndex(start=0, stop=5043, step=1))"
            ]
          },
          "metadata": {
            "tags": []
          },
          "execution_count": 5
        }
      ]
    },
    {
      "cell_type": "code",
      "metadata": {
        "id": "uTybbrGYwRsv",
        "colab_type": "code",
        "outputId": "a7bc3628-c035-4c59-dabb-565b4f056a98",
        "colab": {
          "base_uri": "https://localhost:8080/",
          "height": 357
        }
      },
      "source": [
        "movies.loc[0, :]"
      ],
      "execution_count": 6,
      "outputs": [
        {
          "output_type": "execute_result",
          "data": {
            "text/plain": [
              "movie_title                                                 Avatar \n",
              "title_year                                                     2009\n",
              "color                                                         Color\n",
              "aspect_ratio                                                   1.78\n",
              "duration                                                        178\n",
              "language                                                    English\n",
              "country                                                         USA\n",
              "duration.1                                                      178\n",
              "genres                              Action|Adventure|Fantasy|Sci-Fi\n",
              "content_rating                                                PG-13\n",
              "plot_keywords                avatar|future|marine|native|paraplegic\n",
              "director_name                                         James Cameron\n",
              "actor_1_name                                            CCH Pounder\n",
              "actor_2_name                                       Joel David Moore\n",
              "actor_3_name                                              Wes Studi\n",
              "cast_total_facebook_likes                                      4834\n",
              "budget                                                     2.37e+08\n",
              "imdb_score                                                      7.9\n",
              "gross                                                   7.60506e+08\n",
              "Name: 0, dtype: object"
            ]
          },
          "metadata": {
            "tags": []
          },
          "execution_count": 6
        }
      ]
    },
    {
      "cell_type": "code",
      "metadata": {
        "id": "X8RdyHI0yi-E",
        "colab_type": "code",
        "outputId": "d6095196-d0c1-4aaa-e1d6-0735230e71fc",
        "colab": {
          "base_uri": "https://localhost:8080/",
          "height": 221
        }
      },
      "source": [
        "movies.loc[:, 'movie_title']"
      ],
      "execution_count": 7,
      "outputs": [
        {
          "output_type": "execute_result",
          "data": {
            "text/plain": [
              "0                                                 Avatar \n",
              "1               Pirates of the Caribbean: At World's End \n",
              "2                                                Spectre \n",
              "3                                  The Dark Knight Rises \n",
              "4       Star Wars: Episode VII - The Force Awakens    ...\n",
              "                              ...                        \n",
              "5038                             Signed Sealed Delivered \n",
              "5039                           The Following             \n",
              "5040                                A Plague So Pleasant \n",
              "5041                                    Shanghai Calling \n",
              "5042                                   My Date with Drew \n",
              "Name: movie_title, Length: 5043, dtype: object"
            ]
          },
          "metadata": {
            "tags": []
          },
          "execution_count": 7
        }
      ]
    },
    {
      "cell_type": "markdown",
      "metadata": {
        "id": "EaQVwOtE0l2h",
        "colab_type": "text"
      },
      "source": [
        "# **Inspección de tipos de datos**\n",
        "\n",
        "---\n",
        "\n"
      ]
    },
    {
      "cell_type": "code",
      "metadata": {
        "id": "Z5K1w88OzAHp",
        "colab_type": "code",
        "outputId": "543ab4f6-174a-4fa0-eb5a-90d1a75b0f9d",
        "colab": {
          "base_uri": "https://localhost:8080/",
          "height": 425
        }
      },
      "source": [
        "movies.info()"
      ],
      "execution_count": 8,
      "outputs": [
        {
          "output_type": "stream",
          "text": [
            "<class 'pandas.core.frame.DataFrame'>\n",
            "RangeIndex: 5043 entries, 0 to 5042\n",
            "Data columns (total 19 columns):\n",
            "movie_title                  5043 non-null object\n",
            "title_year                   4935 non-null float64\n",
            "color                        5024 non-null object\n",
            "aspect_ratio                 4714 non-null float64\n",
            "duration                     5028 non-null float64\n",
            "language                     5031 non-null object\n",
            "country                      5038 non-null object\n",
            "duration.1                   5028 non-null float64\n",
            "genres                       5043 non-null object\n",
            "content_rating               4740 non-null object\n",
            "plot_keywords                4890 non-null object\n",
            "director_name                4939 non-null object\n",
            "actor_1_name                 5036 non-null object\n",
            "actor_2_name                 5030 non-null object\n",
            "actor_3_name                 5020 non-null object\n",
            "cast_total_facebook_likes    5043 non-null int64\n",
            "budget                       4551 non-null float64\n",
            "imdb_score                   5043 non-null float64\n",
            "gross                        4159 non-null float64\n",
            "dtypes: float64(7), int64(1), object(11)\n",
            "memory usage: 748.7+ KB\n"
          ],
          "name": "stdout"
        }
      ]
    },
    {
      "cell_type": "code",
      "metadata": {
        "id": "VfhiaKzg0zak",
        "colab_type": "code",
        "outputId": "be01ca6b-ed95-4f79-a88c-b17be3814671",
        "colab": {
          "base_uri": "https://localhost:8080/",
          "height": 357
        }
      },
      "source": [
        "movies.dtypes"
      ],
      "execution_count": 9,
      "outputs": [
        {
          "output_type": "execute_result",
          "data": {
            "text/plain": [
              "movie_title                   object\n",
              "title_year                   float64\n",
              "color                         object\n",
              "aspect_ratio                 float64\n",
              "duration                     float64\n",
              "language                      object\n",
              "country                       object\n",
              "duration.1                   float64\n",
              "genres                        object\n",
              "content_rating                object\n",
              "plot_keywords                 object\n",
              "director_name                 object\n",
              "actor_1_name                  object\n",
              "actor_2_name                  object\n",
              "actor_3_name                  object\n",
              "cast_total_facebook_likes      int64\n",
              "budget                       float64\n",
              "imdb_score                   float64\n",
              "gross                        float64\n",
              "dtype: object"
            ]
          },
          "metadata": {
            "tags": []
          },
          "execution_count": 9
        }
      ]
    },
    {
      "cell_type": "code",
      "metadata": {
        "id": "AhAwH7Rb1bR-",
        "colab_type": "code",
        "colab": {
          "base_uri": "https://localhost:8080/",
          "height": 357
        },
        "outputId": "ad7ba02a-6029-4f64-df99-bdee502c14e5"
      },
      "source": [
        "# Las columnas pueden trabajarse con operadores booleanos\n",
        "num = (movies.dtypes == float) | (movies.dtypes == int)\n",
        "num"
      ],
      "execution_count": 15,
      "outputs": [
        {
          "output_type": "execute_result",
          "data": {
            "text/plain": [
              "movie_title                  False\n",
              "title_year                    True\n",
              "color                        False\n",
              "aspect_ratio                  True\n",
              "duration                      True\n",
              "language                     False\n",
              "country                      False\n",
              "duration.1                    True\n",
              "genres                       False\n",
              "content_rating               False\n",
              "plot_keywords                False\n",
              "director_name                False\n",
              "actor_1_name                 False\n",
              "actor_2_name                 False\n",
              "actor_3_name                 False\n",
              "cast_total_facebook_likes     True\n",
              "budget                        True\n",
              "imdb_score                    True\n",
              "gross                         True\n",
              "dtype: bool"
            ]
          },
          "metadata": {
            "tags": []
          },
          "execution_count": 15
        }
      ]
    },
    {
      "cell_type": "code",
      "metadata": {
        "id": "zB5omLPCbh56",
        "colab_type": "code",
        "colab": {
          "base_uri": "https://localhost:8080/",
          "height": 357
        },
        "outputId": "c190df39-bd87-4762-89cb-d2abc3502d82"
      },
      "source": [
        "obj = movies.dtypes == object\n",
        "obj"
      ],
      "execution_count": 23,
      "outputs": [
        {
          "output_type": "execute_result",
          "data": {
            "text/plain": [
              "movie_title                   True\n",
              "title_year                   False\n",
              "color                         True\n",
              "aspect_ratio                 False\n",
              "duration                     False\n",
              "language                      True\n",
              "country                       True\n",
              "duration.1                   False\n",
              "genres                        True\n",
              "content_rating                True\n",
              "plot_keywords                 True\n",
              "director_name                 True\n",
              "actor_1_name                  True\n",
              "actor_2_name                  True\n",
              "actor_3_name                  True\n",
              "cast_total_facebook_likes    False\n",
              "budget                       False\n",
              "imdb_score                   False\n",
              "gross                        False\n",
              "dtype: bool"
            ]
          },
          "metadata": {
            "tags": []
          },
          "execution_count": 23
        }
      ]
    },
    {
      "cell_type": "code",
      "metadata": {
        "id": "wybtruE5aMfr",
        "colab_type": "code",
        "colab": {
          "base_uri": "https://localhost:8080/",
          "height": 153
        },
        "outputId": "c269ff0b-8ee5-493a-b2f0-9f1ecea2395e"
      },
      "source": [
        "num_cols = [cname for cname in num.index if num[cname]]\n",
        "num_cols"
      ],
      "execution_count": 24,
      "outputs": [
        {
          "output_type": "execute_result",
          "data": {
            "text/plain": [
              "['title_year',\n",
              " 'aspect_ratio',\n",
              " 'duration',\n",
              " 'duration.1',\n",
              " 'cast_total_facebook_likes',\n",
              " 'budget',\n",
              " 'imdb_score',\n",
              " 'gross']"
            ]
          },
          "metadata": {
            "tags": []
          },
          "execution_count": 24
        }
      ]
    },
    {
      "cell_type": "code",
      "metadata": {
        "id": "o6ZORDRda0BY",
        "colab_type": "code",
        "colab": {
          "base_uri": "https://localhost:8080/",
          "height": 204
        },
        "outputId": "ecc5c57c-f115-4c88-b633-f81bffb16cd2"
      },
      "source": [
        "obj_cols = [cname for cname in obj.index if obj[cname]]\n",
        "obj_cols"
      ],
      "execution_count": 25,
      "outputs": [
        {
          "output_type": "execute_result",
          "data": {
            "text/plain": [
              "['movie_title',\n",
              " 'color',\n",
              " 'language',\n",
              " 'country',\n",
              " 'genres',\n",
              " 'content_rating',\n",
              " 'plot_keywords',\n",
              " 'director_name',\n",
              " 'actor_1_name',\n",
              " 'actor_2_name',\n",
              " 'actor_3_name']"
            ]
          },
          "metadata": {
            "tags": []
          },
          "execution_count": 25
        }
      ]
    },
    {
      "cell_type": "markdown",
      "metadata": {
        "id": "XvD_Ob4Oc6OG",
        "colab_type": "text"
      },
      "source": [
        "# **Inspección cuantitativa y de salud de los datos**\n",
        "\n",
        "---\n",
        "\n"
      ]
    },
    {
      "cell_type": "code",
      "metadata": {
        "id": "_E6huTFPdJDG",
        "colab_type": "code",
        "colab": {
          "base_uri": "https://localhost:8080/",
          "height": 204
        },
        "outputId": "6116368a-7748-4397-dd7b-6c98ee80cec3"
      },
      "source": [
        "movies_num = movies[num_cols]\n",
        "movies_num.head()"
      ],
      "execution_count": 28,
      "outputs": [
        {
          "output_type": "execute_result",
          "data": {
            "text/html": [
              "<div>\n",
              "<style scoped>\n",
              "    .dataframe tbody tr th:only-of-type {\n",
              "        vertical-align: middle;\n",
              "    }\n",
              "\n",
              "    .dataframe tbody tr th {\n",
              "        vertical-align: top;\n",
              "    }\n",
              "\n",
              "    .dataframe thead th {\n",
              "        text-align: right;\n",
              "    }\n",
              "</style>\n",
              "<table border=\"1\" class=\"dataframe\">\n",
              "  <thead>\n",
              "    <tr style=\"text-align: right;\">\n",
              "      <th></th>\n",
              "      <th>title_year</th>\n",
              "      <th>aspect_ratio</th>\n",
              "      <th>duration</th>\n",
              "      <th>duration.1</th>\n",
              "      <th>cast_total_facebook_likes</th>\n",
              "      <th>budget</th>\n",
              "      <th>imdb_score</th>\n",
              "      <th>gross</th>\n",
              "    </tr>\n",
              "  </thead>\n",
              "  <tbody>\n",
              "    <tr>\n",
              "      <th>0</th>\n",
              "      <td>2009.0</td>\n",
              "      <td>1.78</td>\n",
              "      <td>178.0</td>\n",
              "      <td>178.0</td>\n",
              "      <td>4834</td>\n",
              "      <td>237000000.0</td>\n",
              "      <td>7.9</td>\n",
              "      <td>760505847.0</td>\n",
              "    </tr>\n",
              "    <tr>\n",
              "      <th>1</th>\n",
              "      <td>2007.0</td>\n",
              "      <td>2.35</td>\n",
              "      <td>169.0</td>\n",
              "      <td>169.0</td>\n",
              "      <td>48350</td>\n",
              "      <td>300000000.0</td>\n",
              "      <td>7.1</td>\n",
              "      <td>309404152.0</td>\n",
              "    </tr>\n",
              "    <tr>\n",
              "      <th>2</th>\n",
              "      <td>2015.0</td>\n",
              "      <td>2.35</td>\n",
              "      <td>148.0</td>\n",
              "      <td>148.0</td>\n",
              "      <td>11700</td>\n",
              "      <td>245000000.0</td>\n",
              "      <td>6.8</td>\n",
              "      <td>200074175.0</td>\n",
              "    </tr>\n",
              "    <tr>\n",
              "      <th>3</th>\n",
              "      <td>2012.0</td>\n",
              "      <td>2.35</td>\n",
              "      <td>164.0</td>\n",
              "      <td>164.0</td>\n",
              "      <td>106759</td>\n",
              "      <td>250000000.0</td>\n",
              "      <td>8.5</td>\n",
              "      <td>448130642.0</td>\n",
              "    </tr>\n",
              "    <tr>\n",
              "      <th>4</th>\n",
              "      <td>NaN</td>\n",
              "      <td>NaN</td>\n",
              "      <td>NaN</td>\n",
              "      <td>NaN</td>\n",
              "      <td>143</td>\n",
              "      <td>NaN</td>\n",
              "      <td>7.1</td>\n",
              "      <td>NaN</td>\n",
              "    </tr>\n",
              "  </tbody>\n",
              "</table>\n",
              "</div>"
            ],
            "text/plain": [
              "   title_year  aspect_ratio  duration  ...       budget  imdb_score        gross\n",
              "0      2009.0          1.78     178.0  ...  237000000.0         7.9  760505847.0\n",
              "1      2007.0          2.35     169.0  ...  300000000.0         7.1  309404152.0\n",
              "2      2015.0          2.35     148.0  ...  245000000.0         6.8  200074175.0\n",
              "3      2012.0          2.35     164.0  ...  250000000.0         8.5  448130642.0\n",
              "4         NaN           NaN       NaN  ...          NaN         7.1          NaN\n",
              "\n",
              "[5 rows x 8 columns]"
            ]
          },
          "metadata": {
            "tags": []
          },
          "execution_count": 28
        }
      ]
    },
    {
      "cell_type": "code",
      "metadata": {
        "id": "zMIieeFxdW2r",
        "colab_type": "code",
        "colab": {
          "base_uri": "https://localhost:8080/",
          "height": 297
        },
        "outputId": "fc3d9a87-53d9-4413-ccf7-5cdc8f2b98ff"
      },
      "source": [
        "movies_num.describe() # Estadisticas de cada columna"
      ],
      "execution_count": 29,
      "outputs": [
        {
          "output_type": "execute_result",
          "data": {
            "text/html": [
              "<div>\n",
              "<style scoped>\n",
              "    .dataframe tbody tr th:only-of-type {\n",
              "        vertical-align: middle;\n",
              "    }\n",
              "\n",
              "    .dataframe tbody tr th {\n",
              "        vertical-align: top;\n",
              "    }\n",
              "\n",
              "    .dataframe thead th {\n",
              "        text-align: right;\n",
              "    }\n",
              "</style>\n",
              "<table border=\"1\" class=\"dataframe\">\n",
              "  <thead>\n",
              "    <tr style=\"text-align: right;\">\n",
              "      <th></th>\n",
              "      <th>title_year</th>\n",
              "      <th>aspect_ratio</th>\n",
              "      <th>duration</th>\n",
              "      <th>duration.1</th>\n",
              "      <th>cast_total_facebook_likes</th>\n",
              "      <th>budget</th>\n",
              "      <th>imdb_score</th>\n",
              "      <th>gross</th>\n",
              "    </tr>\n",
              "  </thead>\n",
              "  <tbody>\n",
              "    <tr>\n",
              "      <th>count</th>\n",
              "      <td>4935.000000</td>\n",
              "      <td>4714.000000</td>\n",
              "      <td>5028.000000</td>\n",
              "      <td>5028.000000</td>\n",
              "      <td>5043.000000</td>\n",
              "      <td>4.551000e+03</td>\n",
              "      <td>5043.000000</td>\n",
              "      <td>4.159000e+03</td>\n",
              "    </tr>\n",
              "    <tr>\n",
              "      <th>mean</th>\n",
              "      <td>2002.470517</td>\n",
              "      <td>2.220403</td>\n",
              "      <td>107.201074</td>\n",
              "      <td>107.201074</td>\n",
              "      <td>9699.063851</td>\n",
              "      <td>3.975262e+07</td>\n",
              "      <td>6.442138</td>\n",
              "      <td>4.846841e+07</td>\n",
              "    </tr>\n",
              "    <tr>\n",
              "      <th>std</th>\n",
              "      <td>12.474599</td>\n",
              "      <td>1.385113</td>\n",
              "      <td>25.197441</td>\n",
              "      <td>25.197441</td>\n",
              "      <td>18163.799124</td>\n",
              "      <td>2.061149e+08</td>\n",
              "      <td>1.125116</td>\n",
              "      <td>6.845299e+07</td>\n",
              "    </tr>\n",
              "    <tr>\n",
              "      <th>min</th>\n",
              "      <td>1916.000000</td>\n",
              "      <td>1.180000</td>\n",
              "      <td>7.000000</td>\n",
              "      <td>7.000000</td>\n",
              "      <td>0.000000</td>\n",
              "      <td>2.180000e+02</td>\n",
              "      <td>1.600000</td>\n",
              "      <td>1.620000e+02</td>\n",
              "    </tr>\n",
              "    <tr>\n",
              "      <th>25%</th>\n",
              "      <td>1999.000000</td>\n",
              "      <td>1.850000</td>\n",
              "      <td>93.000000</td>\n",
              "      <td>93.000000</td>\n",
              "      <td>1411.000000</td>\n",
              "      <td>6.000000e+06</td>\n",
              "      <td>5.800000</td>\n",
              "      <td>5.340988e+06</td>\n",
              "    </tr>\n",
              "    <tr>\n",
              "      <th>50%</th>\n",
              "      <td>2005.000000</td>\n",
              "      <td>2.350000</td>\n",
              "      <td>103.000000</td>\n",
              "      <td>103.000000</td>\n",
              "      <td>3090.000000</td>\n",
              "      <td>2.000000e+07</td>\n",
              "      <td>6.600000</td>\n",
              "      <td>2.551750e+07</td>\n",
              "    </tr>\n",
              "    <tr>\n",
              "      <th>75%</th>\n",
              "      <td>2011.000000</td>\n",
              "      <td>2.350000</td>\n",
              "      <td>118.000000</td>\n",
              "      <td>118.000000</td>\n",
              "      <td>13756.500000</td>\n",
              "      <td>4.500000e+07</td>\n",
              "      <td>7.200000</td>\n",
              "      <td>6.230944e+07</td>\n",
              "    </tr>\n",
              "    <tr>\n",
              "      <th>max</th>\n",
              "      <td>2016.000000</td>\n",
              "      <td>16.000000</td>\n",
              "      <td>511.000000</td>\n",
              "      <td>511.000000</td>\n",
              "      <td>656730.000000</td>\n",
              "      <td>1.221550e+10</td>\n",
              "      <td>9.500000</td>\n",
              "      <td>7.605058e+08</td>\n",
              "    </tr>\n",
              "  </tbody>\n",
              "</table>\n",
              "</div>"
            ],
            "text/plain": [
              "        title_year  aspect_ratio  ...   imdb_score         gross\n",
              "count  4935.000000   4714.000000  ...  5043.000000  4.159000e+03\n",
              "mean   2002.470517      2.220403  ...     6.442138  4.846841e+07\n",
              "std      12.474599      1.385113  ...     1.125116  6.845299e+07\n",
              "min    1916.000000      1.180000  ...     1.600000  1.620000e+02\n",
              "25%    1999.000000      1.850000  ...     5.800000  5.340988e+06\n",
              "50%    2005.000000      2.350000  ...     6.600000  2.551750e+07\n",
              "75%    2011.000000      2.350000  ...     7.200000  6.230944e+07\n",
              "max    2016.000000     16.000000  ...     9.500000  7.605058e+08\n",
              "\n",
              "[8 rows x 8 columns]"
            ]
          },
          "metadata": {
            "tags": []
          },
          "execution_count": 29
        }
      ]
    },
    {
      "cell_type": "code",
      "metadata": {
        "id": "rL_Vqzasd1xq",
        "colab_type": "code",
        "colab": {
          "base_uri": "https://localhost:8080/",
          "height": 173
        },
        "outputId": "e6493cc9-dddb-4ec3-e0f6-f6a3770abf66"
      },
      "source": [
        "movies[obj_cols].describe() # Para columnas texto da menos info, pero importante"
      ],
      "execution_count": 33,
      "outputs": [
        {
          "output_type": "execute_result",
          "data": {
            "text/html": [
              "<div>\n",
              "<style scoped>\n",
              "    .dataframe tbody tr th:only-of-type {\n",
              "        vertical-align: middle;\n",
              "    }\n",
              "\n",
              "    .dataframe tbody tr th {\n",
              "        vertical-align: top;\n",
              "    }\n",
              "\n",
              "    .dataframe thead th {\n",
              "        text-align: right;\n",
              "    }\n",
              "</style>\n",
              "<table border=\"1\" class=\"dataframe\">\n",
              "  <thead>\n",
              "    <tr style=\"text-align: right;\">\n",
              "      <th></th>\n",
              "      <th>movie_title</th>\n",
              "      <th>color</th>\n",
              "      <th>language</th>\n",
              "      <th>country</th>\n",
              "      <th>genres</th>\n",
              "      <th>content_rating</th>\n",
              "      <th>plot_keywords</th>\n",
              "      <th>director_name</th>\n",
              "      <th>actor_1_name</th>\n",
              "      <th>actor_2_name</th>\n",
              "      <th>actor_3_name</th>\n",
              "    </tr>\n",
              "  </thead>\n",
              "  <tbody>\n",
              "    <tr>\n",
              "      <th>count</th>\n",
              "      <td>5043</td>\n",
              "      <td>5024</td>\n",
              "      <td>5031</td>\n",
              "      <td>5038</td>\n",
              "      <td>5043</td>\n",
              "      <td>4740</td>\n",
              "      <td>4890</td>\n",
              "      <td>4939</td>\n",
              "      <td>5036</td>\n",
              "      <td>5030</td>\n",
              "      <td>5020</td>\n",
              "    </tr>\n",
              "    <tr>\n",
              "      <th>unique</th>\n",
              "      <td>4917</td>\n",
              "      <td>2</td>\n",
              "      <td>47</td>\n",
              "      <td>65</td>\n",
              "      <td>914</td>\n",
              "      <td>18</td>\n",
              "      <td>4760</td>\n",
              "      <td>2398</td>\n",
              "      <td>2097</td>\n",
              "      <td>3032</td>\n",
              "      <td>3521</td>\n",
              "    </tr>\n",
              "    <tr>\n",
              "      <th>top</th>\n",
              "      <td>Pan</td>\n",
              "      <td>Color</td>\n",
              "      <td>English</td>\n",
              "      <td>USA</td>\n",
              "      <td>Drama</td>\n",
              "      <td>R</td>\n",
              "      <td>based on novel</td>\n",
              "      <td>Steven Spielberg</td>\n",
              "      <td>Robert De Niro</td>\n",
              "      <td>Morgan Freeman</td>\n",
              "      <td>Ben Mendelsohn</td>\n",
              "    </tr>\n",
              "    <tr>\n",
              "      <th>freq</th>\n",
              "      <td>3</td>\n",
              "      <td>4815</td>\n",
              "      <td>4704</td>\n",
              "      <td>3807</td>\n",
              "      <td>236</td>\n",
              "      <td>2118</td>\n",
              "      <td>4</td>\n",
              "      <td>26</td>\n",
              "      <td>49</td>\n",
              "      <td>20</td>\n",
              "      <td>8</td>\n",
              "    </tr>\n",
              "  </tbody>\n",
              "</table>\n",
              "</div>"
            ],
            "text/plain": [
              "       movie_title  color  ...    actor_2_name    actor_3_name\n",
              "count         5043   5024  ...            5030            5020\n",
              "unique        4917      2  ...            3032            3521\n",
              "top           Pan   Color  ...  Morgan Freeman  Ben Mendelsohn\n",
              "freq             3   4815  ...              20               8\n",
              "\n",
              "[4 rows x 11 columns]"
            ]
          },
          "metadata": {
            "tags": []
          },
          "execution_count": 33
        }
      ]
    },
    {
      "cell_type": "code",
      "metadata": {
        "id": "MDDUr6cheX3x",
        "colab_type": "code",
        "colab": {
          "base_uri": "https://localhost:8080/",
          "height": 285
        },
        "outputId": "65c330dd-b0ea-4874-cc05-a92e908a5d92"
      },
      "source": [
        "movies_num['duration'].hist() # Histograma (por libreria pandas)"
      ],
      "execution_count": 36,
      "outputs": [
        {
          "output_type": "execute_result",
          "data": {
            "text/plain": [
              "<matplotlib.axes._subplots.AxesSubplot at 0x7f8cc0a7ca58>"
            ]
          },
          "metadata": {
            "tags": []
          },
          "execution_count": 36
        },
        {
          "output_type": "display_data",
          "data": {
            "image/png": "[encoded data removed]",
            "text/plain": [
              "<Figure size 432x288 with 1 Axes>"
            ]
          },
          "metadata": {
            "tags": []
          }
        }
      ]
    },
    {
      "cell_type": "code",
      "metadata": {
        "id": "beIs0o6TfUlQ",
        "colab_type": "code",
        "colab": {
          "base_uri": "https://localhost:8080/",
          "height": 282
        },
        "outputId": "26f307b1-7647-4f6a-9ec0-2291f62bc2b5"
      },
      "source": [
        "movies_num['imdb_score'].hist()"
      ],
      "execution_count": 37,
      "outputs": [
        {
          "output_type": "execute_result",
          "data": {
            "text/plain": [
              "<matplotlib.axes._subplots.AxesSubplot at 0x7f8cc0aca588>"
            ]
          },
          "metadata": {
            "tags": []
          },
          "execution_count": 37
        },
        {
          "output_type": "display_data",
          "data": {
            "image/png": "[encoded data removed]",
            "text/plain": [
              "<Figure size 432x288 with 1 Axes>"
            ]
          },
          "metadata": {
            "tags": []
          }
        }
      ]
    },
    {
      "cell_type": "code",
      "metadata": {
        "id": "HSCAUA2EgWtJ",
        "colab_type": "code",
        "colab": {
          "base_uri": "https://localhost:8080/",
          "height": 295
        },
        "outputId": "cbfa0973-cf4e-489e-c3ff-774197bcac4c"
      },
      "source": [
        "movies_num['budget'].hist() # Distribucion anomala"
      ],
      "execution_count": 46,
      "outputs": [
        {
          "output_type": "execute_result",
          "data": {
            "text/plain": [
              "<matplotlib.axes._subplots.AxesSubplot at 0x7f8cc0835898>"
            ]
          },
          "metadata": {
            "tags": []
          },
          "execution_count": 46
        },
        {
          "output_type": "display_data",
          "data": {
            "image/png": "[encoded data removed]",
            "text/plain": [
              "<Figure size 432x288 with 1 Axes>"
            ]
          },
          "metadata": {
            "tags": []
          }
        }
      ]
    },
    {
      "cell_type": "code",
      "metadata": {
        "id": "QaxAb_Xnhu2v",
        "colab_type": "code",
        "colab": {
          "base_uri": "https://localhost:8080/",
          "height": 374
        },
        "outputId": "cd959c0d-0c9e-4c43-e77d-7dd8247f3944"
      },
      "source": [
        "mask = movies_num.budget > 1e9\n",
        "movies[mask] # Peliculas extranjeras -> No se tomo en cuenta la moneda"
      ],
      "execution_count": 49,
      "outputs": [
        {
          "output_type": "execute_result",
          "data": {
            "text/html": [
              "<div>\n",
              "<style scoped>\n",
              "    .dataframe tbody tr th:only-of-type {\n",
              "        vertical-align: middle;\n",
              "    }\n",
              "\n",
              "    .dataframe tbody tr th {\n",
              "        vertical-align: top;\n",
              "    }\n",
              "\n",
              "    .dataframe thead th {\n",
              "        text-align: right;\n",
              "    }\n",
              "</style>\n",
              "<table border=\"1\" class=\"dataframe\">\n",
              "  <thead>\n",
              "    <tr style=\"text-align: right;\">\n",
              "      <th></th>\n",
              "      <th>movie_title</th>\n",
              "      <th>title_year</th>\n",
              "      <th>color</th>\n",
              "      <th>aspect_ratio</th>\n",
              "      <th>duration</th>\n",
              "      <th>language</th>\n",
              "      <th>country</th>\n",
              "      <th>duration.1</th>\n",
              "      <th>genres</th>\n",
              "      <th>content_rating</th>\n",
              "      <th>plot_keywords</th>\n",
              "      <th>director_name</th>\n",
              "      <th>actor_1_name</th>\n",
              "      <th>actor_2_name</th>\n",
              "      <th>actor_3_name</th>\n",
              "      <th>cast_total_facebook_likes</th>\n",
              "      <th>budget</th>\n",
              "      <th>imdb_score</th>\n",
              "      <th>gross</th>\n",
              "    </tr>\n",
              "  </thead>\n",
              "  <tbody>\n",
              "    <tr>\n",
              "      <th>2323</th>\n",
              "      <td>Princess Mononoke</td>\n",
              "      <td>1997.0</td>\n",
              "      <td>Color</td>\n",
              "      <td>1.85</td>\n",
              "      <td>134.0</td>\n",
              "      <td>Japanese</td>\n",
              "      <td>Japan</td>\n",
              "      <td>134.0</td>\n",
              "      <td>Adventure|Animation|Fantasy</td>\n",
              "      <td>PG-13</td>\n",
              "      <td>anime|cult film|forest|princess|studio ghibli</td>\n",
              "      <td>Hayao Miyazaki</td>\n",
              "      <td>Minnie Driver</td>\n",
              "      <td>Jada Pinkett Smith</td>\n",
              "      <td>Billy Crudup</td>\n",
              "      <td>2710</td>\n",
              "      <td>2.400000e+09</td>\n",
              "      <td>8.4</td>\n",
              "      <td>2298191.0</td>\n",
              "    </tr>\n",
              "    <tr>\n",
              "      <th>2334</th>\n",
              "      <td>Steamboy</td>\n",
              "      <td>2004.0</td>\n",
              "      <td>Color</td>\n",
              "      <td>1.85</td>\n",
              "      <td>103.0</td>\n",
              "      <td>Japanese</td>\n",
              "      <td>Japan</td>\n",
              "      <td>103.0</td>\n",
              "      <td>Action|Adventure|Animation|Family|Sci-Fi|Thriller</td>\n",
              "      <td>PG-13</td>\n",
              "      <td>19th century|ball|boy|inventor|steam</td>\n",
              "      <td>Katsuhiro Ôtomo</td>\n",
              "      <td>William Hootkins</td>\n",
              "      <td>Robin Atkin Downes</td>\n",
              "      <td>Rosalind Ayres</td>\n",
              "      <td>991</td>\n",
              "      <td>2.127520e+09</td>\n",
              "      <td>6.9</td>\n",
              "      <td>410388.0</td>\n",
              "    </tr>\n",
              "    <tr>\n",
              "      <th>2988</th>\n",
              "      <td>The Host</td>\n",
              "      <td>2006.0</td>\n",
              "      <td>Color</td>\n",
              "      <td>1.85</td>\n",
              "      <td>110.0</td>\n",
              "      <td>Korean</td>\n",
              "      <td>South Korea</td>\n",
              "      <td>110.0</td>\n",
              "      <td>Comedy|Drama|Horror|Sci-Fi</td>\n",
              "      <td>R</td>\n",
              "      <td>daughter|han river|monster|river|seoul</td>\n",
              "      <td>Joon-ho Bong</td>\n",
              "      <td>Doona Bae</td>\n",
              "      <td>Kang-ho Song</td>\n",
              "      <td>Ah-sung Ko</td>\n",
              "      <td>1173</td>\n",
              "      <td>1.221550e+10</td>\n",
              "      <td>7.0</td>\n",
              "      <td>2201412.0</td>\n",
              "    </tr>\n",
              "    <tr>\n",
              "      <th>3005</th>\n",
              "      <td>Fateless</td>\n",
              "      <td>2005.0</td>\n",
              "      <td>Color</td>\n",
              "      <td>2.35</td>\n",
              "      <td>134.0</td>\n",
              "      <td>Hungarian</td>\n",
              "      <td>Hungary</td>\n",
              "      <td>134.0</td>\n",
              "      <td>Drama|Romance|War</td>\n",
              "      <td>R</td>\n",
              "      <td>bus|death|gay slur|hatred|jewish</td>\n",
              "      <td>Lajos Koltai</td>\n",
              "      <td>Marcell Nagy</td>\n",
              "      <td>Péter Fancsikai</td>\n",
              "      <td>Bálint Péntek</td>\n",
              "      <td>11</td>\n",
              "      <td>2.500000e+09</td>\n",
              "      <td>7.1</td>\n",
              "      <td>195888.0</td>\n",
              "    </tr>\n",
              "    <tr>\n",
              "      <th>3423</th>\n",
              "      <td>Akira</td>\n",
              "      <td>1988.0</td>\n",
              "      <td>Color</td>\n",
              "      <td>1.85</td>\n",
              "      <td>124.0</td>\n",
              "      <td>Japanese</td>\n",
              "      <td>Japan</td>\n",
              "      <td>124.0</td>\n",
              "      <td>Action|Animation|Sci-Fi</td>\n",
              "      <td>R</td>\n",
              "      <td>based on manga|biker gang|gifted child|post th...</td>\n",
              "      <td>Katsuhiro Ôtomo</td>\n",
              "      <td>Mitsuo Iwata</td>\n",
              "      <td>Takeshi Kusao</td>\n",
              "      <td>Tesshô Genda</td>\n",
              "      <td>28</td>\n",
              "      <td>1.100000e+09</td>\n",
              "      <td>8.1</td>\n",
              "      <td>439162.0</td>\n",
              "    </tr>\n",
              "    <tr>\n",
              "      <th>3859</th>\n",
              "      <td>Lady Vengeance</td>\n",
              "      <td>2005.0</td>\n",
              "      <td>Color</td>\n",
              "      <td>2.35</td>\n",
              "      <td>112.0</td>\n",
              "      <td>Korean</td>\n",
              "      <td>South Korea</td>\n",
              "      <td>112.0</td>\n",
              "      <td>Crime|Drama</td>\n",
              "      <td>R</td>\n",
              "      <td>cake|christian|lesbian sex|oral sex|pregnant s...</td>\n",
              "      <td>Chan-wook Park</td>\n",
              "      <td>Min-sik Choi</td>\n",
              "      <td>Yeong-ae Lee</td>\n",
              "      <td>Hye-jeong Kang</td>\n",
              "      <td>907</td>\n",
              "      <td>4.200000e+09</td>\n",
              "      <td>7.7</td>\n",
              "      <td>211667.0</td>\n",
              "    </tr>\n",
              "  </tbody>\n",
              "</table>\n",
              "</div>"
            ],
            "text/plain": [
              "             movie_title  title_year  ... imdb_score      gross\n",
              "2323  Princess Mononoke       1997.0  ...        8.4  2298191.0\n",
              "2334           Steamboy       2004.0  ...        6.9   410388.0\n",
              "2988           The Host       2006.0  ...        7.0  2201412.0\n",
              "3005           Fateless       2005.0  ...        7.1   195888.0\n",
              "3423              Akira       1988.0  ...        8.1   439162.0\n",
              "3859     Lady Vengeance       2005.0  ...        7.7   211667.0\n",
              "\n",
              "[6 rows x 19 columns]"
            ]
          },
          "metadata": {
            "tags": []
          },
          "execution_count": 49
        }
      ]
    },
    {
      "cell_type": "markdown",
      "metadata": {
        "id": "lLJtrMd3irN4",
        "colab_type": "text"
      },
      "source": [
        "# **Limpieza de datos**\n",
        "\n",
        "---\n",
        "\n"
      ]
    },
    {
      "cell_type": "code",
      "metadata": {
        "id": "OOcLIVynii_c",
        "colab_type": "code",
        "colab": {
          "base_uri": "https://localhost:8080/",
          "height": 357
        },
        "outputId": "1a435b4d-43b6-4fa7-db73-607e8bc32e38"
      },
      "source": [
        "financials = pd.read_csv('thenumbers.csv')\n",
        "financials.head()"
      ],
      "execution_count": 52,
      "outputs": [
        {
          "output_type": "execute_result",
          "data": {
            "text/html": [
              "<div>\n",
              "<style scoped>\n",
              "    .dataframe tbody tr th:only-of-type {\n",
              "        vertical-align: middle;\n",
              "    }\n",
              "\n",
              "    .dataframe tbody tr th {\n",
              "        vertical-align: top;\n",
              "    }\n",
              "\n",
              "    .dataframe thead th {\n",
              "        text-align: right;\n",
              "    }\n",
              "</style>\n",
              "<table border=\"1\" class=\"dataframe\">\n",
              "  <thead>\n",
              "    <tr style=\"text-align: right;\">\n",
              "      <th></th>\n",
              "      <th>Unnamed: 0</th>\n",
              "      <th>movie_name</th>\n",
              "      <th>domestic_gross</th>\n",
              "      <th>movie_link</th>\n",
              "      <th>production_budget</th>\n",
              "      <th>release_date</th>\n",
              "      <th>worldwide_gross</th>\n",
              "      <th>movie_title</th>\n",
              "    </tr>\n",
              "  </thead>\n",
              "  <tbody>\n",
              "    <tr>\n",
              "      <th>0</th>\n",
              "      <td>0</td>\n",
              "      <td>Avatar</td>\n",
              "      <td>760507625</td>\n",
              "      <td>http://www.the-numbers.com/movie/Avatar#tab=su...</td>\n",
              "      <td>425000000</td>\n",
              "      <td>12/18/2009</td>\n",
              "      <td>2783918982</td>\n",
              "      <td>Avatar</td>\n",
              "    </tr>\n",
              "    <tr>\n",
              "      <th>1</th>\n",
              "      <td>1</td>\n",
              "      <td>Star Wars Ep. VII: The Force Awakens</td>\n",
              "      <td>936662225</td>\n",
              "      <td>http://www.the-numbers.com/movie/Star-Wars-Ep-...</td>\n",
              "      <td>306000000</td>\n",
              "      <td>12/18/2015</td>\n",
              "      <td>2058662225</td>\n",
              "      <td>Star Wars: Episode VII - The Force Awakens    ...</td>\n",
              "    </tr>\n",
              "    <tr>\n",
              "      <th>2</th>\n",
              "      <td>2</td>\n",
              "      <td>Pirates of the Caribbean: At World's End</td>\n",
              "      <td>309420425</td>\n",
              "      <td>http://www.the-numbers.com/movie/Pirates-of-th...</td>\n",
              "      <td>300000000</td>\n",
              "      <td>5/24/2007</td>\n",
              "      <td>963420425</td>\n",
              "      <td>Pirates of the Caribbean: At World's End</td>\n",
              "    </tr>\n",
              "    <tr>\n",
              "      <th>3</th>\n",
              "      <td>3</td>\n",
              "      <td>Spectre</td>\n",
              "      <td>200074175</td>\n",
              "      <td>http://www.the-numbers.com/movie/Spectre#tab=s...</td>\n",
              "      <td>300000000</td>\n",
              "      <td>11/6/2015</td>\n",
              "      <td>879620923</td>\n",
              "      <td>Spectre</td>\n",
              "    </tr>\n",
              "    <tr>\n",
              "      <th>4</th>\n",
              "      <td>4</td>\n",
              "      <td>The Dark Knight Rises</td>\n",
              "      <td>448139099</td>\n",
              "      <td>http://www.the-numbers.com/movie/Dark-Knight-R...</td>\n",
              "      <td>275000000</td>\n",
              "      <td>7/20/2012</td>\n",
              "      <td>1084439099</td>\n",
              "      <td>The Dark Knight Rises</td>\n",
              "    </tr>\n",
              "  </tbody>\n",
              "</table>\n",
              "</div>"
            ],
            "text/plain": [
              "   Unnamed: 0  ...                                        movie_title\n",
              "0           0  ...                                            Avatar \n",
              "1           1  ...  Star Wars: Episode VII - The Force Awakens    ...\n",
              "2           2  ...          Pirates of the Caribbean: At World's End \n",
              "3           3  ...                                           Spectre \n",
              "4           4  ...                             The Dark Knight Rises \n",
              "\n",
              "[5 rows x 8 columns]"
            ]
          },
          "metadata": {
            "tags": []
          },
          "execution_count": 52
        }
      ]
    },
    {
      "cell_type": "code",
      "metadata": {
        "id": "DLk4vKqpkVxT",
        "colab_type": "code",
        "colab": {
          "base_uri": "https://localhost:8080/",
          "height": 204
        },
        "outputId": "9e5d69d6-1acb-4616-f759-a905532c01a9"
      },
      "source": [
        "financials = financials[['movie_title', 'production_budget', 'worldwide_gross']]\n",
        "financials.head()"
      ],
      "execution_count": 54,
      "outputs": [
        {
          "output_type": "execute_result",
          "data": {
            "text/html": [
              "<div>\n",
              "<style scoped>\n",
              "    .dataframe tbody tr th:only-of-type {\n",
              "        vertical-align: middle;\n",
              "    }\n",
              "\n",
              "    .dataframe tbody tr th {\n",
              "        vertical-align: top;\n",
              "    }\n",
              "\n",
              "    .dataframe thead th {\n",
              "        text-align: right;\n",
              "    }\n",
              "</style>\n",
              "<table border=\"1\" class=\"dataframe\">\n",
              "  <thead>\n",
              "    <tr style=\"text-align: right;\">\n",
              "      <th></th>\n",
              "      <th>movie_title</th>\n",
              "      <th>production_budget</th>\n",
              "      <th>worldwide_gross</th>\n",
              "    </tr>\n",
              "  </thead>\n",
              "  <tbody>\n",
              "    <tr>\n",
              "      <th>0</th>\n",
              "      <td>Avatar</td>\n",
              "      <td>425000000</td>\n",
              "      <td>2783918982</td>\n",
              "    </tr>\n",
              "    <tr>\n",
              "      <th>1</th>\n",
              "      <td>Star Wars: Episode VII - The Force Awakens    ...</td>\n",
              "      <td>306000000</td>\n",
              "      <td>2058662225</td>\n",
              "    </tr>\n",
              "    <tr>\n",
              "      <th>2</th>\n",
              "      <td>Pirates of the Caribbean: At World's End</td>\n",
              "      <td>300000000</td>\n",
              "      <td>963420425</td>\n",
              "    </tr>\n",
              "    <tr>\n",
              "      <th>3</th>\n",
              "      <td>Spectre</td>\n",
              "      <td>300000000</td>\n",
              "      <td>879620923</td>\n",
              "    </tr>\n",
              "    <tr>\n",
              "      <th>4</th>\n",
              "      <td>The Dark Knight Rises</td>\n",
              "      <td>275000000</td>\n",
              "      <td>1084439099</td>\n",
              "    </tr>\n",
              "  </tbody>\n",
              "</table>\n",
              "</div>"
            ],
            "text/plain": [
              "                                         movie_title  ...  worldwide_gross\n",
              "0                                            Avatar   ...       2783918982\n",
              "1  Star Wars: Episode VII - The Force Awakens    ...  ...       2058662225\n",
              "2          Pirates of the Caribbean: At World's End   ...        963420425\n",
              "3                                           Spectre   ...        879620923\n",
              "4                             The Dark Knight Rises   ...       1084439099\n",
              "\n",
              "[5 rows x 3 columns]"
            ]
          },
          "metadata": {
            "tags": []
          },
          "execution_count": 54
        }
      ]
    },
    {
      "cell_type": "code",
      "metadata": {
        "id": "XK-Ay9qWlIK1",
        "colab_type": "code",
        "colab": {
          "base_uri": "https://localhost:8080/",
          "height": 34
        },
        "outputId": "62887d01-2955-47a8-e793-237b545d15c6"
      },
      "source": [
        "movies_num.shape, financials.shape # Perderemos (5043 - 4341) datos al unir"
      ],
      "execution_count": 55,
      "outputs": [
        {
          "output_type": "execute_result",
          "data": {
            "text/plain": [
              "((5043, 8), (4341, 3))"
            ]
          },
          "metadata": {
            "tags": []
          },
          "execution_count": 55
        }
      ]
    },
    {
      "cell_type": "code",
      "metadata": {
        "id": "HaZn-3hNlvVZ",
        "colab_type": "code",
        "colab": {}
      },
      "source": [
        "# Concatena los dataframes pasados en la lista\n",
        "# Axis = 1: Para que una columna por columna (y no fila por fila)\n",
        "movies_num = pd.concat([movies_num, movies['movie_title']], axis=1)"
      ],
      "execution_count": 0,
      "outputs": []
    },
    {
      "cell_type": "code",
      "metadata": {
        "id": "Ctq2mN7gmaWS",
        "colab_type": "code",
        "colab": {
          "base_uri": "https://localhost:8080/",
          "height": 221
        },
        "outputId": "a122203b-946d-4238-ef37-f8a9c1638946"
      },
      "source": [
        "movies_num.head()"
      ],
      "execution_count": 62,
      "outputs": [
        {
          "output_type": "execute_result",
          "data": {
            "text/html": [
              "<div>\n",
              "<style scoped>\n",
              "    .dataframe tbody tr th:only-of-type {\n",
              "        vertical-align: middle;\n",
              "    }\n",
              "\n",
              "    .dataframe tbody tr th {\n",
              "        vertical-align: top;\n",
              "    }\n",
              "\n",
              "    .dataframe thead th {\n",
              "        text-align: right;\n",
              "    }\n",
              "</style>\n",
              "<table border=\"1\" class=\"dataframe\">\n",
              "  <thead>\n",
              "    <tr style=\"text-align: right;\">\n",
              "      <th></th>\n",
              "      <th>title_year</th>\n",
              "      <th>aspect_ratio</th>\n",
              "      <th>duration</th>\n",
              "      <th>duration.1</th>\n",
              "      <th>cast_total_facebook_likes</th>\n",
              "      <th>budget</th>\n",
              "      <th>imdb_score</th>\n",
              "      <th>gross</th>\n",
              "      <th>movie_title</th>\n",
              "    </tr>\n",
              "  </thead>\n",
              "  <tbody>\n",
              "    <tr>\n",
              "      <th>0</th>\n",
              "      <td>2009.0</td>\n",
              "      <td>1.78</td>\n",
              "      <td>178.0</td>\n",
              "      <td>178.0</td>\n",
              "      <td>4834</td>\n",
              "      <td>237000000.0</td>\n",
              "      <td>7.9</td>\n",
              "      <td>760505847.0</td>\n",
              "      <td>Avatar</td>\n",
              "    </tr>\n",
              "    <tr>\n",
              "      <th>1</th>\n",
              "      <td>2007.0</td>\n",
              "      <td>2.35</td>\n",
              "      <td>169.0</td>\n",
              "      <td>169.0</td>\n",
              "      <td>48350</td>\n",
              "      <td>300000000.0</td>\n",
              "      <td>7.1</td>\n",
              "      <td>309404152.0</td>\n",
              "      <td>Pirates of the Caribbean: At World's End</td>\n",
              "    </tr>\n",
              "    <tr>\n",
              "      <th>2</th>\n",
              "      <td>2015.0</td>\n",
              "      <td>2.35</td>\n",
              "      <td>148.0</td>\n",
              "      <td>148.0</td>\n",
              "      <td>11700</td>\n",
              "      <td>245000000.0</td>\n",
              "      <td>6.8</td>\n",
              "      <td>200074175.0</td>\n",
              "      <td>Spectre</td>\n",
              "    </tr>\n",
              "    <tr>\n",
              "      <th>3</th>\n",
              "      <td>2012.0</td>\n",
              "      <td>2.35</td>\n",
              "      <td>164.0</td>\n",
              "      <td>164.0</td>\n",
              "      <td>106759</td>\n",
              "      <td>250000000.0</td>\n",
              "      <td>8.5</td>\n",
              "      <td>448130642.0</td>\n",
              "      <td>The Dark Knight Rises</td>\n",
              "    </tr>\n",
              "    <tr>\n",
              "      <th>4</th>\n",
              "      <td>NaN</td>\n",
              "      <td>NaN</td>\n",
              "      <td>NaN</td>\n",
              "      <td>NaN</td>\n",
              "      <td>143</td>\n",
              "      <td>NaN</td>\n",
              "      <td>7.1</td>\n",
              "      <td>NaN</td>\n",
              "      <td>Star Wars: Episode VII - The Force Awakens    ...</td>\n",
              "    </tr>\n",
              "  </tbody>\n",
              "</table>\n",
              "</div>"
            ],
            "text/plain": [
              "   title_year  ...                                        movie_title\n",
              "0      2009.0  ...                                            Avatar \n",
              "1      2007.0  ...          Pirates of the Caribbean: At World's End \n",
              "2      2015.0  ...                                           Spectre \n",
              "3      2012.0  ...                             The Dark Knight Rises \n",
              "4         NaN  ...  Star Wars: Episode VII - The Force Awakens    ...\n",
              "\n",
              "[5 rows x 9 columns]"
            ]
          },
          "metadata": {
            "tags": []
          },
          "execution_count": 62
        }
      ]
    },
    {
      "cell_type": "code",
      "metadata": {
        "id": "ANQyiALim_AE",
        "colab_type": "code",
        "colab": {}
      },
      "source": [
        "movies_v2 = pd.merge(financials, movies_num, how='left', on='movie_title')"
      ],
      "execution_count": 0,
      "outputs": []
    },
    {
      "cell_type": "markdown",
      "metadata": {
        "id": "OW-YTx7Lq6cK",
        "colab_type": "text"
      },
      "source": [
        "# **Manejo de datos faltantes**\n",
        "\n",
        "---\n",
        "\n"
      ]
    },
    {
      "cell_type": "code",
      "metadata": {
        "id": "gsROnC1FqBK2",
        "colab_type": "code",
        "colab": {
          "base_uri": "https://localhost:8080/",
          "height": 439
        },
        "outputId": "3a1db6e3-9865-4af7-e39c-fcbab9d901ac"
      },
      "source": [
        "movies_v2.notnull() # Devuelve booleano segun si un dato es no-nulo o no"
      ],
      "execution_count": 73,
      "outputs": [
        {
          "output_type": "execute_result",
          "data": {
            "text/html": [
              "<div>\n",
              "<style scoped>\n",
              "    .dataframe tbody tr th:only-of-type {\n",
              "        vertical-align: middle;\n",
              "    }\n",
              "\n",
              "    .dataframe tbody tr th {\n",
              "        vertical-align: top;\n",
              "    }\n",
              "\n",
              "    .dataframe thead th {\n",
              "        text-align: right;\n",
              "    }\n",
              "</style>\n",
              "<table border=\"1\" class=\"dataframe\">\n",
              "  <thead>\n",
              "    <tr style=\"text-align: right;\">\n",
              "      <th></th>\n",
              "      <th>movie_title</th>\n",
              "      <th>production_budget</th>\n",
              "      <th>worldwide_gross</th>\n",
              "      <th>title_year</th>\n",
              "      <th>aspect_ratio</th>\n",
              "      <th>duration</th>\n",
              "      <th>duration.1</th>\n",
              "      <th>cast_total_facebook_likes</th>\n",
              "      <th>budget</th>\n",
              "      <th>imdb_score</th>\n",
              "      <th>gross</th>\n",
              "    </tr>\n",
              "  </thead>\n",
              "  <tbody>\n",
              "    <tr>\n",
              "      <th>0</th>\n",
              "      <td>True</td>\n",
              "      <td>True</td>\n",
              "      <td>True</td>\n",
              "      <td>True</td>\n",
              "      <td>True</td>\n",
              "      <td>True</td>\n",
              "      <td>True</td>\n",
              "      <td>True</td>\n",
              "      <td>True</td>\n",
              "      <td>True</td>\n",
              "      <td>True</td>\n",
              "    </tr>\n",
              "    <tr>\n",
              "      <th>1</th>\n",
              "      <td>True</td>\n",
              "      <td>True</td>\n",
              "      <td>True</td>\n",
              "      <td>False</td>\n",
              "      <td>False</td>\n",
              "      <td>False</td>\n",
              "      <td>False</td>\n",
              "      <td>True</td>\n",
              "      <td>False</td>\n",
              "      <td>True</td>\n",
              "      <td>False</td>\n",
              "    </tr>\n",
              "    <tr>\n",
              "      <th>2</th>\n",
              "      <td>True</td>\n",
              "      <td>True</td>\n",
              "      <td>True</td>\n",
              "      <td>True</td>\n",
              "      <td>True</td>\n",
              "      <td>True</td>\n",
              "      <td>True</td>\n",
              "      <td>True</td>\n",
              "      <td>True</td>\n",
              "      <td>True</td>\n",
              "      <td>True</td>\n",
              "    </tr>\n",
              "    <tr>\n",
              "      <th>3</th>\n",
              "      <td>True</td>\n",
              "      <td>True</td>\n",
              "      <td>True</td>\n",
              "      <td>True</td>\n",
              "      <td>True</td>\n",
              "      <td>True</td>\n",
              "      <td>True</td>\n",
              "      <td>True</td>\n",
              "      <td>True</td>\n",
              "      <td>True</td>\n",
              "      <td>True</td>\n",
              "    </tr>\n",
              "    <tr>\n",
              "      <th>4</th>\n",
              "      <td>True</td>\n",
              "      <td>True</td>\n",
              "      <td>True</td>\n",
              "      <td>True</td>\n",
              "      <td>True</td>\n",
              "      <td>True</td>\n",
              "      <td>True</td>\n",
              "      <td>True</td>\n",
              "      <td>True</td>\n",
              "      <td>True</td>\n",
              "      <td>True</td>\n",
              "    </tr>\n",
              "    <tr>\n",
              "      <th>...</th>\n",
              "      <td>...</td>\n",
              "      <td>...</td>\n",
              "      <td>...</td>\n",
              "      <td>...</td>\n",
              "      <td>...</td>\n",
              "      <td>...</td>\n",
              "      <td>...</td>\n",
              "      <td>...</td>\n",
              "      <td>...</td>\n",
              "      <td>...</td>\n",
              "      <td>...</td>\n",
              "    </tr>\n",
              "    <tr>\n",
              "      <th>4380</th>\n",
              "      <td>True</td>\n",
              "      <td>True</td>\n",
              "      <td>True</td>\n",
              "      <td>True</td>\n",
              "      <td>False</td>\n",
              "      <td>True</td>\n",
              "      <td>True</td>\n",
              "      <td>True</td>\n",
              "      <td>True</td>\n",
              "      <td>True</td>\n",
              "      <td>False</td>\n",
              "    </tr>\n",
              "    <tr>\n",
              "      <th>4381</th>\n",
              "      <td>True</td>\n",
              "      <td>True</td>\n",
              "      <td>True</td>\n",
              "      <td>True</td>\n",
              "      <td>False</td>\n",
              "      <td>True</td>\n",
              "      <td>True</td>\n",
              "      <td>True</td>\n",
              "      <td>False</td>\n",
              "      <td>True</td>\n",
              "      <td>False</td>\n",
              "    </tr>\n",
              "    <tr>\n",
              "      <th>4382</th>\n",
              "      <td>True</td>\n",
              "      <td>True</td>\n",
              "      <td>True</td>\n",
              "      <td>True</td>\n",
              "      <td>True</td>\n",
              "      <td>True</td>\n",
              "      <td>True</td>\n",
              "      <td>True</td>\n",
              "      <td>False</td>\n",
              "      <td>True</td>\n",
              "      <td>True</td>\n",
              "    </tr>\n",
              "    <tr>\n",
              "      <th>4383</th>\n",
              "      <td>True</td>\n",
              "      <td>True</td>\n",
              "      <td>True</td>\n",
              "      <td>True</td>\n",
              "      <td>False</td>\n",
              "      <td>True</td>\n",
              "      <td>True</td>\n",
              "      <td>True</td>\n",
              "      <td>True</td>\n",
              "      <td>True</td>\n",
              "      <td>False</td>\n",
              "    </tr>\n",
              "    <tr>\n",
              "      <th>4384</th>\n",
              "      <td>True</td>\n",
              "      <td>True</td>\n",
              "      <td>True</td>\n",
              "      <td>True</td>\n",
              "      <td>True</td>\n",
              "      <td>True</td>\n",
              "      <td>True</td>\n",
              "      <td>True</td>\n",
              "      <td>True</td>\n",
              "      <td>True</td>\n",
              "      <td>True</td>\n",
              "    </tr>\n",
              "  </tbody>\n",
              "</table>\n",
              "<p>4385 rows × 11 columns</p>\n",
              "</div>"
            ],
            "text/plain": [
              "      movie_title  production_budget  ...  imdb_score  gross\n",
              "0            True               True  ...        True   True\n",
              "1            True               True  ...        True  False\n",
              "2            True               True  ...        True   True\n",
              "3            True               True  ...        True   True\n",
              "4            True               True  ...        True   True\n",
              "...           ...                ...  ...         ...    ...\n",
              "4380         True               True  ...        True  False\n",
              "4381         True               True  ...        True  False\n",
              "4382         True               True  ...        True   True\n",
              "4383         True               True  ...        True  False\n",
              "4384         True               True  ...        True   True\n",
              "\n",
              "[4385 rows x 11 columns]"
            ]
          },
          "metadata": {
            "tags": []
          },
          "execution_count": 73
        }
      ]
    },
    {
      "cell_type": "code",
      "metadata": {
        "id": "ZILlEfCZr958",
        "colab_type": "code",
        "colab": {
          "base_uri": "https://localhost:8080/",
          "height": 131
        },
        "outputId": "a2121106-f98a-48f8-8202-b429ec4bf719"
      },
      "source": [
        "# Apply aplica la funcion pasada a los valores a lo largo de un axis\n",
        "movies_v2.notnull().apply(pd.Series.value_counts)"
      ],
      "execution_count": 81,
      "outputs": [
        {
          "output_type": "execute_result",
          "data": {
            "text/html": [
              "<div>\n",
              "<style scoped>\n",
              "    .dataframe tbody tr th:only-of-type {\n",
              "        vertical-align: middle;\n",
              "    }\n",
              "\n",
              "    .dataframe tbody tr th {\n",
              "        vertical-align: top;\n",
              "    }\n",
              "\n",
              "    .dataframe thead th {\n",
              "        text-align: right;\n",
              "    }\n",
              "</style>\n",
              "<table border=\"1\" class=\"dataframe\">\n",
              "  <thead>\n",
              "    <tr style=\"text-align: right;\">\n",
              "      <th></th>\n",
              "      <th>movie_title</th>\n",
              "      <th>production_budget</th>\n",
              "      <th>worldwide_gross</th>\n",
              "      <th>title_year</th>\n",
              "      <th>aspect_ratio</th>\n",
              "      <th>duration</th>\n",
              "      <th>duration.1</th>\n",
              "      <th>cast_total_facebook_likes</th>\n",
              "      <th>budget</th>\n",
              "      <th>imdb_score</th>\n",
              "      <th>gross</th>\n",
              "    </tr>\n",
              "  </thead>\n",
              "  <tbody>\n",
              "    <tr>\n",
              "      <th>False</th>\n",
              "      <td>NaN</td>\n",
              "      <td>NaN</td>\n",
              "      <td>NaN</td>\n",
              "      <td>27</td>\n",
              "      <td>274</td>\n",
              "      <td>13</td>\n",
              "      <td>13</td>\n",
              "      <td>NaN</td>\n",
              "      <td>335</td>\n",
              "      <td>NaN</td>\n",
              "      <td>671</td>\n",
              "    </tr>\n",
              "    <tr>\n",
              "      <th>True</th>\n",
              "      <td>4385.0</td>\n",
              "      <td>4385.0</td>\n",
              "      <td>4385.0</td>\n",
              "      <td>4358</td>\n",
              "      <td>4111</td>\n",
              "      <td>4372</td>\n",
              "      <td>4372</td>\n",
              "      <td>4385.0</td>\n",
              "      <td>4050</td>\n",
              "      <td>4385.0</td>\n",
              "      <td>3714</td>\n",
              "    </tr>\n",
              "  </tbody>\n",
              "</table>\n",
              "</div>"
            ],
            "text/plain": [
              "       movie_title  production_budget  ...  imdb_score  gross\n",
              "False          NaN                NaN  ...         NaN    671\n",
              "True        4385.0             4385.0  ...      4385.0   3714\n",
              "\n",
              "[2 rows x 11 columns]"
            ]
          },
          "metadata": {
            "tags": []
          },
          "execution_count": 81
        }
      ]
    },
    {
      "cell_type": "code",
      "metadata": {
        "id": "ChmsMq8Vtf1R",
        "colab_type": "code",
        "colab": {
          "base_uri": "https://localhost:8080/",
          "height": 131
        },
        "outputId": "7a536e32-4b9c-49aa-ecda-9e875555662a"
      },
      "source": [
        "(movies_v2 != 0).apply(pd.Series.value_counts) # Valores diferentes de cero"
      ],
      "execution_count": 83,
      "outputs": [
        {
          "output_type": "execute_result",
          "data": {
            "text/html": [
              "<div>\n",
              "<style scoped>\n",
              "    .dataframe tbody tr th:only-of-type {\n",
              "        vertical-align: middle;\n",
              "    }\n",
              "\n",
              "    .dataframe tbody tr th {\n",
              "        vertical-align: top;\n",
              "    }\n",
              "\n",
              "    .dataframe thead th {\n",
              "        text-align: right;\n",
              "    }\n",
              "</style>\n",
              "<table border=\"1\" class=\"dataframe\">\n",
              "  <thead>\n",
              "    <tr style=\"text-align: right;\">\n",
              "      <th></th>\n",
              "      <th>movie_title</th>\n",
              "      <th>production_budget</th>\n",
              "      <th>worldwide_gross</th>\n",
              "      <th>title_year</th>\n",
              "      <th>aspect_ratio</th>\n",
              "      <th>duration</th>\n",
              "      <th>duration.1</th>\n",
              "      <th>cast_total_facebook_likes</th>\n",
              "      <th>budget</th>\n",
              "      <th>imdb_score</th>\n",
              "      <th>gross</th>\n",
              "    </tr>\n",
              "  </thead>\n",
              "  <tbody>\n",
              "    <tr>\n",
              "      <th>False</th>\n",
              "      <td>NaN</td>\n",
              "      <td>NaN</td>\n",
              "      <td>281</td>\n",
              "      <td>NaN</td>\n",
              "      <td>NaN</td>\n",
              "      <td>NaN</td>\n",
              "      <td>NaN</td>\n",
              "      <td>27</td>\n",
              "      <td>NaN</td>\n",
              "      <td>NaN</td>\n",
              "      <td>NaN</td>\n",
              "    </tr>\n",
              "    <tr>\n",
              "      <th>True</th>\n",
              "      <td>4385.0</td>\n",
              "      <td>4385.0</td>\n",
              "      <td>4104</td>\n",
              "      <td>4385.0</td>\n",
              "      <td>4385.0</td>\n",
              "      <td>4385.0</td>\n",
              "      <td>4385.0</td>\n",
              "      <td>4358</td>\n",
              "      <td>4385.0</td>\n",
              "      <td>4385.0</td>\n",
              "      <td>4385.0</td>\n",
              "    </tr>\n",
              "  </tbody>\n",
              "</table>\n",
              "</div>"
            ],
            "text/plain": [
              "       movie_title  production_budget  ...  imdb_score   gross\n",
              "False          NaN                NaN  ...         NaN     NaN\n",
              "True        4385.0             4385.0  ...      4385.0  4385.0\n",
              "\n",
              "[2 rows x 11 columns]"
            ]
          },
          "metadata": {
            "tags": []
          },
          "execution_count": 83
        }
      ]
    },
    {
      "cell_type": "code",
      "metadata": {
        "id": "ZO70ccs8ukWS",
        "colab_type": "code",
        "colab": {
          "base_uri": "https://localhost:8080/",
          "height": 439
        },
        "outputId": "50ecfcaa-ba11-4830-a123-c59a680bb725"
      },
      "source": [
        "availabe = (movies_v2 != 0) & (movies_v2.notnull())\n",
        "availabe"
      ],
      "execution_count": 84,
      "outputs": [
        {
          "output_type": "execute_result",
          "data": {
            "text/html": [
              "<div>\n",
              "<style scoped>\n",
              "    .dataframe tbody tr th:only-of-type {\n",
              "        vertical-align: middle;\n",
              "    }\n",
              "\n",
              "    .dataframe tbody tr th {\n",
              "        vertical-align: top;\n",
              "    }\n",
              "\n",
              "    .dataframe thead th {\n",
              "        text-align: right;\n",
              "    }\n",
              "</style>\n",
              "<table border=\"1\" class=\"dataframe\">\n",
              "  <thead>\n",
              "    <tr style=\"text-align: right;\">\n",
              "      <th></th>\n",
              "      <th>movie_title</th>\n",
              "      <th>production_budget</th>\n",
              "      <th>worldwide_gross</th>\n",
              "      <th>title_year</th>\n",
              "      <th>aspect_ratio</th>\n",
              "      <th>duration</th>\n",
              "      <th>duration.1</th>\n",
              "      <th>cast_total_facebook_likes</th>\n",
              "      <th>budget</th>\n",
              "      <th>imdb_score</th>\n",
              "      <th>gross</th>\n",
              "    </tr>\n",
              "  </thead>\n",
              "  <tbody>\n",
              "    <tr>\n",
              "      <th>0</th>\n",
              "      <td>True</td>\n",
              "      <td>True</td>\n",
              "      <td>True</td>\n",
              "      <td>True</td>\n",
              "      <td>True</td>\n",
              "      <td>True</td>\n",
              "      <td>True</td>\n",
              "      <td>True</td>\n",
              "      <td>True</td>\n",
              "      <td>True</td>\n",
              "      <td>True</td>\n",
              "    </tr>\n",
              "    <tr>\n",
              "      <th>1</th>\n",
              "      <td>True</td>\n",
              "      <td>True</td>\n",
              "      <td>True</td>\n",
              "      <td>False</td>\n",
              "      <td>False</td>\n",
              "      <td>False</td>\n",
              "      <td>False</td>\n",
              "      <td>True</td>\n",
              "      <td>False</td>\n",
              "      <td>True</td>\n",
              "      <td>False</td>\n",
              "    </tr>\n",
              "    <tr>\n",
              "      <th>2</th>\n",
              "      <td>True</td>\n",
              "      <td>True</td>\n",
              "      <td>True</td>\n",
              "      <td>True</td>\n",
              "      <td>True</td>\n",
              "      <td>True</td>\n",
              "      <td>True</td>\n",
              "      <td>True</td>\n",
              "      <td>True</td>\n",
              "      <td>True</td>\n",
              "      <td>True</td>\n",
              "    </tr>\n",
              "    <tr>\n",
              "      <th>3</th>\n",
              "      <td>True</td>\n",
              "      <td>True</td>\n",
              "      <td>True</td>\n",
              "      <td>True</td>\n",
              "      <td>True</td>\n",
              "      <td>True</td>\n",
              "      <td>True</td>\n",
              "      <td>True</td>\n",
              "      <td>True</td>\n",
              "      <td>True</td>\n",
              "      <td>True</td>\n",
              "    </tr>\n",
              "    <tr>\n",
              "      <th>4</th>\n",
              "      <td>True</td>\n",
              "      <td>True</td>\n",
              "      <td>True</td>\n",
              "      <td>True</td>\n",
              "      <td>True</td>\n",
              "      <td>True</td>\n",
              "      <td>True</td>\n",
              "      <td>True</td>\n",
              "      <td>True</td>\n",
              "      <td>True</td>\n",
              "      <td>True</td>\n",
              "    </tr>\n",
              "    <tr>\n",
              "      <th>...</th>\n",
              "      <td>...</td>\n",
              "      <td>...</td>\n",
              "      <td>...</td>\n",
              "      <td>...</td>\n",
              "      <td>...</td>\n",
              "      <td>...</td>\n",
              "      <td>...</td>\n",
              "      <td>...</td>\n",
              "      <td>...</td>\n",
              "      <td>...</td>\n",
              "      <td>...</td>\n",
              "    </tr>\n",
              "    <tr>\n",
              "      <th>4380</th>\n",
              "      <td>True</td>\n",
              "      <td>True</td>\n",
              "      <td>True</td>\n",
              "      <td>True</td>\n",
              "      <td>False</td>\n",
              "      <td>True</td>\n",
              "      <td>True</td>\n",
              "      <td>True</td>\n",
              "      <td>True</td>\n",
              "      <td>True</td>\n",
              "      <td>False</td>\n",
              "    </tr>\n",
              "    <tr>\n",
              "      <th>4381</th>\n",
              "      <td>True</td>\n",
              "      <td>True</td>\n",
              "      <td>False</td>\n",
              "      <td>True</td>\n",
              "      <td>False</td>\n",
              "      <td>True</td>\n",
              "      <td>True</td>\n",
              "      <td>True</td>\n",
              "      <td>False</td>\n",
              "      <td>True</td>\n",
              "      <td>False</td>\n",
              "    </tr>\n",
              "    <tr>\n",
              "      <th>4382</th>\n",
              "      <td>True</td>\n",
              "      <td>True</td>\n",
              "      <td>True</td>\n",
              "      <td>True</td>\n",
              "      <td>True</td>\n",
              "      <td>True</td>\n",
              "      <td>True</td>\n",
              "      <td>True</td>\n",
              "      <td>False</td>\n",
              "      <td>True</td>\n",
              "      <td>True</td>\n",
              "    </tr>\n",
              "    <tr>\n",
              "      <th>4383</th>\n",
              "      <td>True</td>\n",
              "      <td>True</td>\n",
              "      <td>False</td>\n",
              "      <td>True</td>\n",
              "      <td>False</td>\n",
              "      <td>True</td>\n",
              "      <td>True</td>\n",
              "      <td>False</td>\n",
              "      <td>True</td>\n",
              "      <td>True</td>\n",
              "      <td>False</td>\n",
              "    </tr>\n",
              "    <tr>\n",
              "      <th>4384</th>\n",
              "      <td>True</td>\n",
              "      <td>True</td>\n",
              "      <td>True</td>\n",
              "      <td>True</td>\n",
              "      <td>True</td>\n",
              "      <td>True</td>\n",
              "      <td>True</td>\n",
              "      <td>True</td>\n",
              "      <td>True</td>\n",
              "      <td>True</td>\n",
              "      <td>True</td>\n",
              "    </tr>\n",
              "  </tbody>\n",
              "</table>\n",
              "<p>4385 rows × 11 columns</p>\n",
              "</div>"
            ],
            "text/plain": [
              "      movie_title  production_budget  ...  imdb_score  gross\n",
              "0            True               True  ...        True   True\n",
              "1            True               True  ...        True  False\n",
              "2            True               True  ...        True   True\n",
              "3            True               True  ...        True   True\n",
              "4            True               True  ...        True   True\n",
              "...           ...                ...  ...         ...    ...\n",
              "4380         True               True  ...        True  False\n",
              "4381         True               True  ...        True  False\n",
              "4382         True               True  ...        True   True\n",
              "4383         True               True  ...        True  False\n",
              "4384         True               True  ...        True   True\n",
              "\n",
              "[4385 rows x 11 columns]"
            ]
          },
          "metadata": {
            "tags": []
          },
          "execution_count": 84
        }
      ]
    },
    {
      "cell_type": "code",
      "metadata": {
        "id": "HN7ZrKEdvn-7",
        "colab_type": "code",
        "colab": {
          "base_uri": "https://localhost:8080/",
          "height": 68
        },
        "outputId": "62c67443-2fb5-4212-cc80-4cf7066e444f"
      },
      "source": [
        "# All dice si todos son True a lo largo de un axis: devuelve una Serie\n",
        "# value_counts nos dice cuantas de las columnas no cumplieron -> \n",
        "#     son muchos datos los que perderiamos si eliminamos los no-available\n",
        "availabe.all(axis=1).value_counts()"
      ],
      "execution_count": 88,
      "outputs": [
        {
          "output_type": "execute_result",
          "data": {
            "text/plain": [
              "True     3408\n",
              "False     977\n",
              "dtype: int64"
            ]
          },
          "metadata": {
            "tags": []
          },
          "execution_count": 88
        }
      ]
    },
    {
      "cell_type": "code",
      "metadata": {
        "id": "s8LEGfQowBu2",
        "colab_type": "code",
        "colab": {
          "base_uri": "https://localhost:8080/",
          "height": 221
        },
        "outputId": "58c328f0-82ca-4d55-c0af-7e9fd6f7b6fa"
      },
      "source": [
        "mask = availabe['worldwide_gross']\n",
        "mask"
      ],
      "execution_count": 89,
      "outputs": [
        {
          "output_type": "execute_result",
          "data": {
            "text/plain": [
              "0        True\n",
              "1        True\n",
              "2        True\n",
              "3        True\n",
              "4        True\n",
              "        ...  \n",
              "4380     True\n",
              "4381    False\n",
              "4382     True\n",
              "4383    False\n",
              "4384     True\n",
              "Name: worldwide_gross, Length: 4385, dtype: bool"
            ]
          },
          "metadata": {
            "tags": []
          },
          "execution_count": 89
        }
      ]
    },
    {
      "cell_type": "code",
      "metadata": {
        "id": "ccafZvyQxUGM",
        "colab_type": "code",
        "colab": {}
      },
      "source": [
        "movies_v2 = movies_v2[mask]"
      ],
      "execution_count": 0,
      "outputs": []
    },
    {
      "cell_type": "code",
      "metadata": {
        "id": "WQ9kygAwxzKW",
        "colab_type": "code",
        "colab": {
          "base_uri": "https://localhost:8080/",
          "height": 51
        },
        "outputId": "309397cf-be66-43fd-8acf-84a29334484a"
      },
      "source": [
        "((movies_v2 != 0) & (movies_v2.notnull())).worldwide_gross.value_counts()"
      ],
      "execution_count": 92,
      "outputs": [
        {
          "output_type": "execute_result",
          "data": {
            "text/plain": [
              "True    4104\n",
              "Name: worldwide_gross, dtype: int64"
            ]
          },
          "metadata": {
            "tags": []
          },
          "execution_count": 92
        }
      ]
    },
    {
      "cell_type": "code",
      "metadata": {
        "id": "SI-GgQhIyU6g",
        "colab_type": "code",
        "colab": {}
      },
      "source": [
        "# Imputer remplaza los missing_values por valor segun cada estrategia (ex. mean)\n",
        "imputer = SimpleImputer(missing_values=np.nan, strategy='mean')"
      ],
      "execution_count": 0,
      "outputs": []
    },
    {
      "cell_type": "code",
      "metadata": {
        "id": "KlMtlIbG5Jvw",
        "colab_type": "code",
        "colab": {}
      },
      "source": [
        "movies_v2 = movies_v2.drop(['movie_title', 'duration'], axis=1)"
      ],
      "execution_count": 0,
      "outputs": []
    },
    {
      "cell_type": "code",
      "metadata": {
        "id": "I0ZmxyCf-2C7",
        "colab_type": "code",
        "colab": {
          "base_uri": "https://localhost:8080/",
          "height": 204
        },
        "outputId": "4cfba68c-89b4-488e-aa26-9d3a95ea94a4"
      },
      "source": [
        "movies_v2.head()"
      ],
      "execution_count": 109,
      "outputs": [
        {
          "output_type": "execute_result",
          "data": {
            "text/html": [
              "<div>\n",
              "<style scoped>\n",
              "    .dataframe tbody tr th:only-of-type {\n",
              "        vertical-align: middle;\n",
              "    }\n",
              "\n",
              "    .dataframe tbody tr th {\n",
              "        vertical-align: top;\n",
              "    }\n",
              "\n",
              "    .dataframe thead th {\n",
              "        text-align: right;\n",
              "    }\n",
              "</style>\n",
              "<table border=\"1\" class=\"dataframe\">\n",
              "  <thead>\n",
              "    <tr style=\"text-align: right;\">\n",
              "      <th></th>\n",
              "      <th>production_budget</th>\n",
              "      <th>worldwide_gross</th>\n",
              "      <th>title_year</th>\n",
              "      <th>aspect_ratio</th>\n",
              "      <th>duration.1</th>\n",
              "      <th>cast_total_facebook_likes</th>\n",
              "      <th>budget</th>\n",
              "      <th>imdb_score</th>\n",
              "      <th>gross</th>\n",
              "    </tr>\n",
              "  </thead>\n",
              "  <tbody>\n",
              "    <tr>\n",
              "      <th>0</th>\n",
              "      <td>425000000</td>\n",
              "      <td>2783918982</td>\n",
              "      <td>2009.0</td>\n",
              "      <td>1.78</td>\n",
              "      <td>178.0</td>\n",
              "      <td>4834</td>\n",
              "      <td>237000000.0</td>\n",
              "      <td>7.9</td>\n",
              "      <td>760505847.0</td>\n",
              "    </tr>\n",
              "    <tr>\n",
              "      <th>1</th>\n",
              "      <td>306000000</td>\n",
              "      <td>2058662225</td>\n",
              "      <td>NaN</td>\n",
              "      <td>NaN</td>\n",
              "      <td>NaN</td>\n",
              "      <td>143</td>\n",
              "      <td>NaN</td>\n",
              "      <td>7.1</td>\n",
              "      <td>NaN</td>\n",
              "    </tr>\n",
              "    <tr>\n",
              "      <th>2</th>\n",
              "      <td>300000000</td>\n",
              "      <td>963420425</td>\n",
              "      <td>2007.0</td>\n",
              "      <td>2.35</td>\n",
              "      <td>169.0</td>\n",
              "      <td>48350</td>\n",
              "      <td>300000000.0</td>\n",
              "      <td>7.1</td>\n",
              "      <td>309404152.0</td>\n",
              "    </tr>\n",
              "    <tr>\n",
              "      <th>3</th>\n",
              "      <td>300000000</td>\n",
              "      <td>879620923</td>\n",
              "      <td>2015.0</td>\n",
              "      <td>2.35</td>\n",
              "      <td>148.0</td>\n",
              "      <td>11700</td>\n",
              "      <td>245000000.0</td>\n",
              "      <td>6.8</td>\n",
              "      <td>200074175.0</td>\n",
              "    </tr>\n",
              "    <tr>\n",
              "      <th>4</th>\n",
              "      <td>275000000</td>\n",
              "      <td>1084439099</td>\n",
              "      <td>2012.0</td>\n",
              "      <td>2.35</td>\n",
              "      <td>164.0</td>\n",
              "      <td>106759</td>\n",
              "      <td>250000000.0</td>\n",
              "      <td>8.5</td>\n",
              "      <td>448130642.0</td>\n",
              "    </tr>\n",
              "  </tbody>\n",
              "</table>\n",
              "</div>"
            ],
            "text/plain": [
              "   production_budget  worldwide_gross  ...  imdb_score        gross\n",
              "0          425000000       2783918982  ...         7.9  760505847.0\n",
              "1          306000000       2058662225  ...         7.1          NaN\n",
              "2          300000000        963420425  ...         7.1  309404152.0\n",
              "3          300000000        879620923  ...         6.8  200074175.0\n",
              "4          275000000       1084439099  ...         8.5  448130642.0\n",
              "\n",
              "[5 rows x 9 columns]"
            ]
          },
          "metadata": {
            "tags": []
          },
          "execution_count": 109
        }
      ]
    },
    {
      "cell_type": "code",
      "metadata": {
        "id": "HyaWJnELA5Ak",
        "colab_type": "code",
        "colab": {}
      },
      "source": [
        "# Obtiene los valores a remplazar y los regresa ya remplazados\n",
        "values = imputer.fit_transform(movies_v2.values)"
      ],
      "execution_count": 0,
      "outputs": []
    },
    {
      "cell_type": "code",
      "metadata": {
        "id": "vZQ4poD1BofC",
        "colab_type": "code",
        "colab": {
          "base_uri": "https://localhost:8080/",
          "height": 204
        },
        "outputId": "35eba96e-4d5c-4903-c597-6a32844aae5f"
      },
      "source": [
        "# Dataframe con los valores remplazados del imputer\n",
        "x = pd.DataFrame(values, index=movies_v2.index, columns=movies_v2.columns)\n",
        "x.head()"
      ],
      "execution_count": 114,
      "outputs": [
        {
          "output_type": "execute_result",
          "data": {
            "text/html": [
              "<div>\n",
              "<style scoped>\n",
              "    .dataframe tbody tr th:only-of-type {\n",
              "        vertical-align: middle;\n",
              "    }\n",
              "\n",
              "    .dataframe tbody tr th {\n",
              "        vertical-align: top;\n",
              "    }\n",
              "\n",
              "    .dataframe thead th {\n",
              "        text-align: right;\n",
              "    }\n",
              "</style>\n",
              "<table border=\"1\" class=\"dataframe\">\n",
              "  <thead>\n",
              "    <tr style=\"text-align: right;\">\n",
              "      <th></th>\n",
              "      <th>production_budget</th>\n",
              "      <th>worldwide_gross</th>\n",
              "      <th>title_year</th>\n",
              "      <th>aspect_ratio</th>\n",
              "      <th>duration.1</th>\n",
              "      <th>cast_total_facebook_likes</th>\n",
              "      <th>budget</th>\n",
              "      <th>imdb_score</th>\n",
              "      <th>gross</th>\n",
              "    </tr>\n",
              "  </thead>\n",
              "  <tbody>\n",
              "    <tr>\n",
              "      <th>0</th>\n",
              "      <td>425000000.0</td>\n",
              "      <td>2.783919e+09</td>\n",
              "      <td>2009.000000</td>\n",
              "      <td>1.780000</td>\n",
              "      <td>178.000000</td>\n",
              "      <td>4834.0</td>\n",
              "      <td>2.370000e+08</td>\n",
              "      <td>7.9</td>\n",
              "      <td>7.605058e+08</td>\n",
              "    </tr>\n",
              "    <tr>\n",
              "      <th>1</th>\n",
              "      <td>306000000.0</td>\n",
              "      <td>2.058662e+09</td>\n",
              "      <td>2002.130733</td>\n",
              "      <td>2.126976</td>\n",
              "      <td>108.577186</td>\n",
              "      <td>143.0</td>\n",
              "      <td>4.045539e+07</td>\n",
              "      <td>7.1</td>\n",
              "      <td>4.831933e+07</td>\n",
              "    </tr>\n",
              "    <tr>\n",
              "      <th>2</th>\n",
              "      <td>300000000.0</td>\n",
              "      <td>9.634204e+08</td>\n",
              "      <td>2007.000000</td>\n",
              "      <td>2.350000</td>\n",
              "      <td>169.000000</td>\n",
              "      <td>48350.0</td>\n",
              "      <td>3.000000e+08</td>\n",
              "      <td>7.1</td>\n",
              "      <td>3.094042e+08</td>\n",
              "    </tr>\n",
              "    <tr>\n",
              "      <th>3</th>\n",
              "      <td>300000000.0</td>\n",
              "      <td>8.796209e+08</td>\n",
              "      <td>2015.000000</td>\n",
              "      <td>2.350000</td>\n",
              "      <td>148.000000</td>\n",
              "      <td>11700.0</td>\n",
              "      <td>2.450000e+08</td>\n",
              "      <td>6.8</td>\n",
              "      <td>2.000742e+08</td>\n",
              "    </tr>\n",
              "    <tr>\n",
              "      <th>4</th>\n",
              "      <td>275000000.0</td>\n",
              "      <td>1.084439e+09</td>\n",
              "      <td>2012.000000</td>\n",
              "      <td>2.350000</td>\n",
              "      <td>164.000000</td>\n",
              "      <td>106759.0</td>\n",
              "      <td>2.500000e+08</td>\n",
              "      <td>8.5</td>\n",
              "      <td>4.481306e+08</td>\n",
              "    </tr>\n",
              "  </tbody>\n",
              "</table>\n",
              "</div>"
            ],
            "text/plain": [
              "   production_budget  worldwide_gross  ...  imdb_score         gross\n",
              "0        425000000.0     2.783919e+09  ...         7.9  7.605058e+08\n",
              "1        306000000.0     2.058662e+09  ...         7.1  4.831933e+07\n",
              "2        300000000.0     9.634204e+08  ...         7.1  3.094042e+08\n",
              "3        300000000.0     8.796209e+08  ...         6.8  2.000742e+08\n",
              "4        275000000.0     1.084439e+09  ...         8.5  4.481306e+08\n",
              "\n",
              "[5 rows x 9 columns]"
            ]
          },
          "metadata": {
            "tags": []
          },
          "execution_count": 114
        }
      ]
    },
    {
      "cell_type": "code",
      "metadata": {
        "id": "QzMR0PEZCfF0",
        "colab_type": "code",
        "colab": {}
      },
      "source": [
        "x.to_csv('x.csv', index=False)"
      ],
      "execution_count": 0,
      "outputs": []
    },
    {
      "cell_type": "code",
      "metadata": {
        "id": "yY0xcsGdEWTR",
        "colab_type": "code",
        "colab": {}
      },
      "source": [
        ""
      ],
      "execution_count": 0,
      "outputs": []
    }
  ]
}