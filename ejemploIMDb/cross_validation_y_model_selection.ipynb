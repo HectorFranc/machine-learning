{
  "nbformat": 4,
  "nbformat_minor": 0,
  "metadata": {
    "colab": {
      "name": "cross_validation_y_model_selection.ipynb",
      "provenance": [],
      "collapsed_sections": [
        "VplwMeI0gjXP"
      ]
    },
    "kernelspec": {
      "name": "python3",
      "display_name": "Python 3"
    }
  },
  "cells": [
    {
      "cell_type": "code",
      "metadata": {
        "id": "CGsL9wZ8aufY",
        "colab_type": "code",
        "colab": {}
      },
      "source": [
        "%matplotlib inline\n",
        "import numpy as np\n",
        "import pandas as pd\n",
        "import matplotlib.pyplot as plt\n",
        "\n",
        "from sklearn.model_selection import train_test_split\n",
        "from sklearn.linear_model import Lasso"
      ],
      "execution_count": 0,
      "outputs": []
    },
    {
      "cell_type": "code",
      "metadata": {
        "id": "hhPh2Wo1d-LN",
        "colab_type": "code",
        "colab": {}
      },
      "source": [
        "x = pd.read_csv('X_opening.csv')\n",
        "y = x['worldwide_gross']\n",
        "x = x.drop('worldwide_gross', axis=1)"
      ],
      "execution_count": 0,
      "outputs": []
    },
    {
      "cell_type": "markdown",
      "metadata": {
        "id": "VplwMeI0gjXP",
        "colab_type": "text"
      },
      "source": [
        "# **Metodos de evaluación**\n",
        "\n",
        "---\n",
        "\n"
      ]
    },
    {
      "cell_type": "markdown",
      "metadata": {
        "id": "3_g3EYn_g9rI",
        "colab_type": "text"
      },
      "source": [
        "**Random state en train_test_split**"
      ]
    },
    {
      "cell_type": "code",
      "metadata": {
        "id": "hTlHYEtLfIKc",
        "colab_type": "code",
        "colab": {}
      },
      "source": [
        "# random_state controla la aleatoreidad por medio de una seed\n",
        "x_train, x_test, y_train, y_test = train_test_split(x, y, random_state=1)\n",
        "x2_train, x2_test, y2_train, y2_test = train_test_split(x, y, random_state=1)"
      ],
      "execution_count": 0,
      "outputs": []
    },
    {
      "cell_type": "code",
      "metadata": {
        "id": "G3pJ_RelfvMR",
        "colab_type": "code",
        "colab": {
          "base_uri": "https://localhost:8080/",
          "height": 0
        },
        "outputId": "8dd5e12a-ba90-4a53-bede-e9cd5fcbc6bf"
      },
      "source": [
        "# ambos DataFrames son iguales pues usaron el mismo random_state\n",
        "pd.DataFrame.equals(x_train, x2_train)"
      ],
      "execution_count": 4,
      "outputs": [
        {
          "output_type": "execute_result",
          "data": {
            "text/plain": [
              "True"
            ]
          },
          "metadata": {
            "tags": []
          },
          "execution_count": 4
        }
      ]
    },
    {
      "cell_type": "markdown",
      "metadata": {
        "id": "ptxgCiE5hCwX",
        "colab_type": "text"
      },
      "source": [
        "**Cross Validation**"
      ]
    },
    {
      "cell_type": "code",
      "metadata": {
        "id": "qiZYfoVmggfa",
        "colab_type": "code",
        "colab": {}
      },
      "source": [
        "from sklearn.model_selection import cross_val_score"
      ],
      "execution_count": 0,
      "outputs": []
    },
    {
      "cell_type": "code",
      "metadata": {
        "id": "ve22VuD6iSEO",
        "colab_type": "code",
        "colab": {
          "base_uri": "https://localhost:8080/",
          "height": 0
        },
        "outputId": "8938a8c2-62e7-4b95-86de-d4d66205abd5"
      },
      "source": [
        "# Score de cada valdacion con cada uno de los 5 folds\n",
        "scores = cross_val_score(Lasso(), x, y, cv=5, scoring='r2')\n",
        "scores"
      ],
      "execution_count": 6,
      "outputs": [
        {
          "output_type": "stream",
          "text": [
            "/usr/local/lib/python3.6/dist-packages/sklearn/linear_model/_coordinate_descent.py:476: ConvergenceWarning: Objective did not converge. You might want to increase the number of iterations. Duality gap: 3.3531444112586967e+18, tolerance: 8334877530886788.0\n",
            "  positive)\n",
            "/usr/local/lib/python3.6/dist-packages/sklearn/linear_model/_coordinate_descent.py:476: ConvergenceWarning: Objective did not converge. You might want to increase the number of iterations. Duality gap: 1.6937642436249027e+18, tolerance: 8653617519237807.0\n",
            "  positive)\n",
            "/usr/local/lib/python3.6/dist-packages/sklearn/linear_model/_coordinate_descent.py:476: ConvergenceWarning: Objective did not converge. You might want to increase the number of iterations. Duality gap: 2.366305050945958e+18, tolerance: 8543073557124824.0\n",
            "  positive)\n"
          ],
          "name": "stderr"
        },
        {
          "output_type": "execute_result",
          "data": {
            "text/plain": [
              "array([0.59316596, 0.68931527, 0.55383855, 0.18147236, 0.23040894])"
            ]
          },
          "metadata": {
            "tags": []
          },
          "execution_count": 6
        }
      ]
    },
    {
      "cell_type": "code",
      "metadata": {
        "id": "CtI42OFrjUMq",
        "colab_type": "code",
        "colab": {
          "base_uri": "https://localhost:8080/",
          "height": 0
        },
        "outputId": "4b9679b4-fb4c-402c-c0ab-e7af3e8dd323"
      },
      "source": [
        "scores.mean() # Final score"
      ],
      "execution_count": 7,
      "outputs": [
        {
          "output_type": "execute_result",
          "data": {
            "text/plain": [
              "0.44964021745791766"
            ]
          },
          "metadata": {
            "tags": []
          },
          "execution_count": 7
        }
      ]
    },
    {
      "cell_type": "markdown",
      "metadata": {
        "id": "nQNO4pkVkVZU",
        "colab_type": "text"
      },
      "source": [
        "# **Selección de modelos**\n",
        "\n",
        "---\n",
        "\n"
      ]
    },
    {
      "cell_type": "markdown",
      "metadata": {
        "id": "nX5q0pYuy4VN",
        "colab_type": "text"
      },
      "source": [
        "**Overfitting o underfitting**"
      ]
    },
    {
      "cell_type": "code",
      "metadata": {
        "id": "zgYssHacuQpz",
        "colab_type": "code",
        "colab": {}
      },
      "source": [
        "from sklearn.model_selection import cross_validate"
      ],
      "execution_count": 0,
      "outputs": []
    },
    {
      "cell_type": "code",
      "metadata": {
        "id": "VUyTNit5vrmd",
        "colab_type": "code",
        "colab": {
          "base_uri": "https://localhost:8080/",
          "height": 207
        },
        "outputId": "df4fd8d6-6627-4c2d-fdf0-4967295af4cf"
      },
      "source": [
        "# Cross_validate devuelve mas datos que el cross_val_score por si mismo\n",
        "results = cross_validate(Lasso(), x, y, cv=5, return_train_score=True)\n",
        "results"
      ],
      "execution_count": 15,
      "outputs": [
        {
          "output_type": "stream",
          "text": [
            "/usr/local/lib/python3.6/dist-packages/sklearn/linear_model/_coordinate_descent.py:476: ConvergenceWarning: Objective did not converge. You might want to increase the number of iterations. Duality gap: 3.3531444112586967e+18, tolerance: 8334877530886788.0\n",
            "  positive)\n",
            "/usr/local/lib/python3.6/dist-packages/sklearn/linear_model/_coordinate_descent.py:476: ConvergenceWarning: Objective did not converge. You might want to increase the number of iterations. Duality gap: 1.6937642436249027e+18, tolerance: 8653617519237807.0\n",
            "  positive)\n",
            "/usr/local/lib/python3.6/dist-packages/sklearn/linear_model/_coordinate_descent.py:476: ConvergenceWarning: Objective did not converge. You might want to increase the number of iterations. Duality gap: 2.366305050945958e+18, tolerance: 8543073557124824.0\n",
            "  positive)\n"
          ],
          "name": "stderr"
        },
        {
          "output_type": "execute_result",
          "data": {
            "text/plain": [
              "{'fit_time': array([0.00985575, 0.05707073, 0.04374957, 0.02784753, 0.02536631]),\n",
              " 'score_time': array([0.00320435, 0.00252056, 0.00261712, 0.0028317 , 0.00280643]),\n",
              " 'test_score': array([0.59316596, 0.68931527, 0.55383855, 0.18147236, 0.23040894]),\n",
              " 'train_score': array([0.68988012, 0.77004932, 0.76604995, 0.76123379, 0.75837599])}"
            ]
          },
          "metadata": {
            "tags": []
          },
          "execution_count": 15
        }
      ]
    },
    {
      "cell_type": "code",
      "metadata": {
        "id": "T63nyieBwPBM",
        "colab_type": "code",
        "colab": {
          "base_uri": "https://localhost:8080/",
          "height": 51
        },
        "outputId": "00f3b1cc-9405-4d79-db14-aee5597e6a9c"
      },
      "source": [
        "# Media de los errores de test y train\n",
        "test_scores = results['test_score']\n",
        "train_scores = results['train_score']\n",
        "\n",
        "print(np.mean(test_scores))\n",
        "print(np.mean(train_scores))"
      ],
      "execution_count": 16,
      "outputs": [
        {
          "output_type": "stream",
          "text": [
            "0.44964021745791766\n",
            "0.7491178363039036\n"
          ],
          "name": "stdout"
        }
      ]
    },
    {
      "cell_type": "markdown",
      "metadata": {
        "id": "UOdLMpKbylil",
        "colab_type": "text"
      },
      "source": [
        "Valores muy diferentes y el de train no es tan bueno -> Buscar un mejor modelo"
      ]
    },
    {
      "cell_type": "markdown",
      "metadata": {
        "id": "ZCSpbhxVy9wQ",
        "colab_type": "text"
      },
      "source": [
        "**Validation curves**"
      ]
    },
    {
      "cell_type": "code",
      "metadata": {
        "id": "Mgl2dBVLw5v9",
        "colab_type": "code",
        "colab": {}
      },
      "source": [
        "from sklearn.neighbors import KNeighborsRegressor # Modelo a probar"
      ],
      "execution_count": 0,
      "outputs": []
    },
    {
      "cell_type": "code",
      "metadata": {
        "id": "zAvGi_jLzb3b",
        "colab_type": "code",
        "colab": {
          "base_uri": "https://localhost:8080/",
          "height": 51
        },
        "outputId": "270aaaf1-e41d-4c36-8c17-e76ba95a8d40"
      },
      "source": [
        "results = cross_validate(KNeighborsRegressor(), x, y, cv=5, return_train_score=True)\n",
        "\n",
        "# Media de los errores de test y train\n",
        "test_scores = results['test_score']\n",
        "train_scores = results['train_score']\n",
        "\n",
        "print(np.mean(test_scores))\n",
        "print(np.mean(train_scores))"
      ],
      "execution_count": 23,
      "outputs": [
        {
          "output_type": "stream",
          "text": [
            "0.3161450871488181\n",
            "0.7718842060773927\n"
          ],
          "name": "stdout"
        }
      ]
    },
    {
      "cell_type": "markdown",
      "metadata": {
        "id": "q5_Kgq880IW3",
        "colab_type": "text"
      },
      "source": [
        "Valores parecidos a Lasso -> Probar con un numero diferente de n_neighbors"
      ]
    },
    {
      "cell_type": "code",
      "metadata": {
        "id": "7LSHbGG5zpg5",
        "colab_type": "code",
        "colab": {}
      },
      "source": [
        "from sklearn.model_selection import validation_curve # Curvas de validacion"
      ],
      "execution_count": 0,
      "outputs": []
    },
    {
      "cell_type": "code",
      "metadata": {
        "id": "x6A6Lc230ceF",
        "colab_type": "code",
        "colab": {}
      },
      "source": [
        "n = np.arange(2, 50, 2)"
      ],
      "execution_count": 0,
      "outputs": []
    },
    {
      "cell_type": "code",
      "metadata": {
        "id": "Ko-l5KK80wdN",
        "colab_type": "code",
        "colab": {}
      },
      "source": [
        "# Prueba para diferentes n_neighbors en el rango n y devuelve los scores de train y test\n",
        "train_scores,test_scores = validation_curve(KNeighborsRegressor(), x, y, param_name='n_neighbors', param_range=n, cv=5)"
      ],
      "execution_count": 0,
      "outputs": []
    },
    {
      "cell_type": "code",
      "metadata": {
        "id": "1egkAACa2Eiy",
        "colab_type": "code",
        "colab": {
          "base_uri": "https://localhost:8080/",
          "height": 102
        },
        "outputId": "ee1ad632-8dcf-4a71-cada-833c2796a30f"
      },
      "source": [
        "np.mean(train_scores, axis=1)"
      ],
      "execution_count": 35,
      "outputs": [
        {
          "output_type": "execute_result",
          "data": {
            "text/plain": [
              "array([0.86831591, 0.79120817, 0.7593398 , 0.7498298 , 0.74238245,\n",
              "       0.73284018, 0.72586058, 0.71779833, 0.71281982, 0.70976325,\n",
              "       0.70723469, 0.70502429, 0.70174649, 0.69741543, 0.69379214,\n",
              "       0.69163113, 0.68955146, 0.6862285 , 0.68321376, 0.68018032,\n",
              "       0.67885534, 0.67522056, 0.67135123, 0.66953759])"
            ]
          },
          "metadata": {
            "tags": []
          },
          "execution_count": 35
        }
      ]
    },
    {
      "cell_type": "code",
      "metadata": {
        "id": "LxWTBoj93Ts2",
        "colab_type": "code",
        "colab": {
          "base_uri": "https://localhost:8080/",
          "height": 269
        },
        "outputId": "bc8a4896-aef5-4719-977c-51a34159f821"
      },
      "source": [
        "plt.plot(np.mean(train_scores, axis=1))\n",
        "plt.plot(np.mean(test_scores, axis=1))\n",
        "plt.xticks(np.arange(train_scores.shape[0]), n)\n",
        "plt.show()"
      ],
      "execution_count": 44,
      "outputs": [
        {
          "output_type": "display_data",
          "data": {
            "image/png": "[encoded data removed]",
            "text/plain": [
              "<Figure size 432x288 with 1 Axes>"
            ]
          },
          "metadata": {
            "tags": []
          }
        }
      ]
    },
    {
      "cell_type": "markdown",
      "metadata": {
        "id": "_g-B_8l85ujJ",
        "colab_type": "text"
      },
      "source": [
        "El pico de los scores de test esta en n_neighbors=6 -> Elegiremos ese valor para determinar nuestra situacion actual"
      ]
    },
    {
      "cell_type": "markdown",
      "metadata": {
        "id": "XtZHCzO55lMC",
        "colab_type": "text"
      },
      "source": [
        "**Learning curves**"
      ]
    },
    {
      "cell_type": "code",
      "metadata": {
        "id": "89F-gCOh3ysl",
        "colab_type": "code",
        "colab": {}
      },
      "source": [
        "from sklearn.model_selection import learning_curve"
      ],
      "execution_count": 0,
      "outputs": []
    },
    {
      "cell_type": "code",
      "metadata": {
        "id": "l7iU29gS6Awu",
        "colab_type": "code",
        "colab": {}
      },
      "source": [
        "lc = learning_curve(KNeighborsRegressor(n_neighbors=6), x, y, cv=5)\n",
        "samples, train, test = lc[0], lc[1], lc[2]"
      ],
      "execution_count": 0,
      "outputs": []
    },
    {
      "cell_type": "code",
      "metadata": {
        "id": "_M8jZXbY8Ngp",
        "colab_type": "code",
        "colab": {
          "base_uri": "https://localhost:8080/",
          "height": 265
        },
        "outputId": "3c38551d-2b01-43f1-ccf7-06a9d68cafdc"
      },
      "source": [
        "plt.plot(samples, np.mean(train, axis=1))\n",
        "plt.plot(samples, np.mean(test, axis=1))\n",
        "plt.show()"
      ],
      "execution_count": 54,
      "outputs": [
        {
          "output_type": "display_data",
          "data": {
            "image/png": "[encoded data removed]",
            "text/plain": [
              "<Figure size 432x288 with 1 Axes>"
            ]
          },
          "metadata": {
            "tags": []
          }
        }
      ]
    },
    {
      "cell_type": "markdown",
      "metadata": {
        "id": "zQekaqcv8uxI",
        "colab_type": "text"
      },
      "source": [
        "El primer valor es muy malo -> Lo eliminamos para \"hacer zoom\" en el resto de la grafica"
      ]
    },
    {
      "cell_type": "code",
      "metadata": {
        "id": "uMlyhg9-8iEw",
        "colab_type": "code",
        "colab": {
          "base_uri": "https://localhost:8080/",
          "height": 265
        },
        "outputId": "fae512f3-17c1-4715-99ea-d175e52c2d19"
      },
      "source": [
        "plt.plot(samples[1:], np.mean(train, axis=1)[1:])\n",
        "plt.plot(samples[1:], np.mean(test, axis=1)[1:])\n",
        "plt.show()"
      ],
      "execution_count": 55,
      "outputs": [
        {
          "output_type": "display_data",
          "data": {
            "image/png": "[encoded data removed]",
            "text/plain": [
              "<Figure size 432x288 with 1 Axes>"
            ]
          },
          "metadata": {
            "tags": []
          }
        }
      ]
    },
    {
      "cell_type": "markdown",
      "metadata": {
        "id": "ZHS6jpzv_Al7",
        "colab_type": "text"
      },
      "source": [
        "El modelo aun esta aprendiendo pues aun no llega a formar una asíntota con el score de train, pero no hay manera de obtener mas datos -> Buscar un nuevo modelo"
      ]
    },
    {
      "cell_type": "markdown",
      "metadata": {
        "id": "Nd1WMcOE-psS",
        "colab_type": "text"
      },
      "source": [
        "# **¿Cómo solucionar el overfitting y el underfitting?**\n",
        "\n",
        "---\n",
        "\n",
        "\n",
        "\n",
        "Viarianza Alta:\n",
        "\n",
        "- Conseguir más ejemplos\n",
        "- Reducir cantidad de features\n",
        "- Aumentar coeficiente de regularización\n",
        "\n",
        "Bias Alto:\n",
        "\n",
        "- Más features\n",
        "- Modelo más complejo\n",
        "- Mal resultado general:\n",
        "- Probar otro algoritmo/familia de modelos, quizás las hipotesis del modelo no son cumplidas por tu dataset"
      ]
    }
  ]
}