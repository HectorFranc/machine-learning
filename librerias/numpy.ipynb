{
  "nbformat": 4,
  "nbformat_minor": 0,
  "metadata": {
    "colab": {
      "name": "numpy.ipynb",
      "provenance": [],
      "collapsed_sections": [
        "GCkzXiCb5Y92",
        "S0Jlfajx5djK"
      ]
    },
    "kernelspec": {
      "name": "python3",
      "display_name": "Python 3"
    }
  },
  "cells": [
    {
      "cell_type": "code",
      "metadata": {
        "id": "-EZLPGltn7Uu",
        "colab_type": "code",
        "colab": {}
      },
      "source": [
        "import numpy as np"
      ],
      "execution_count": 0,
      "outputs": []
    },
    {
      "cell_type": "markdown",
      "metadata": {
        "id": "GCkzXiCb5Y92",
        "colab_type": "text"
      },
      "source": [
        "# **Numpy**\n",
        "\n",
        "---\n",
        "\n"
      ]
    },
    {
      "cell_type": "code",
      "metadata": {
        "id": "HkI27Vy8oCOe",
        "colab_type": "code",
        "outputId": "42433309-0a75-477e-d47b-3593b69402fb",
        "colab": {
          "base_uri": "https://localhost:8080/",
          "height": 34
        }
      },
      "source": [
        "np.array([1, 2, 3, 7, 9, 10]) # Array de numpy"
      ],
      "execution_count": 2,
      "outputs": [
        {
          "output_type": "execute_result",
          "data": {
            "text/plain": [
              "array([ 1,  2,  3,  7,  9, 10])"
            ]
          },
          "metadata": {
            "tags": []
          },
          "execution_count": 2
        }
      ]
    },
    {
      "cell_type": "code",
      "metadata": {
        "id": "TCvZn0b1oNtQ",
        "colab_type": "code",
        "outputId": "7eb8c45f-c98e-43ce-9133-25279b416ff9",
        "colab": {
          "base_uri": "https://localhost:8080/",
          "height": 85
        }
      },
      "source": [
        "a = np.array([10, 30, 20, 4, 30, 51, 7, 2, 4, 40, 100])\n",
        "\n",
        "# Slicing con arreglos de numpy\n",
        "print(a[4])\n",
        "print(a[3:])\n",
        "print(a[3:7])\n",
        "print(a[1::4])"
      ],
      "execution_count": 3,
      "outputs": [
        {
          "output_type": "stream",
          "text": [
            "30\n",
            "[  4  30  51   7   2   4  40 100]\n",
            "[ 4 30 51  7]\n",
            "[30 51 40]\n"
          ],
          "name": "stdout"
        }
      ]
    },
    {
      "cell_type": "code",
      "metadata": {
        "id": "ARyXVzhyos2E",
        "colab_type": "code",
        "outputId": "451d29ab-1b8b-4c9a-f516-c0bb1b1f5fea",
        "colab": {
          "base_uri": "https://localhost:8080/",
          "height": 68
        }
      },
      "source": [
        "np.zeros((3, 4)) # Arreglos solo con ceros de la forma especificada (en una tupla)"
      ],
      "execution_count": 4,
      "outputs": [
        {
          "output_type": "execute_result",
          "data": {
            "text/plain": [
              "array([[0., 0., 0., 0.],\n",
              "       [0., 0., 0., 0.],\n",
              "       [0., 0., 0., 0.]])"
            ]
          },
          "metadata": {
            "tags": []
          },
          "execution_count": 4
        }
      ]
    },
    {
      "cell_type": "code",
      "metadata": {
        "id": "A5Q3puWbpnN9",
        "colab_type": "code",
        "outputId": "bc3ba6e0-a447-4481-c4ac-24f187f5f4a2",
        "colab": {
          "base_uri": "https://localhost:8080/",
          "height": 85
        }
      },
      "source": [
        "np.ones((4, 3)) # Arreglos solo con unos de la forma especificada (en una tupla)"
      ],
      "execution_count": 5,
      "outputs": [
        {
          "output_type": "execute_result",
          "data": {
            "text/plain": [
              "array([[1., 1., 1.],\n",
              "       [1., 1., 1.],\n",
              "       [1., 1., 1.],\n",
              "       [1., 1., 1.]])"
            ]
          },
          "metadata": {
            "tags": []
          },
          "execution_count": 5
        }
      ]
    },
    {
      "cell_type": "code",
      "metadata": {
        "id": "jYetXqDkquQF",
        "colab_type": "code",
        "outputId": "12f7af01-2c0d-4027-b3b4-3d8ff964923b",
        "colab": {
          "base_uri": "https://localhost:8080/",
          "height": 34
        }
      },
      "source": [
        "type(np.ones(3)) # Tipo del arreglo"
      ],
      "execution_count": 6,
      "outputs": [
        {
          "output_type": "execute_result",
          "data": {
            "text/plain": [
              "numpy.ndarray"
            ]
          },
          "metadata": {
            "tags": []
          },
          "execution_count": 6
        }
      ]
    },
    {
      "cell_type": "code",
      "metadata": {
        "id": "ev8KMNf-rHWq",
        "colab_type": "code",
        "outputId": "1fc5ecee-549d-44a4-f850-fc11633f8dde",
        "colab": {
          "base_uri": "https://localhost:8080/",
          "height": 34
        }
      },
      "source": [
        "type(np.zeros(4)[3]) # Tipo de un elemento especifico del arreglo de numpy"
      ],
      "execution_count": 7,
      "outputs": [
        {
          "output_type": "execute_result",
          "data": {
            "text/plain": [
              "numpy.float64"
            ]
          },
          "metadata": {
            "tags": []
          },
          "execution_count": 7
        }
      ]
    },
    {
      "cell_type": "code",
      "metadata": {
        "id": "xwGLP6_DrTtM",
        "colab_type": "code",
        "outputId": "7da52bbf-4856-48dc-bc3d-0abfa1ac02b2",
        "colab": {
          "base_uri": "https://localhost:8080/",
          "height": 51
        }
      },
      "source": [
        "np.linspace(-10, 10, 21) # Array con rango de -10, 10, 21 elementos en el array"
      ],
      "execution_count": 8,
      "outputs": [
        {
          "output_type": "execute_result",
          "data": {
            "text/plain": [
              "array([-10.,  -9.,  -8.,  -7.,  -6.,  -5.,  -4.,  -3.,  -2.,  -1.,   0.,\n",
              "         1.,   2.,   3.,   4.,   5.,   6.,   7.,   8.,   9.,  10.])"
            ]
          },
          "metadata": {
            "tags": []
          },
          "execution_count": 8
        }
      ]
    },
    {
      "cell_type": "code",
      "metadata": {
        "id": "VWBrU0LrrxeD",
        "colab_type": "code",
        "outputId": "a25c9a45-ba4a-4a94-bc9f-be346c1a07e6",
        "colab": {
          "base_uri": "https://localhost:8080/",
          "height": 51
        }
      },
      "source": [
        "b = np.array([['x', 'y', 'z'], ['a', 'b', 'c']]) # Arreglos multidimensionales\n",
        "print(b)"
      ],
      "execution_count": 9,
      "outputs": [
        {
          "output_type": "stream",
          "text": [
            "[['x' 'y' 'z']\n",
            " ['a' 'b' 'c']]\n"
          ],
          "name": "stdout"
        }
      ]
    },
    {
      "cell_type": "code",
      "metadata": {
        "id": "gMXZ1db-sgTT",
        "colab_type": "code",
        "outputId": "750b4f4a-d15d-4751-e890-1621e3d85217",
        "colab": {
          "base_uri": "https://localhost:8080/",
          "height": 34
        }
      },
      "source": [
        "b.ndim # Numero de dimensiones del arreglo"
      ],
      "execution_count": 10,
      "outputs": [
        {
          "output_type": "execute_result",
          "data": {
            "text/plain": [
              "2"
            ]
          },
          "metadata": {
            "tags": []
          },
          "execution_count": 10
        }
      ]
    },
    {
      "cell_type": "code",
      "metadata": {
        "id": "ts6-681LssF7",
        "colab_type": "code",
        "outputId": "548e35ea-03d1-4945-a25d-58c51ff67dbe",
        "colab": {
          "base_uri": "https://localhost:8080/",
          "height": 34
        }
      },
      "source": [
        "c = [10, 7, 8, 3, 2]\n",
        "np.sort(c) # Ordenacion de un arreglo"
      ],
      "execution_count": 11,
      "outputs": [
        {
          "output_type": "execute_result",
          "data": {
            "text/plain": [
              "array([ 2,  3,  7,  8, 10])"
            ]
          },
          "metadata": {
            "tags": []
          },
          "execution_count": 11
        }
      ]
    },
    {
      "cell_type": "code",
      "metadata": {
        "id": "_mztG6h8ubBA",
        "colab_type": "code",
        "outputId": "4a1a6881-032b-47fc-d16c-dc148e6a079f",
        "colab": {
          "base_uri": "https://localhost:8080/",
          "height": 51
        }
      },
      "source": [
        "cabeceras = [('nombre', 'S10'), ('edad', int)] # Nombres de las columnas y tipos\n",
        "datos = [('AJuan', 42), ('CPedro', 21), ('BRoberto', 10)] # Datos\n",
        "usuarios = np.array(datos, dtype=cabeceras) # Array con los datos y tipos\n",
        "\n",
        "np.sort(usuarios, order='edad') # Ordenacion segun la columna edad"
      ],
      "execution_count": 12,
      "outputs": [
        {
          "output_type": "execute_result",
          "data": {
            "text/plain": [
              "array([(b'BRoberto', 10), (b'CPedro', 21), (b'AJuan', 42)],\n",
              "      dtype=[('nombre', 'S10'), ('edad', '<i8')])"
            ]
          },
          "metadata": {
            "tags": []
          },
          "execution_count": 12
        }
      ]
    },
    {
      "cell_type": "code",
      "metadata": {
        "id": "6uaXajE51Mmq",
        "colab_type": "code",
        "outputId": "b9df5329-f1ef-4ac0-ba68-f3b8c6a9ae25",
        "colab": {
          "base_uri": "https://localhost:8080/",
          "height": 34
        }
      },
      "source": [
        "np.arange(5, 10, 2) # Array en el rango de 5 a 10 con pasos de 2 en 2"
      ],
      "execution_count": 13,
      "outputs": [
        {
          "output_type": "execute_result",
          "data": {
            "text/plain": [
              "array([5, 7, 9])"
            ]
          },
          "metadata": {
            "tags": []
          },
          "execution_count": 13
        }
      ]
    },
    {
      "cell_type": "code",
      "metadata": {
        "id": "YoP-4Y2T3g4T",
        "colab_type": "code",
        "outputId": "3cae3975-46a9-4353-e98a-30aea3ca056c",
        "colab": {
          "base_uri": "https://localhost:8080/",
          "height": 255
        }
      },
      "source": [
        "np.full((3, 4, 2), 10) # Array con la forma (3, 4, 2) lleno de solamente 10"
      ],
      "execution_count": 14,
      "outputs": [
        {
          "output_type": "execute_result",
          "data": {
            "text/plain": [
              "array([[[10, 10],\n",
              "        [10, 10],\n",
              "        [10, 10],\n",
              "        [10, 10]],\n",
              "\n",
              "       [[10, 10],\n",
              "        [10, 10],\n",
              "        [10, 10],\n",
              "        [10, 10]],\n",
              "\n",
              "       [[10, 10],\n",
              "        [10, 10],\n",
              "        [10, 10],\n",
              "        [10, 10]]])"
            ]
          },
          "metadata": {
            "tags": []
          },
          "execution_count": 14
        }
      ]
    },
    {
      "cell_type": "code",
      "metadata": {
        "id": "8dD9Mh3n38jq",
        "colab_type": "code",
        "outputId": "0c24efd8-3dc8-4d92-8b59-825ec91f1c8d",
        "colab": {
          "base_uri": "https://localhost:8080/",
          "height": 85
        }
      },
      "source": [
        "np.diag([1, 2, 3, 4]) # Matriz con los valores del array en la diagonal"
      ],
      "execution_count": 15,
      "outputs": [
        {
          "output_type": "execute_result",
          "data": {
            "text/plain": [
              "array([[1, 0, 0, 0],\n",
              "       [0, 2, 0, 0],\n",
              "       [0, 0, 3, 0],\n",
              "       [0, 0, 0, 4]])"
            ]
          },
          "metadata": {
            "tags": []
          },
          "execution_count": 15
        }
      ]
    },
    {
      "cell_type": "code",
      "metadata": {
        "id": "U7NEO4aa3lD1",
        "colab_type": "code",
        "colab": {
          "base_uri": "https://localhost:8080/",
          "height": 34
        },
        "outputId": "422c7f0a-f067-4acc-b58d-8c49be5d8d0a"
      },
      "source": [
        "a = np.zeros((3, ))\n",
        "b = np.zeros((1, 3))\n",
        "#  np.array_equal muestra si dos array tienen la misma forma y elementos\n",
        "a, b, np.array_equal(a, b) "
      ],
      "execution_count": 18,
      "outputs": [
        {
          "output_type": "execute_result",
          "data": {
            "text/plain": [
              "(array([0., 0., 0.]), array([[0., 0., 0.]]), False)"
            ]
          },
          "metadata": {
            "tags": []
          },
          "execution_count": 18
        }
      ]
    },
    {
      "cell_type": "markdown",
      "metadata": {
        "id": "S0Jlfajx5djK",
        "colab_type": "text"
      },
      "source": [
        "# **Reto**\n",
        "\n",
        "---\n",
        "\n",
        "Array tridimensional ordenado"
      ]
    },
    {
      "cell_type": "code",
      "metadata": {
        "id": "MIAfrnae5pB8",
        "colab_type": "code",
        "outputId": "80b37bfd-5cf4-45bd-af33-45c89f573bb0",
        "colab": {
          "base_uri": "https://localhost:8080/",
          "height": 68
        }
      },
      "source": [
        "cabeceras = [('nombre', 'S15'), ('edad', int), ('pais', 'S15')]\n",
        "datos = [('Paco', 12, 'Colombia'), ('Maria', 54, 'Peru'), ('Monica', 23, 'Mexico')]\n",
        "usuarios = np.array(datos, dtype=cabeceras)\n",
        "\n",
        "np.sort(usuarios, order='edad')"
      ],
      "execution_count": 19,
      "outputs": [
        {
          "output_type": "execute_result",
          "data": {
            "text/plain": [
              "array([(b'Paco', 12, b'Colombia'), (b'Monica', 23, b'Mexico'),\n",
              "       (b'Maria', 54, b'Peru')],\n",
              "      dtype=[('nombre', 'S15'), ('edad', '<i8'), ('pais', 'S15')])"
            ]
          },
          "metadata": {
            "tags": []
          },
          "execution_count": 19
        }
      ]
    }
  ]
}