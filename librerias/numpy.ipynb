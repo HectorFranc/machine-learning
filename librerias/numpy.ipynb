{
  "nbformat": 4,
  "nbformat_minor": 0,
  "metadata": {
    "colab": {
      "name": "numpy.ipynb",
      "provenance": [],
      "collapsed_sections": [
        "GCkzXiCb5Y92",
        "S0Jlfajx5djK"
      ]
    },
    "kernelspec": {
      "name": "python3",
      "display_name": "Python 3"
    }
  },
  "cells": [
    {
      "cell_type": "code",
      "metadata": {
        "id": "-EZLPGltn7Uu",
        "colab_type": "code",
        "colab": {}
      },
      "source": [
        "import numpy as np"
      ],
      "execution_count": 0,
      "outputs": []
    },
    {
      "cell_type": "markdown",
      "metadata": {
        "id": "GCkzXiCb5Y92",
        "colab_type": "text"
      },
      "source": [
        "# **Numpy**\n",
        "\n",
        "---\n",
        "\n"
      ]
    },
    {
      "cell_type": "code",
      "metadata": {
        "id": "HkI27Vy8oCOe",
        "colab_type": "code",
        "colab": {
          "base_uri": "https://localhost:8080/",
          "height": 34
        },
        "outputId": "4f7c95f1-1c36-4a9a-9a59-25cf7845ebcc"
      },
      "source": [
        "np.array([1, 2, 3, 7, 9, 10]) # Array de numpy"
      ],
      "execution_count": 28,
      "outputs": [
        {
          "output_type": "execute_result",
          "data": {
            "text/plain": [
              "array([ 1,  2,  3,  7,  9, 10])"
            ]
          },
          "metadata": {
            "tags": []
          },
          "execution_count": 28
        }
      ]
    },
    {
      "cell_type": "code",
      "metadata": {
        "id": "TCvZn0b1oNtQ",
        "colab_type": "code",
        "colab": {
          "base_uri": "https://localhost:8080/",
          "height": 85
        },
        "outputId": "bc36f2b6-bbd1-49ef-bb36-288c1549c760"
      },
      "source": [
        "a = np.array([10, 30, 20, 4, 30, 51, 7, 2, 4, 40, 100])\n",
        "\n",
        "# Slicing con arreglos de numpy\n",
        "print(a[4])\n",
        "print(a[3:])\n",
        "print(a[3:7])\n",
        "print(a[1::4])"
      ],
      "execution_count": 29,
      "outputs": [
        {
          "output_type": "stream",
          "text": [
            "30\n",
            "[  4  30  51   7   2   4  40 100]\n",
            "[ 4 30 51  7]\n",
            "[30 51 40]\n"
          ],
          "name": "stdout"
        }
      ]
    },
    {
      "cell_type": "code",
      "metadata": {
        "id": "ARyXVzhyos2E",
        "colab_type": "code",
        "colab": {
          "base_uri": "https://localhost:8080/",
          "height": 68
        },
        "outputId": "f82b1c7a-9af1-4036-a5d9-454a8928c940"
      },
      "source": [
        "np.zeros((3, 4)) # Arreglos solo con ceros de la forma especificada (en una tupla)"
      ],
      "execution_count": 30,
      "outputs": [
        {
          "output_type": "execute_result",
          "data": {
            "text/plain": [
              "array([[0., 0., 0., 0.],\n",
              "       [0., 0., 0., 0.],\n",
              "       [0., 0., 0., 0.]])"
            ]
          },
          "metadata": {
            "tags": []
          },
          "execution_count": 30
        }
      ]
    },
    {
      "cell_type": "code",
      "metadata": {
        "id": "A5Q3puWbpnN9",
        "colab_type": "code",
        "colab": {
          "base_uri": "https://localhost:8080/",
          "height": 85
        },
        "outputId": "62fb5fcc-8988-4095-8ce9-f5f667403643"
      },
      "source": [
        "np.ones((4, 3)) # Arreglos solo con unos de la forma especificada (en una tupla)"
      ],
      "execution_count": 31,
      "outputs": [
        {
          "output_type": "execute_result",
          "data": {
            "text/plain": [
              "array([[1., 1., 1.],\n",
              "       [1., 1., 1.],\n",
              "       [1., 1., 1.],\n",
              "       [1., 1., 1.]])"
            ]
          },
          "metadata": {
            "tags": []
          },
          "execution_count": 31
        }
      ]
    },
    {
      "cell_type": "code",
      "metadata": {
        "id": "jYetXqDkquQF",
        "colab_type": "code",
        "colab": {
          "base_uri": "https://localhost:8080/",
          "height": 34
        },
        "outputId": "e66ca1bb-8aa8-4362-87aa-9c66c2f25d49"
      },
      "source": [
        "type(np.ones(3)) # Tipo del arreglo"
      ],
      "execution_count": 32,
      "outputs": [
        {
          "output_type": "execute_result",
          "data": {
            "text/plain": [
              "numpy.ndarray"
            ]
          },
          "metadata": {
            "tags": []
          },
          "execution_count": 32
        }
      ]
    },
    {
      "cell_type": "code",
      "metadata": {
        "id": "ev8KMNf-rHWq",
        "colab_type": "code",
        "colab": {
          "base_uri": "https://localhost:8080/",
          "height": 34
        },
        "outputId": "3966a628-bd94-44c0-a21d-6415252db4da"
      },
      "source": [
        "type(np.zeros(4)[3]) # Tipo de un elemento especifico del arreglo de numpy"
      ],
      "execution_count": 33,
      "outputs": [
        {
          "output_type": "execute_result",
          "data": {
            "text/plain": [
              "numpy.float64"
            ]
          },
          "metadata": {
            "tags": []
          },
          "execution_count": 33
        }
      ]
    },
    {
      "cell_type": "code",
      "metadata": {
        "id": "xwGLP6_DrTtM",
        "colab_type": "code",
        "colab": {
          "base_uri": "https://localhost:8080/",
          "height": 51
        },
        "outputId": "473877d2-6b59-4bcb-f152-559cccc1685b"
      },
      "source": [
        "np.linspace(-10, 10, 21) # Array con rango de -10, 10, 21 elementos en el array"
      ],
      "execution_count": 34,
      "outputs": [
        {
          "output_type": "execute_result",
          "data": {
            "text/plain": [
              "array([-10.,  -9.,  -8.,  -7.,  -6.,  -5.,  -4.,  -3.,  -2.,  -1.,   0.,\n",
              "         1.,   2.,   3.,   4.,   5.,   6.,   7.,   8.,   9.,  10.])"
            ]
          },
          "metadata": {
            "tags": []
          },
          "execution_count": 34
        }
      ]
    },
    {
      "cell_type": "code",
      "metadata": {
        "id": "VWBrU0LrrxeD",
        "colab_type": "code",
        "colab": {
          "base_uri": "https://localhost:8080/",
          "height": 51
        },
        "outputId": "121e906b-7085-47ca-b83b-08e6b95e96db"
      },
      "source": [
        "b = np.array([['x', 'y', 'z'], ['a', 'b', 'c']]) # Arreglos multidimensionales\n",
        "print(b)"
      ],
      "execution_count": 35,
      "outputs": [
        {
          "output_type": "stream",
          "text": [
            "[['x' 'y' 'z']\n",
            " ['a' 'b' 'c']]\n"
          ],
          "name": "stdout"
        }
      ]
    },
    {
      "cell_type": "code",
      "metadata": {
        "id": "gMXZ1db-sgTT",
        "colab_type": "code",
        "colab": {
          "base_uri": "https://localhost:8080/",
          "height": 34
        },
        "outputId": "b827adba-bce4-4008-a980-9abc364585c9"
      },
      "source": [
        "b.ndim # Numero de dimensiones del arreglo"
      ],
      "execution_count": 36,
      "outputs": [
        {
          "output_type": "execute_result",
          "data": {
            "text/plain": [
              "2"
            ]
          },
          "metadata": {
            "tags": []
          },
          "execution_count": 36
        }
      ]
    },
    {
      "cell_type": "code",
      "metadata": {
        "id": "ts6-681LssF7",
        "colab_type": "code",
        "colab": {
          "base_uri": "https://localhost:8080/",
          "height": 34
        },
        "outputId": "df04ff82-0fdd-4a6d-c914-db8267f47f9f"
      },
      "source": [
        "c = [10, 7, 8, 3, 2]\n",
        "np.sort(c) # Ordenacion de un arreglo"
      ],
      "execution_count": 37,
      "outputs": [
        {
          "output_type": "execute_result",
          "data": {
            "text/plain": [
              "array([ 2,  3,  7,  8, 10])"
            ]
          },
          "metadata": {
            "tags": []
          },
          "execution_count": 37
        }
      ]
    },
    {
      "cell_type": "code",
      "metadata": {
        "id": "_mztG6h8ubBA",
        "colab_type": "code",
        "colab": {
          "base_uri": "https://localhost:8080/",
          "height": 51
        },
        "outputId": "b8922584-6cab-4937-b54b-70994335d3bd"
      },
      "source": [
        "cabeceras = [('nombre', 'S10'), ('edad', int)] # Nombres de las columnas y tipos\n",
        "datos = [('AJuan', 42), ('CPedro', 21), ('BRoberto', 10)] # Datos\n",
        "usuarios = np.array(datos, dtype=cabeceras) # Array con los datos y tipos\n",
        "\n",
        "np.sort(usuarios, order='edad') # Ordenacion segun la columna edad"
      ],
      "execution_count": 57,
      "outputs": [
        {
          "output_type": "execute_result",
          "data": {
            "text/plain": [
              "array([(b'BRoberto', 10), (b'CPedro', 21), (b'AJuan', 42)],\n",
              "      dtype=[('nombre', 'S10'), ('edad', '<i8')])"
            ]
          },
          "metadata": {
            "tags": []
          },
          "execution_count": 57
        }
      ]
    },
    {
      "cell_type": "code",
      "metadata": {
        "id": "6uaXajE51Mmq",
        "colab_type": "code",
        "colab": {
          "base_uri": "https://localhost:8080/",
          "height": 34
        },
        "outputId": "5b00894d-35b8-44cb-a028-4c385e47fa70"
      },
      "source": [
        "np.arange(5, 10, 2) # Array en el rango de 5 a 10 con pasos de 2 en 2"
      ],
      "execution_count": 59,
      "outputs": [
        {
          "output_type": "execute_result",
          "data": {
            "text/plain": [
              "array([5, 7, 9])"
            ]
          },
          "metadata": {
            "tags": []
          },
          "execution_count": 59
        }
      ]
    },
    {
      "cell_type": "code",
      "metadata": {
        "id": "YoP-4Y2T3g4T",
        "colab_type": "code",
        "colab": {
          "base_uri": "https://localhost:8080/",
          "height": 255
        },
        "outputId": "e649fbc7-2140-4616-ee58-9c715600e404"
      },
      "source": [
        "np.full((3, 4, 2), 10) # Array con la forma (3, 4, 2) lleno de solamente 10"
      ],
      "execution_count": 64,
      "outputs": [
        {
          "output_type": "execute_result",
          "data": {
            "text/plain": [
              "array([[[10, 10],\n",
              "        [10, 10],\n",
              "        [10, 10],\n",
              "        [10, 10]],\n",
              "\n",
              "       [[10, 10],\n",
              "        [10, 10],\n",
              "        [10, 10],\n",
              "        [10, 10]],\n",
              "\n",
              "       [[10, 10],\n",
              "        [10, 10],\n",
              "        [10, 10],\n",
              "        [10, 10]]])"
            ]
          },
          "metadata": {
            "tags": []
          },
          "execution_count": 64
        }
      ]
    },
    {
      "cell_type": "code",
      "metadata": {
        "id": "8dD9Mh3n38jq",
        "colab_type": "code",
        "colab": {
          "base_uri": "https://localhost:8080/",
          "height": 85
        },
        "outputId": "94b3dece-c346-4924-8888-87350ff1f5af"
      },
      "source": [
        "np.diag([1, 2, 3, 4]) # Matriz con los valores del array en la diagonal"
      ],
      "execution_count": 68,
      "outputs": [
        {
          "output_type": "execute_result",
          "data": {
            "text/plain": [
              "array([[1, 0, 0, 0],\n",
              "       [0, 2, 0, 0],\n",
              "       [0, 0, 3, 0],\n",
              "       [0, 0, 0, 4]])"
            ]
          },
          "metadata": {
            "tags": []
          },
          "execution_count": 68
        }
      ]
    },
    {
      "cell_type": "markdown",
      "metadata": {
        "id": "S0Jlfajx5djK",
        "colab_type": "text"
      },
      "source": [
        "# **Reto**\n",
        "\n",
        "---\n",
        "\n",
        "Array tridimensional ordenado"
      ]
    },
    {
      "cell_type": "code",
      "metadata": {
        "id": "MIAfrnae5pB8",
        "colab_type": "code",
        "colab": {
          "base_uri": "https://localhost:8080/",
          "height": 68
        },
        "outputId": "3cca4833-c64e-42f2-ebfa-e910ce4f5563"
      },
      "source": [
        "cabeceras = [('nombre', 'S15'), ('edad', int), ('pais', 'S15')]\n",
        "datos = [('Paco', 12, 'Colombia'), ('Maria', 54, 'Peru'), ('Monica', 23, 'Mexico')]\n",
        "usuarios = np.array(datos, dtype=cabeceras)\n",
        "\n",
        "np.sort(usuarios, order='edad')"
      ],
      "execution_count": 77,
      "outputs": [
        {
          "output_type": "execute_result",
          "data": {
            "text/plain": [
              "array([(b'Paco', 12, b'Colombia'), (b'Monica', 23, b'Mexico'),\n",
              "       (b'Maria', 54, b'Peru')],\n",
              "      dtype=[('nombre', 'S15'), ('edad', '<i8'), ('pais', 'S15')])"
            ]
          },
          "metadata": {
            "tags": []
          },
          "execution_count": 77
        }
      ]
    },
    {
      "cell_type": "code",
      "metadata": {
        "id": "x5nAyJMP6W9G",
        "colab_type": "code",
        "colab": {}
      },
      "source": [
        ""
      ],
      "execution_count": 0,
      "outputs": []
    }
  ]
}