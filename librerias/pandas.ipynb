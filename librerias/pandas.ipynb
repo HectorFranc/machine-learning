{
  "nbformat": 4,
  "nbformat_minor": 0,
  "metadata": {
    "colab": {
      "name": "pandas.ipynb",
      "provenance": [],
      "collapsed_sections": []
    },
    "kernelspec": {
      "name": "python3",
      "display_name": "Python 3"
    }
  },
  "cells": [
    {
      "cell_type": "code",
      "metadata": {
        "id": "7H-b464n96Et",
        "colab_type": "code",
        "colab": {}
      },
      "source": [
        "import pandas as pd"
      ],
      "execution_count": 0,
      "outputs": []
    },
    {
      "cell_type": "markdown",
      "metadata": {
        "id": "vvgRKTa1-Xhw",
        "colab_type": "text"
      },
      "source": [
        "# **Pandas**\n",
        "\n",
        "---\n",
        "\n"
      ]
    },
    {
      "cell_type": "markdown",
      "metadata": {
        "id": "VK9V3PN-BEbZ",
        "colab_type": "text"
      },
      "source": [
        "**Series**\n",
        "\n"
      ]
    },
    {
      "cell_type": "code",
      "metadata": {
        "id": "N8OYHc0e-W7N",
        "colab_type": "code",
        "colab": {
          "base_uri": "https://localhost:8080/",
          "height": 119
        },
        "outputId": "26b304ef-a400-4cf3-b7ec-0efd28bf11da"
      },
      "source": [
        "series = pd.Series([10, 9, 7, 4, 0]) # Series: data en forma de vector\n",
        "series"
      ],
      "execution_count": 2,
      "outputs": [
        {
          "output_type": "execute_result",
          "data": {
            "text/plain": [
              "0    10\n",
              "1     9\n",
              "2     7\n",
              "3     4\n",
              "4     0\n",
              "dtype: int64"
            ]
          },
          "metadata": {
            "tags": []
          },
          "execution_count": 2
        }
      ]
    },
    {
      "cell_type": "code",
      "metadata": {
        "id": "ym9hNplJ-6Vr",
        "colab_type": "code",
        "colab": {
          "base_uri": "https://localhost:8080/",
          "height": 34
        },
        "outputId": "5fc83801-7868-491a-ff91-7d5353c95ccb"
      },
      "source": [
        "type(series) # Tipo de la variable series"
      ],
      "execution_count": 4,
      "outputs": [
        {
          "output_type": "execute_result",
          "data": {
            "text/plain": [
              "pandas.core.series.Series"
            ]
          },
          "metadata": {
            "tags": []
          },
          "execution_count": 4
        }
      ]
    },
    {
      "cell_type": "code",
      "metadata": {
        "id": "wH5QV5fY_HwI",
        "colab_type": "code",
        "colab": {
          "base_uri": "https://localhost:8080/",
          "height": 204
        },
        "outputId": "9d5b8326-6762-45f0-c404-697833d5c2bf"
      },
      "source": [
        "# Slicing con series de pandas\n",
        "print(series[3])\n",
        "print(series[3: 5])\n",
        "print(series[2:])\n",
        "print(series[1::2])"
      ],
      "execution_count": 7,
      "outputs": [
        {
          "output_type": "stream",
          "text": [
            "4\n",
            "3    4\n",
            "4    0\n",
            "dtype: int64\n",
            "2    7\n",
            "3    4\n",
            "4    0\n",
            "dtype: int64\n",
            "1    9\n",
            "3    4\n",
            "dtype: int64\n"
          ],
          "name": "stdout"
        }
      ]
    },
    {
      "cell_type": "code",
      "metadata": {
        "id": "RLW5ohOo_gug",
        "colab_type": "code",
        "colab": {
          "base_uri": "https://localhost:8080/",
          "height": 136
        },
        "outputId": "0991c126-379e-4f0a-e6d4-ce0b0ad97c39"
      },
      "source": [
        "# Las series pueden contener caracteres y son de tipo \"object\"\n",
        "cad = pd.Series(['h', 'e', 'c', 't', 'o', 'r'])\n",
        "print(cad)"
      ],
      "execution_count": 8,
      "outputs": [
        {
          "output_type": "stream",
          "text": [
            "0    h\n",
            "1    e\n",
            "2    c\n",
            "3    t\n",
            "4    o\n",
            "5    r\n",
            "dtype: object\n"
          ],
          "name": "stdout"
        }
      ]
    },
    {
      "cell_type": "markdown",
      "metadata": {
        "id": "tmRnQLIpBLBQ",
        "colab_type": "text"
      },
      "source": [
        "**Dataframes**"
      ]
    },
    {
      "cell_type": "code",
      "metadata": {
        "id": "oYDhJtuiAEAm",
        "colab_type": "code",
        "colab": {
          "base_uri": "https://localhost:8080/",
          "height": 85
        },
        "outputId": "c4ca196c-66e2-4984-f71f-ed945aeb5894"
      },
      "source": [
        "df = pd.DataFrame(['hello', 'robotic', 'world']) # Estructura de un Dataframe\n",
        "print(df)"
      ],
      "execution_count": 9,
      "outputs": [
        {
          "output_type": "stream",
          "text": [
            "         0\n",
            "0    hello\n",
            "1  robotic\n",
            "2    world\n"
          ],
          "name": "stdout"
        }
      ]
    },
    {
      "cell_type": "code",
      "metadata": {
        "id": "31kS9YNvA5eT",
        "colab_type": "code",
        "colab": {
          "base_uri": "https://localhost:8080/",
          "height": 85
        },
        "outputId": "976acd00-d3e6-4a97-c224-e49a1767800c"
      },
      "source": [
        "data = {\n",
        "    'Nombre': ['Hector', 'Foo', 'Bar'],\n",
        "    'Edad': [14, 25, 36],\n",
        "    'Pais': ['MX', 'CO', 'BR']\n",
        "} # Data para un dataframe\n",
        "df = pd.DataFrame(data) # Creacion del dataframe\n",
        "print(df)"
      ],
      "execution_count": 10,
      "outputs": [
        {
          "output_type": "stream",
          "text": [
            "   Nombre  Edad Pais\n",
            "0  Hector    14   MX\n",
            "1     Foo    25   CO\n",
            "2     Bar    36   BR\n"
          ],
          "name": "stdout"
        }
      ]
    },
    {
      "cell_type": "code",
      "metadata": {
        "id": "_9iK4Ry0Cu5a",
        "colab_type": "code",
        "colab": {
          "base_uri": "https://localhost:8080/",
          "height": 85
        },
        "outputId": "ebcf00e6-6e82-40ff-ed24-4666f49dc2e4"
      },
      "source": [
        "print(df[['Nombre', 'Pais']]) # \"Slicing\" en dataframes"
      ],
      "execution_count": 12,
      "outputs": [
        {
          "output_type": "stream",
          "text": [
            "   Nombre Pais\n",
            "0  Hector   MX\n",
            "1     Foo   CO\n",
            "2     Bar   BR\n"
          ],
          "name": "stdout"
        }
      ]
    },
    {
      "cell_type": "markdown",
      "metadata": {
        "id": "o8rSuXm0IAK2",
        "colab_type": "text"
      },
      "source": [
        "**Archivos csv**"
      ]
    },
    {
      "cell_type": "code",
      "metadata": {
        "id": "bENT_HkRDeAk",
        "colab_type": "code",
        "colab": {
          "base_uri": "https://localhost:8080/",
          "height": 391
        },
        "outputId": "e7ad15ab-dc46-4bea-da9d-0f265e412ebb"
      },
      "source": [
        "data = pd.read_csv('canciones-2018.csv') # Datos desde un csv\n",
        "data.head(6) # Primeras 6 filas de mi data"
      ],
      "execution_count": 13,
      "outputs": [
        {
          "output_type": "execute_result",
          "data": {
            "text/html": [
              "<div>\n",
              "<style scoped>\n",
              "    .dataframe tbody tr th:only-of-type {\n",
              "        vertical-align: middle;\n",
              "    }\n",
              "\n",
              "    .dataframe tbody tr th {\n",
              "        vertical-align: top;\n",
              "    }\n",
              "\n",
              "    .dataframe thead th {\n",
              "        text-align: right;\n",
              "    }\n",
              "</style>\n",
              "<table border=\"1\" class=\"dataframe\">\n",
              "  <thead>\n",
              "    <tr style=\"text-align: right;\">\n",
              "      <th></th>\n",
              "      <th>id</th>\n",
              "      <th>name</th>\n",
              "      <th>artists</th>\n",
              "      <th>danceability</th>\n",
              "      <th>energy</th>\n",
              "      <th>key</th>\n",
              "      <th>loudness</th>\n",
              "      <th>mode</th>\n",
              "      <th>speechiness</th>\n",
              "      <th>acousticness</th>\n",
              "      <th>instrumentalness</th>\n",
              "      <th>liveness</th>\n",
              "      <th>valence</th>\n",
              "      <th>tempo</th>\n",
              "      <th>duration_ms</th>\n",
              "      <th>time_signature</th>\n",
              "    </tr>\n",
              "  </thead>\n",
              "  <tbody>\n",
              "    <tr>\n",
              "      <th>0</th>\n",
              "      <td>6DCZcSspjsKoFjzjrWoCd</td>\n",
              "      <td>God's Plan</td>\n",
              "      <td>Drake</td>\n",
              "      <td>0.754</td>\n",
              "      <td>0.449</td>\n",
              "      <td>7.0</td>\n",
              "      <td>-9.211</td>\n",
              "      <td>1.0</td>\n",
              "      <td>0.1090</td>\n",
              "      <td>0.0332</td>\n",
              "      <td>0.000083</td>\n",
              "      <td>0.552</td>\n",
              "      <td>0.357</td>\n",
              "      <td>77.169</td>\n",
              "      <td>198973.0</td>\n",
              "      <td>4.0</td>\n",
              "    </tr>\n",
              "    <tr>\n",
              "      <th>1</th>\n",
              "      <td>3ee8Jmje8o58CHK66QrVC</td>\n",
              "      <td>SAD!</td>\n",
              "      <td>XXXTENTACION</td>\n",
              "      <td>0.740</td>\n",
              "      <td>0.613</td>\n",
              "      <td>8.0</td>\n",
              "      <td>-4.880</td>\n",
              "      <td>1.0</td>\n",
              "      <td>0.1450</td>\n",
              "      <td>0.2580</td>\n",
              "      <td>0.003720</td>\n",
              "      <td>0.123</td>\n",
              "      <td>0.473</td>\n",
              "      <td>75.023</td>\n",
              "      <td>166606.0</td>\n",
              "      <td>4.0</td>\n",
              "    </tr>\n",
              "    <tr>\n",
              "      <th>2</th>\n",
              "      <td>0e7ipj03S05BNilyu5bRz</td>\n",
              "      <td>rockstar (feat. 21 Savage)</td>\n",
              "      <td>Post Malone</td>\n",
              "      <td>0.587</td>\n",
              "      <td>0.535</td>\n",
              "      <td>5.0</td>\n",
              "      <td>-6.090</td>\n",
              "      <td>0.0</td>\n",
              "      <td>0.0898</td>\n",
              "      <td>0.1170</td>\n",
              "      <td>0.000066</td>\n",
              "      <td>0.131</td>\n",
              "      <td>0.140</td>\n",
              "      <td>159.847</td>\n",
              "      <td>218147.0</td>\n",
              "      <td>4.0</td>\n",
              "    </tr>\n",
              "    <tr>\n",
              "      <th>3</th>\n",
              "      <td>3swc6WTsr7rl9DqQKQA55</td>\n",
              "      <td>Psycho (feat. Ty Dolla $ign)</td>\n",
              "      <td>Post Malone</td>\n",
              "      <td>0.739</td>\n",
              "      <td>0.559</td>\n",
              "      <td>8.0</td>\n",
              "      <td>-8.011</td>\n",
              "      <td>1.0</td>\n",
              "      <td>0.1170</td>\n",
              "      <td>0.5800</td>\n",
              "      <td>0.000000</td>\n",
              "      <td>0.112</td>\n",
              "      <td>0.439</td>\n",
              "      <td>140.124</td>\n",
              "      <td>221440.0</td>\n",
              "      <td>4.0</td>\n",
              "    </tr>\n",
              "    <tr>\n",
              "      <th>4</th>\n",
              "      <td>2G7V7zsVDxg1yRsu7Ew9R</td>\n",
              "      <td>In My Feelings</td>\n",
              "      <td>Drake</td>\n",
              "      <td>0.835</td>\n",
              "      <td>0.626</td>\n",
              "      <td>1.0</td>\n",
              "      <td>-5.833</td>\n",
              "      <td>1.0</td>\n",
              "      <td>0.1250</td>\n",
              "      <td>0.0589</td>\n",
              "      <td>0.000060</td>\n",
              "      <td>0.396</td>\n",
              "      <td>0.350</td>\n",
              "      <td>91.030</td>\n",
              "      <td>217925.0</td>\n",
              "      <td>4.0</td>\n",
              "    </tr>\n",
              "    <tr>\n",
              "      <th>5</th>\n",
              "      <td>7dt6x5M1jzdTEt8oCbisT</td>\n",
              "      <td>Better Now</td>\n",
              "      <td>Post Malone</td>\n",
              "      <td>0.680</td>\n",
              "      <td>0.563</td>\n",
              "      <td>10.0</td>\n",
              "      <td>-5.843</td>\n",
              "      <td>1.0</td>\n",
              "      <td>0.0454</td>\n",
              "      <td>0.3540</td>\n",
              "      <td>0.000000</td>\n",
              "      <td>0.136</td>\n",
              "      <td>0.374</td>\n",
              "      <td>145.028</td>\n",
              "      <td>231267.0</td>\n",
              "      <td>4.0</td>\n",
              "    </tr>\n",
              "  </tbody>\n",
              "</table>\n",
              "</div>"
            ],
            "text/plain": [
              "                      id  ... time_signature\n",
              "0  6DCZcSspjsKoFjzjrWoCd  ...            4.0\n",
              "1  3ee8Jmje8o58CHK66QrVC  ...            4.0\n",
              "2  0e7ipj03S05BNilyu5bRz  ...            4.0\n",
              "3  3swc6WTsr7rl9DqQKQA55  ...            4.0\n",
              "4  2G7V7zsVDxg1yRsu7Ew9R  ...            4.0\n",
              "5  7dt6x5M1jzdTEt8oCbisT  ...            4.0\n",
              "\n",
              "[6 rows x 16 columns]"
            ]
          },
          "metadata": {
            "tags": []
          },
          "execution_count": 13
        }
      ]
    },
    {
      "cell_type": "code",
      "metadata": {
        "id": "an7GKi5dFc-w",
        "colab_type": "code",
        "colab": {
          "base_uri": "https://localhost:8080/",
          "height": 34
        },
        "outputId": "879d4cbb-1f02-46dc-b9f5-cdb5de47e5a4"
      },
      "source": [
        "artistas = data.artists # Columna artist\n",
        "artistas[4] # Artista en indice 4"
      ],
      "execution_count": 16,
      "outputs": [
        {
          "output_type": "execute_result",
          "data": {
            "text/plain": [
              "'Drake'"
            ]
          },
          "metadata": {
            "tags": []
          },
          "execution_count": 16
        }
      ]
    },
    {
      "cell_type": "code",
      "metadata": {
        "id": "IIcumMXWF4Zk",
        "colab_type": "code",
        "colab": {
          "base_uri": "https://localhost:8080/",
          "height": 34
        },
        "outputId": "83ce0ab9-35d6-48bd-a1ec-4da40782c963"
      },
      "source": [
        "info = data.iloc # Info de cada fila, se accede por slicing\n",
        "info[0][1]"
      ],
      "execution_count": 38,
      "outputs": [
        {
          "output_type": "execute_result",
          "data": {
            "text/plain": [
              "\"God's Plan\""
            ]
          },
          "metadata": {
            "tags": []
          },
          "execution_count": 38
        }
      ]
    },
    {
      "cell_type": "code",
      "metadata": {
        "id": "ZqTrDKjkGHJv",
        "colab_type": "code",
        "colab": {
          "base_uri": "https://localhost:8080/",
          "height": 391
        },
        "outputId": "c556664e-bdbf-4507-b69d-474662c9f8ac"
      },
      "source": [
        "data.tail(6) # Devuelve las ultimas 6 filas de datos"
      ],
      "execution_count": 39,
      "outputs": [
        {
          "output_type": "execute_result",
          "data": {
            "text/html": [
              "<div>\n",
              "<style scoped>\n",
              "    .dataframe tbody tr th:only-of-type {\n",
              "        vertical-align: middle;\n",
              "    }\n",
              "\n",
              "    .dataframe tbody tr th {\n",
              "        vertical-align: top;\n",
              "    }\n",
              "\n",
              "    .dataframe thead th {\n",
              "        text-align: right;\n",
              "    }\n",
              "</style>\n",
              "<table border=\"1\" class=\"dataframe\">\n",
              "  <thead>\n",
              "    <tr style=\"text-align: right;\">\n",
              "      <th></th>\n",
              "      <th>id</th>\n",
              "      <th>name</th>\n",
              "      <th>artists</th>\n",
              "      <th>danceability</th>\n",
              "      <th>energy</th>\n",
              "      <th>key</th>\n",
              "      <th>loudness</th>\n",
              "      <th>mode</th>\n",
              "      <th>speechiness</th>\n",
              "      <th>acousticness</th>\n",
              "      <th>instrumentalness</th>\n",
              "      <th>liveness</th>\n",
              "      <th>valence</th>\n",
              "      <th>tempo</th>\n",
              "      <th>duration_ms</th>\n",
              "      <th>time_signature</th>\n",
              "    </tr>\n",
              "  </thead>\n",
              "  <tbody>\n",
              "    <tr>\n",
              "      <th>94</th>\n",
              "      <td>3GVkPk8mqxz0itaAriG1L</td>\n",
              "      <td>Everybody Dies In Their Nightmares</td>\n",
              "      <td>XXXTENTACION</td>\n",
              "      <td>0.734</td>\n",
              "      <td>0.570</td>\n",
              "      <td>7.0</td>\n",
              "      <td>-7.066</td>\n",
              "      <td>0.0</td>\n",
              "      <td>0.1330</td>\n",
              "      <td>0.8470</td>\n",
              "      <td>0.000021</td>\n",
              "      <td>0.1120</td>\n",
              "      <td>0.6890</td>\n",
              "      <td>129.953</td>\n",
              "      <td>95467.0</td>\n",
              "      <td>4.0</td>\n",
              "    </tr>\n",
              "    <tr>\n",
              "      <th>95</th>\n",
              "      <td>630sXRhIcfwr2e4RdNtjK</td>\n",
              "      <td>Rewrite The Stars</td>\n",
              "      <td>Zac Efron</td>\n",
              "      <td>0.684</td>\n",
              "      <td>0.619</td>\n",
              "      <td>10.0</td>\n",
              "      <td>-7.005</td>\n",
              "      <td>1.0</td>\n",
              "      <td>0.0386</td>\n",
              "      <td>0.0716</td>\n",
              "      <td>0.000000</td>\n",
              "      <td>0.1220</td>\n",
              "      <td>0.2840</td>\n",
              "      <td>125.046</td>\n",
              "      <td>217440.0</td>\n",
              "      <td>4.0</td>\n",
              "    </tr>\n",
              "    <tr>\n",
              "      <th>96</th>\n",
              "      <td>2xmrfQpmS2iJExTlklLoA</td>\n",
              "      <td>I Miss You (feat. Julia Michaels)</td>\n",
              "      <td>Clean Bandit</td>\n",
              "      <td>0.638</td>\n",
              "      <td>0.658</td>\n",
              "      <td>3.0</td>\n",
              "      <td>-6.318</td>\n",
              "      <td>1.0</td>\n",
              "      <td>0.0456</td>\n",
              "      <td>0.2450</td>\n",
              "      <td>0.000004</td>\n",
              "      <td>0.0919</td>\n",
              "      <td>0.3300</td>\n",
              "      <td>105.076</td>\n",
              "      <td>205748.0</td>\n",
              "      <td>4.0</td>\n",
              "    </tr>\n",
              "    <tr>\n",
              "      <th>97</th>\n",
              "      <td>5WvAo7DNuPRmk4APhdPzi</td>\n",
              "      <td>No Brainer</td>\n",
              "      <td>DJ Khaled</td>\n",
              "      <td>0.552</td>\n",
              "      <td>0.760</td>\n",
              "      <td>0.0</td>\n",
              "      <td>-4.706</td>\n",
              "      <td>1.0</td>\n",
              "      <td>0.3420</td>\n",
              "      <td>0.0733</td>\n",
              "      <td>0.000000</td>\n",
              "      <td>0.0865</td>\n",
              "      <td>0.6390</td>\n",
              "      <td>135.702</td>\n",
              "      <td>260000.0</td>\n",
              "      <td>5.0</td>\n",
              "    </tr>\n",
              "    <tr>\n",
              "      <th>98</th>\n",
              "      <td>1j4kHkkpqZRBwE0A4CN4Y</td>\n",
              "      <td>Dusk Till Dawn - Radio Edit</td>\n",
              "      <td>ZAYN</td>\n",
              "      <td>0.258</td>\n",
              "      <td>0.437</td>\n",
              "      <td>11.0</td>\n",
              "      <td>-6.593</td>\n",
              "      <td>0.0</td>\n",
              "      <td>0.0390</td>\n",
              "      <td>0.1010</td>\n",
              "      <td>0.000001</td>\n",
              "      <td>0.1060</td>\n",
              "      <td>0.0967</td>\n",
              "      <td>180.043</td>\n",
              "      <td>239000.0</td>\n",
              "      <td>4.0</td>\n",
              "    </tr>\n",
              "    <tr>\n",
              "      <th>99</th>\n",
              "      <td>3EPXxR3ImUwfayaurPi3c</td>\n",
              "      <td>Be Alright</td>\n",
              "      <td>Dean Lewis</td>\n",
              "      <td>0.553</td>\n",
              "      <td>0.586</td>\n",
              "      <td>11.0</td>\n",
              "      <td>-6.319</td>\n",
              "      <td>1.0</td>\n",
              "      <td>0.0362</td>\n",
              "      <td>0.6970</td>\n",
              "      <td>0.000000</td>\n",
              "      <td>0.0813</td>\n",
              "      <td>0.4430</td>\n",
              "      <td>126.684</td>\n",
              "      <td>196373.0</td>\n",
              "      <td>4.0</td>\n",
              "    </tr>\n",
              "  </tbody>\n",
              "</table>\n",
              "</div>"
            ],
            "text/plain": [
              "                       id  ... time_signature\n",
              "94  3GVkPk8mqxz0itaAriG1L  ...            4.0\n",
              "95  630sXRhIcfwr2e4RdNtjK  ...            4.0\n",
              "96  2xmrfQpmS2iJExTlklLoA  ...            4.0\n",
              "97  5WvAo7DNuPRmk4APhdPzi  ...            5.0\n",
              "98  1j4kHkkpqZRBwE0A4CN4Y  ...            4.0\n",
              "99  3EPXxR3ImUwfayaurPi3c  ...            4.0\n",
              "\n",
              "[6 rows x 16 columns]"
            ]
          },
          "metadata": {
            "tags": []
          },
          "execution_count": 39
        }
      ]
    },
    {
      "cell_type": "code",
      "metadata": {
        "id": "MYuRtAUoH5oq",
        "colab_type": "code",
        "colab": {
          "base_uri": "https://localhost:8080/",
          "height": 34
        },
        "outputId": "39398b61-e254-490c-fecb-3fd0760f9303"
      },
      "source": [
        "data.shape # Forma del dataframe"
      ],
      "execution_count": 40,
      "outputs": [
        {
          "output_type": "execute_result",
          "data": {
            "text/plain": [
              "(100, 16)"
            ]
          },
          "metadata": {
            "tags": []
          },
          "execution_count": 40
        }
      ]
    },
    {
      "cell_type": "code",
      "metadata": {
        "id": "KqQ40G6TIL7X",
        "colab_type": "code",
        "colab": {
          "base_uri": "https://localhost:8080/",
          "height": 85
        },
        "outputId": "094851ce-98cb-4579-a897-046f20f0343c"
      },
      "source": [
        "data.columns # Nombre de las columnas del dataframe"
      ],
      "execution_count": 41,
      "outputs": [
        {
          "output_type": "execute_result",
          "data": {
            "text/plain": [
              "Index(['id', 'name', 'artists', 'danceability', 'energy', 'key', 'loudness',\n",
              "       'mode', 'speechiness', 'acousticness', 'instrumentalness', 'liveness',\n",
              "       'valence', 'tempo', 'duration_ms', 'time_signature'],\n",
              "      dtype='object')"
            ]
          },
          "metadata": {
            "tags": []
          },
          "execution_count": 41
        }
      ]
    },
    {
      "cell_type": "code",
      "metadata": {
        "id": "oX-vivkBIdxD",
        "colab_type": "code",
        "colab": {
          "base_uri": "https://localhost:8080/",
          "height": 34
        },
        "outputId": "6007c94b-dbda-4243-8eb7-61f1f5a85b61"
      },
      "source": [
        "len(data) # Numero de elementos del dataframe"
      ],
      "execution_count": 42,
      "outputs": [
        {
          "output_type": "execute_result",
          "data": {
            "text/plain": [
              "100"
            ]
          },
          "metadata": {
            "tags": []
          },
          "execution_count": 42
        }
      ]
    },
    {
      "cell_type": "code",
      "metadata": {
        "id": "AZVCwbeYIgCs",
        "colab_type": "code",
        "colab": {
          "base_uri": "https://localhost:8080/",
          "height": 317
        },
        "outputId": "4af486b5-d382-4fda-d5f3-49290161471a"
      },
      "source": [
        "data.describe # Genera estadisticas descriptivas del dataframe"
      ],
      "execution_count": 43,
      "outputs": [
        {
          "output_type": "execute_result",
          "data": {
            "text/html": [
              "<div>\n",
              "<style scoped>\n",
              "    .dataframe tbody tr th:only-of-type {\n",
              "        vertical-align: middle;\n",
              "    }\n",
              "\n",
              "    .dataframe tbody tr th {\n",
              "        vertical-align: top;\n",
              "    }\n",
              "\n",
              "    .dataframe thead th {\n",
              "        text-align: right;\n",
              "    }\n",
              "</style>\n",
              "<table border=\"1\" class=\"dataframe\">\n",
              "  <thead>\n",
              "    <tr style=\"text-align: right;\">\n",
              "      <th></th>\n",
              "      <th>danceability</th>\n",
              "      <th>energy</th>\n",
              "      <th>key</th>\n",
              "      <th>loudness</th>\n",
              "      <th>mode</th>\n",
              "      <th>speechiness</th>\n",
              "      <th>acousticness</th>\n",
              "      <th>instrumentalness</th>\n",
              "      <th>liveness</th>\n",
              "      <th>valence</th>\n",
              "      <th>tempo</th>\n",
              "      <th>duration_ms</th>\n",
              "      <th>time_signature</th>\n",
              "    </tr>\n",
              "  </thead>\n",
              "  <tbody>\n",
              "    <tr>\n",
              "      <th>count</th>\n",
              "      <td>100.00000</td>\n",
              "      <td>100.000000</td>\n",
              "      <td>100.000000</td>\n",
              "      <td>100.000000</td>\n",
              "      <td>100.000000</td>\n",
              "      <td>100.000000</td>\n",
              "      <td>100.000000</td>\n",
              "      <td>100.000000</td>\n",
              "      <td>100.000000</td>\n",
              "      <td>100.000000</td>\n",
              "      <td>100.000000</td>\n",
              "      <td>100.000000</td>\n",
              "      <td>100.00</td>\n",
              "    </tr>\n",
              "    <tr>\n",
              "      <th>mean</th>\n",
              "      <td>0.71646</td>\n",
              "      <td>0.659060</td>\n",
              "      <td>5.330000</td>\n",
              "      <td>-5.677640</td>\n",
              "      <td>0.590000</td>\n",
              "      <td>0.115569</td>\n",
              "      <td>0.195701</td>\n",
              "      <td>0.001584</td>\n",
              "      <td>0.158302</td>\n",
              "      <td>0.484443</td>\n",
              "      <td>119.904180</td>\n",
              "      <td>205206.780000</td>\n",
              "      <td>3.98</td>\n",
              "    </tr>\n",
              "    <tr>\n",
              "      <th>std</th>\n",
              "      <td>0.13107</td>\n",
              "      <td>0.145067</td>\n",
              "      <td>3.676447</td>\n",
              "      <td>1.777577</td>\n",
              "      <td>0.494311</td>\n",
              "      <td>0.104527</td>\n",
              "      <td>0.220946</td>\n",
              "      <td>0.013449</td>\n",
              "      <td>0.111662</td>\n",
              "      <td>0.206145</td>\n",
              "      <td>28.795984</td>\n",
              "      <td>40007.893404</td>\n",
              "      <td>0.20</td>\n",
              "    </tr>\n",
              "    <tr>\n",
              "      <th>min</th>\n",
              "      <td>0.25800</td>\n",
              "      <td>0.296000</td>\n",
              "      <td>0.000000</td>\n",
              "      <td>-10.109000</td>\n",
              "      <td>0.000000</td>\n",
              "      <td>0.023200</td>\n",
              "      <td>0.000282</td>\n",
              "      <td>0.000000</td>\n",
              "      <td>0.021500</td>\n",
              "      <td>0.079600</td>\n",
              "      <td>64.934000</td>\n",
              "      <td>95467.000000</td>\n",
              "      <td>3.00</td>\n",
              "    </tr>\n",
              "    <tr>\n",
              "      <th>25%</th>\n",
              "      <td>0.63550</td>\n",
              "      <td>0.562000</td>\n",
              "      <td>1.750000</td>\n",
              "      <td>-6.650500</td>\n",
              "      <td>0.000000</td>\n",
              "      <td>0.045350</td>\n",
              "      <td>0.040225</td>\n",
              "      <td>0.000000</td>\n",
              "      <td>0.094675</td>\n",
              "      <td>0.341000</td>\n",
              "      <td>95.730750</td>\n",
              "      <td>184680.000000</td>\n",
              "      <td>4.00</td>\n",
              "    </tr>\n",
              "    <tr>\n",
              "      <th>50%</th>\n",
              "      <td>0.73300</td>\n",
              "      <td>0.678000</td>\n",
              "      <td>5.000000</td>\n",
              "      <td>-5.566500</td>\n",
              "      <td>1.000000</td>\n",
              "      <td>0.074950</td>\n",
              "      <td>0.109000</td>\n",
              "      <td>0.000000</td>\n",
              "      <td>0.118500</td>\n",
              "      <td>0.470500</td>\n",
              "      <td>120.116000</td>\n",
              "      <td>205047.500000</td>\n",
              "      <td>4.00</td>\n",
              "    </tr>\n",
              "    <tr>\n",
              "      <th>75%</th>\n",
              "      <td>0.79825</td>\n",
              "      <td>0.772250</td>\n",
              "      <td>8.250000</td>\n",
              "      <td>-4.363750</td>\n",
              "      <td>1.000000</td>\n",
              "      <td>0.137000</td>\n",
              "      <td>0.247750</td>\n",
              "      <td>0.000031</td>\n",
              "      <td>0.170750</td>\n",
              "      <td>0.641500</td>\n",
              "      <td>140.022750</td>\n",
              "      <td>221493.250000</td>\n",
              "      <td>4.00</td>\n",
              "    </tr>\n",
              "    <tr>\n",
              "      <th>max</th>\n",
              "      <td>0.96400</td>\n",
              "      <td>0.909000</td>\n",
              "      <td>11.000000</td>\n",
              "      <td>-2.384000</td>\n",
              "      <td>1.000000</td>\n",
              "      <td>0.530000</td>\n",
              "      <td>0.934000</td>\n",
              "      <td>0.134000</td>\n",
              "      <td>0.636000</td>\n",
              "      <td>0.931000</td>\n",
              "      <td>198.075000</td>\n",
              "      <td>417920.000000</td>\n",
              "      <td>5.00</td>\n",
              "    </tr>\n",
              "  </tbody>\n",
              "</table>\n",
              "</div>"
            ],
            "text/plain": [
              "       danceability      energy  ...    duration_ms  time_signature\n",
              "count     100.00000  100.000000  ...     100.000000          100.00\n",
              "mean        0.71646    0.659060  ...  205206.780000            3.98\n",
              "std         0.13107    0.145067  ...   40007.893404            0.20\n",
              "min         0.25800    0.296000  ...   95467.000000            3.00\n",
              "25%         0.63550    0.562000  ...  184680.000000            4.00\n",
              "50%         0.73300    0.678000  ...  205047.500000            4.00\n",
              "75%         0.79825    0.772250  ...  221493.250000            4.00\n",
              "max         0.96400    0.909000  ...  417920.000000            5.00\n",
              "\n",
              "[8 rows x 13 columns]"
            ]
          },
          "metadata": {
            "tags": []
          },
          "execution_count": 43
        }
      ]
    },
    {
      "cell_type": "code",
      "metadata": {
        "id": "TaVdjDZiIrmI",
        "colab_type": "code",
        "colab": {
          "base_uri": "https://localhost:8080/",
          "height": 476
        },
        "outputId": "ad6ef69c-00a0-4e73-d60a-51ea0fcc39cf"
      },
      "source": [
        "# Puede usarse slicing\n",
        "print(data.describe()['energy'])\n",
        "print(data['energy'].describe())\n",
        "\n",
        "# O dot notation\n",
        "print(data.energy.describe())"
      ],
      "execution_count": 46,
      "outputs": [
        {
          "output_type": "stream",
          "text": [
            "count    100.000000\n",
            "mean       0.659060\n",
            "std        0.145067\n",
            "min        0.296000\n",
            "25%        0.562000\n",
            "50%        0.678000\n",
            "75%        0.772250\n",
            "max        0.909000\n",
            "Name: energy, dtype: float64\n",
            "count    100.000000\n",
            "mean       0.659060\n",
            "std        0.145067\n",
            "min        0.296000\n",
            "25%        0.562000\n",
            "50%        0.678000\n",
            "75%        0.772250\n",
            "max        0.909000\n",
            "Name: energy, dtype: float64\n",
            "count    100.000000\n",
            "mean       0.659060\n",
            "std        0.145067\n",
            "min        0.296000\n",
            "25%        0.562000\n",
            "50%        0.678000\n",
            "75%        0.772250\n",
            "max        0.909000\n",
            "Name: energy, dtype: float64\n"
          ],
          "name": "stdout"
        }
      ]
    },
    {
      "cell_type": "code",
      "metadata": {
        "id": "ADnsvXutI7qX",
        "colab_type": "code",
        "colab": {
          "base_uri": "https://localhost:8080/",
          "height": 711
        },
        "outputId": "f317ec71-4d38-4e4e-ffb0-6f224ee33551"
      },
      "source": [
        "# ordenar por indice en orden no ascendente\n",
        "data.sort_index(axis=0, ascending=False)"
      ],
      "execution_count": 48,
      "outputs": [
        {
          "output_type": "execute_result",
          "data": {
            "text/html": [
              "<div>\n",
              "<style scoped>\n",
              "    .dataframe tbody tr th:only-of-type {\n",
              "        vertical-align: middle;\n",
              "    }\n",
              "\n",
              "    .dataframe tbody tr th {\n",
              "        vertical-align: top;\n",
              "    }\n",
              "\n",
              "    .dataframe thead th {\n",
              "        text-align: right;\n",
              "    }\n",
              "</style>\n",
              "<table border=\"1\" class=\"dataframe\">\n",
              "  <thead>\n",
              "    <tr style=\"text-align: right;\">\n",
              "      <th></th>\n",
              "      <th>id</th>\n",
              "      <th>name</th>\n",
              "      <th>artists</th>\n",
              "      <th>danceability</th>\n",
              "      <th>energy</th>\n",
              "      <th>key</th>\n",
              "      <th>loudness</th>\n",
              "      <th>mode</th>\n",
              "      <th>speechiness</th>\n",
              "      <th>acousticness</th>\n",
              "      <th>instrumentalness</th>\n",
              "      <th>liveness</th>\n",
              "      <th>valence</th>\n",
              "      <th>tempo</th>\n",
              "      <th>duration_ms</th>\n",
              "      <th>time_signature</th>\n",
              "    </tr>\n",
              "  </thead>\n",
              "  <tbody>\n",
              "    <tr>\n",
              "      <th>99</th>\n",
              "      <td>3EPXxR3ImUwfayaurPi3c</td>\n",
              "      <td>Be Alright</td>\n",
              "      <td>Dean Lewis</td>\n",
              "      <td>0.553</td>\n",
              "      <td>0.586</td>\n",
              "      <td>11.0</td>\n",
              "      <td>-6.319</td>\n",
              "      <td>1.0</td>\n",
              "      <td>0.0362</td>\n",
              "      <td>0.6970</td>\n",
              "      <td>0.000000</td>\n",
              "      <td>0.0813</td>\n",
              "      <td>0.4430</td>\n",
              "      <td>126.684</td>\n",
              "      <td>196373.0</td>\n",
              "      <td>4.0</td>\n",
              "    </tr>\n",
              "    <tr>\n",
              "      <th>98</th>\n",
              "      <td>1j4kHkkpqZRBwE0A4CN4Y</td>\n",
              "      <td>Dusk Till Dawn - Radio Edit</td>\n",
              "      <td>ZAYN</td>\n",
              "      <td>0.258</td>\n",
              "      <td>0.437</td>\n",
              "      <td>11.0</td>\n",
              "      <td>-6.593</td>\n",
              "      <td>0.0</td>\n",
              "      <td>0.0390</td>\n",
              "      <td>0.1010</td>\n",
              "      <td>0.000001</td>\n",
              "      <td>0.1060</td>\n",
              "      <td>0.0967</td>\n",
              "      <td>180.043</td>\n",
              "      <td>239000.0</td>\n",
              "      <td>4.0</td>\n",
              "    </tr>\n",
              "    <tr>\n",
              "      <th>97</th>\n",
              "      <td>5WvAo7DNuPRmk4APhdPzi</td>\n",
              "      <td>No Brainer</td>\n",
              "      <td>DJ Khaled</td>\n",
              "      <td>0.552</td>\n",
              "      <td>0.760</td>\n",
              "      <td>0.0</td>\n",
              "      <td>-4.706</td>\n",
              "      <td>1.0</td>\n",
              "      <td>0.3420</td>\n",
              "      <td>0.0733</td>\n",
              "      <td>0.000000</td>\n",
              "      <td>0.0865</td>\n",
              "      <td>0.6390</td>\n",
              "      <td>135.702</td>\n",
              "      <td>260000.0</td>\n",
              "      <td>5.0</td>\n",
              "    </tr>\n",
              "    <tr>\n",
              "      <th>96</th>\n",
              "      <td>2xmrfQpmS2iJExTlklLoA</td>\n",
              "      <td>I Miss You (feat. Julia Michaels)</td>\n",
              "      <td>Clean Bandit</td>\n",
              "      <td>0.638</td>\n",
              "      <td>0.658</td>\n",
              "      <td>3.0</td>\n",
              "      <td>-6.318</td>\n",
              "      <td>1.0</td>\n",
              "      <td>0.0456</td>\n",
              "      <td>0.2450</td>\n",
              "      <td>0.000004</td>\n",
              "      <td>0.0919</td>\n",
              "      <td>0.3300</td>\n",
              "      <td>105.076</td>\n",
              "      <td>205748.0</td>\n",
              "      <td>4.0</td>\n",
              "    </tr>\n",
              "    <tr>\n",
              "      <th>95</th>\n",
              "      <td>630sXRhIcfwr2e4RdNtjK</td>\n",
              "      <td>Rewrite The Stars</td>\n",
              "      <td>Zac Efron</td>\n",
              "      <td>0.684</td>\n",
              "      <td>0.619</td>\n",
              "      <td>10.0</td>\n",
              "      <td>-7.005</td>\n",
              "      <td>1.0</td>\n",
              "      <td>0.0386</td>\n",
              "      <td>0.0716</td>\n",
              "      <td>0.000000</td>\n",
              "      <td>0.1220</td>\n",
              "      <td>0.2840</td>\n",
              "      <td>125.046</td>\n",
              "      <td>217440.0</td>\n",
              "      <td>4.0</td>\n",
              "    </tr>\n",
              "    <tr>\n",
              "      <th>...</th>\n",
              "      <td>...</td>\n",
              "      <td>...</td>\n",
              "      <td>...</td>\n",
              "      <td>...</td>\n",
              "      <td>...</td>\n",
              "      <td>...</td>\n",
              "      <td>...</td>\n",
              "      <td>...</td>\n",
              "      <td>...</td>\n",
              "      <td>...</td>\n",
              "      <td>...</td>\n",
              "      <td>...</td>\n",
              "      <td>...</td>\n",
              "      <td>...</td>\n",
              "      <td>...</td>\n",
              "      <td>...</td>\n",
              "    </tr>\n",
              "    <tr>\n",
              "      <th>4</th>\n",
              "      <td>2G7V7zsVDxg1yRsu7Ew9R</td>\n",
              "      <td>In My Feelings</td>\n",
              "      <td>Drake</td>\n",
              "      <td>0.835</td>\n",
              "      <td>0.626</td>\n",
              "      <td>1.0</td>\n",
              "      <td>-5.833</td>\n",
              "      <td>1.0</td>\n",
              "      <td>0.1250</td>\n",
              "      <td>0.0589</td>\n",
              "      <td>0.000060</td>\n",
              "      <td>0.3960</td>\n",
              "      <td>0.3500</td>\n",
              "      <td>91.030</td>\n",
              "      <td>217925.0</td>\n",
              "      <td>4.0</td>\n",
              "    </tr>\n",
              "    <tr>\n",
              "      <th>3</th>\n",
              "      <td>3swc6WTsr7rl9DqQKQA55</td>\n",
              "      <td>Psycho (feat. Ty Dolla $ign)</td>\n",
              "      <td>Post Malone</td>\n",
              "      <td>0.739</td>\n",
              "      <td>0.559</td>\n",
              "      <td>8.0</td>\n",
              "      <td>-8.011</td>\n",
              "      <td>1.0</td>\n",
              "      <td>0.1170</td>\n",
              "      <td>0.5800</td>\n",
              "      <td>0.000000</td>\n",
              "      <td>0.1120</td>\n",
              "      <td>0.4390</td>\n",
              "      <td>140.124</td>\n",
              "      <td>221440.0</td>\n",
              "      <td>4.0</td>\n",
              "    </tr>\n",
              "    <tr>\n",
              "      <th>2</th>\n",
              "      <td>0e7ipj03S05BNilyu5bRz</td>\n",
              "      <td>rockstar (feat. 21 Savage)</td>\n",
              "      <td>Post Malone</td>\n",
              "      <td>0.587</td>\n",
              "      <td>0.535</td>\n",
              "      <td>5.0</td>\n",
              "      <td>-6.090</td>\n",
              "      <td>0.0</td>\n",
              "      <td>0.0898</td>\n",
              "      <td>0.1170</td>\n",
              "      <td>0.000066</td>\n",
              "      <td>0.1310</td>\n",
              "      <td>0.1400</td>\n",
              "      <td>159.847</td>\n",
              "      <td>218147.0</td>\n",
              "      <td>4.0</td>\n",
              "    </tr>\n",
              "    <tr>\n",
              "      <th>1</th>\n",
              "      <td>3ee8Jmje8o58CHK66QrVC</td>\n",
              "      <td>SAD!</td>\n",
              "      <td>XXXTENTACION</td>\n",
              "      <td>0.740</td>\n",
              "      <td>0.613</td>\n",
              "      <td>8.0</td>\n",
              "      <td>-4.880</td>\n",
              "      <td>1.0</td>\n",
              "      <td>0.1450</td>\n",
              "      <td>0.2580</td>\n",
              "      <td>0.003720</td>\n",
              "      <td>0.1230</td>\n",
              "      <td>0.4730</td>\n",
              "      <td>75.023</td>\n",
              "      <td>166606.0</td>\n",
              "      <td>4.0</td>\n",
              "    </tr>\n",
              "    <tr>\n",
              "      <th>0</th>\n",
              "      <td>6DCZcSspjsKoFjzjrWoCd</td>\n",
              "      <td>God's Plan</td>\n",
              "      <td>Drake</td>\n",
              "      <td>0.754</td>\n",
              "      <td>0.449</td>\n",
              "      <td>7.0</td>\n",
              "      <td>-9.211</td>\n",
              "      <td>1.0</td>\n",
              "      <td>0.1090</td>\n",
              "      <td>0.0332</td>\n",
              "      <td>0.000083</td>\n",
              "      <td>0.5520</td>\n",
              "      <td>0.3570</td>\n",
              "      <td>77.169</td>\n",
              "      <td>198973.0</td>\n",
              "      <td>4.0</td>\n",
              "    </tr>\n",
              "  </tbody>\n",
              "</table>\n",
              "<p>100 rows × 16 columns</p>\n",
              "</div>"
            ],
            "text/plain": [
              "                       id  ... time_signature\n",
              "99  3EPXxR3ImUwfayaurPi3c  ...            4.0\n",
              "98  1j4kHkkpqZRBwE0A4CN4Y  ...            4.0\n",
              "97  5WvAo7DNuPRmk4APhdPzi  ...            5.0\n",
              "96  2xmrfQpmS2iJExTlklLoA  ...            4.0\n",
              "95  630sXRhIcfwr2e4RdNtjK  ...            4.0\n",
              "..                    ...  ...            ...\n",
              "4   2G7V7zsVDxg1yRsu7Ew9R  ...            4.0\n",
              "3   3swc6WTsr7rl9DqQKQA55  ...            4.0\n",
              "2   0e7ipj03S05BNilyu5bRz  ...            4.0\n",
              "1   3ee8Jmje8o58CHK66QrVC  ...            4.0\n",
              "0   6DCZcSspjsKoFjzjrWoCd  ...            4.0\n",
              "\n",
              "[100 rows x 16 columns]"
            ]
          },
          "metadata": {
            "tags": []
          },
          "execution_count": 48
        }
      ]
    },
    {
      "cell_type": "code",
      "metadata": {
        "id": "I5F3Vv42J3Tm",
        "colab_type": "code",
        "colab": {
          "base_uri": "https://localhost:8080/",
          "height": 745
        },
        "outputId": "a5a3ad52-cfbb-487e-a427-6a7b2675bfb4"
      },
      "source": [
        "# Ordenar valores segun name (por filas de datos, 0)\n",
        "data.sort_values('name', axis=0)"
      ],
      "execution_count": 55,
      "outputs": [
        {
          "output_type": "execute_result",
          "data": {
            "text/html": [
              "<div>\n",
              "<style scoped>\n",
              "    .dataframe tbody tr th:only-of-type {\n",
              "        vertical-align: middle;\n",
              "    }\n",
              "\n",
              "    .dataframe tbody tr th {\n",
              "        vertical-align: top;\n",
              "    }\n",
              "\n",
              "    .dataframe thead th {\n",
              "        text-align: right;\n",
              "    }\n",
              "</style>\n",
              "<table border=\"1\" class=\"dataframe\">\n",
              "  <thead>\n",
              "    <tr style=\"text-align: right;\">\n",
              "      <th></th>\n",
              "      <th>id</th>\n",
              "      <th>name</th>\n",
              "      <th>artists</th>\n",
              "      <th>danceability</th>\n",
              "      <th>energy</th>\n",
              "      <th>key</th>\n",
              "      <th>loudness</th>\n",
              "      <th>mode</th>\n",
              "      <th>speechiness</th>\n",
              "      <th>acousticness</th>\n",
              "      <th>instrumentalness</th>\n",
              "      <th>liveness</th>\n",
              "      <th>valence</th>\n",
              "      <th>tempo</th>\n",
              "      <th>duration_ms</th>\n",
              "      <th>time_signature</th>\n",
              "    </tr>\n",
              "  </thead>\n",
              "  <tbody>\n",
              "    <tr>\n",
              "      <th>77</th>\n",
              "      <td>4QtiVmuA88tPQiCOHZuQ5</td>\n",
              "      <td>1, 2, 3 (feat. Jason Derulo &amp; De La Ghetto)</td>\n",
              "      <td>Sofia Reyes</td>\n",
              "      <td>0.792</td>\n",
              "      <td>0.895</td>\n",
              "      <td>1.0</td>\n",
              "      <td>-3.112</td>\n",
              "      <td>0.0</td>\n",
              "      <td>0.0589</td>\n",
              "      <td>0.1650</td>\n",
              "      <td>0.000000</td>\n",
              "      <td>0.0501</td>\n",
              "      <td>0.794</td>\n",
              "      <td>94.968</td>\n",
              "      <td>201526.0</td>\n",
              "      <td>4.0</td>\n",
              "    </tr>\n",
              "    <tr>\n",
              "      <th>60</th>\n",
              "      <td>2BgEsaKNfHUdlh97KmvFy</td>\n",
              "      <td>2002</td>\n",
              "      <td>Anne-Marie</td>\n",
              "      <td>0.697</td>\n",
              "      <td>0.683</td>\n",
              "      <td>1.0</td>\n",
              "      <td>-2.881</td>\n",
              "      <td>0.0</td>\n",
              "      <td>0.1170</td>\n",
              "      <td>0.0372</td>\n",
              "      <td>0.000000</td>\n",
              "      <td>0.1370</td>\n",
              "      <td>0.603</td>\n",
              "      <td>96.133</td>\n",
              "      <td>186987.0</td>\n",
              "      <td>4.0</td>\n",
              "    </tr>\n",
              "    <tr>\n",
              "      <th>34</th>\n",
              "      <td>2hl6q70unbviGo3g1R7uF</td>\n",
              "      <td>?chame La Culpa</td>\n",
              "      <td>Luis Fonsi</td>\n",
              "      <td>0.726</td>\n",
              "      <td>0.889</td>\n",
              "      <td>0.0</td>\n",
              "      <td>-3.655</td>\n",
              "      <td>1.0</td>\n",
              "      <td>0.0429</td>\n",
              "      <td>0.0328</td>\n",
              "      <td>0.000000</td>\n",
              "      <td>0.0925</td>\n",
              "      <td>0.649</td>\n",
              "      <td>96.024</td>\n",
              "      <td>173720.0</td>\n",
              "      <td>4.0</td>\n",
              "    </tr>\n",
              "    <tr>\n",
              "      <th>15</th>\n",
              "      <td>3GCdLUSnKSMJhs4Tj6CV3</td>\n",
              "      <td>All The Stars (with SZA)</td>\n",
              "      <td>Kendrick Lamar</td>\n",
              "      <td>0.698</td>\n",
              "      <td>0.633</td>\n",
              "      <td>8.0</td>\n",
              "      <td>-4.946</td>\n",
              "      <td>1.0</td>\n",
              "      <td>0.0597</td>\n",
              "      <td>0.0605</td>\n",
              "      <td>0.000194</td>\n",
              "      <td>0.0926</td>\n",
              "      <td>0.552</td>\n",
              "      <td>96.924</td>\n",
              "      <td>232187.0</td>\n",
              "      <td>4.0</td>\n",
              "    </tr>\n",
              "    <tr>\n",
              "      <th>47</th>\n",
              "      <td>4hQ6UGyWQIGJmHSo0J88J</td>\n",
              "      <td>Back To You - From 13 Reasons Why ? Season 2 S...</td>\n",
              "      <td>Selena Gomez</td>\n",
              "      <td>0.601</td>\n",
              "      <td>0.724</td>\n",
              "      <td>6.0</td>\n",
              "      <td>-4.856</td>\n",
              "      <td>1.0</td>\n",
              "      <td>0.0486</td>\n",
              "      <td>0.0945</td>\n",
              "      <td>0.000002</td>\n",
              "      <td>0.1200</td>\n",
              "      <td>0.508</td>\n",
              "      <td>102.061</td>\n",
              "      <td>207905.0</td>\n",
              "      <td>4.0</td>\n",
              "    </tr>\n",
              "    <tr>\n",
              "      <th>...</th>\n",
              "      <td>...</td>\n",
              "      <td>...</td>\n",
              "      <td>...</td>\n",
              "      <td>...</td>\n",
              "      <td>...</td>\n",
              "      <td>...</td>\n",
              "      <td>...</td>\n",
              "      <td>...</td>\n",
              "      <td>...</td>\n",
              "      <td>...</td>\n",
              "      <td>...</td>\n",
              "      <td>...</td>\n",
              "      <td>...</td>\n",
              "      <td>...</td>\n",
              "      <td>...</td>\n",
              "      <td>...</td>\n",
              "    </tr>\n",
              "    <tr>\n",
              "      <th>23</th>\n",
              "      <td>2iUXsYOEPhVqEBwsqP70r</td>\n",
              "      <td>Youngblood</td>\n",
              "      <td>5 Seconds of Summer</td>\n",
              "      <td>0.596</td>\n",
              "      <td>0.854</td>\n",
              "      <td>7.0</td>\n",
              "      <td>-5.114</td>\n",
              "      <td>0.0</td>\n",
              "      <td>0.4630</td>\n",
              "      <td>0.0169</td>\n",
              "      <td>0.000000</td>\n",
              "      <td>0.1240</td>\n",
              "      <td>0.152</td>\n",
              "      <td>120.274</td>\n",
              "      <td>203418.0</td>\n",
              "      <td>4.0</td>\n",
              "    </tr>\n",
              "    <tr>\n",
              "      <th>38</th>\n",
              "      <td>7AFASza1mXqntmGtbxXpr</td>\n",
              "      <td>changes</td>\n",
              "      <td>XXXTENTACION</td>\n",
              "      <td>0.669</td>\n",
              "      <td>0.308</td>\n",
              "      <td>11.0</td>\n",
              "      <td>-10.068</td>\n",
              "      <td>1.0</td>\n",
              "      <td>0.0290</td>\n",
              "      <td>0.8830</td>\n",
              "      <td>0.000000</td>\n",
              "      <td>0.0984</td>\n",
              "      <td>0.520</td>\n",
              "      <td>64.934</td>\n",
              "      <td>121887.0</td>\n",
              "      <td>4.0</td>\n",
              "    </tr>\n",
              "    <tr>\n",
              "      <th>80</th>\n",
              "      <td>0u2P5u6lvoDfwTYjAADbn</td>\n",
              "      <td>lovely (with Khalid)</td>\n",
              "      <td>Billie Eilish</td>\n",
              "      <td>0.351</td>\n",
              "      <td>0.296</td>\n",
              "      <td>4.0</td>\n",
              "      <td>-10.109</td>\n",
              "      <td>0.0</td>\n",
              "      <td>0.0333</td>\n",
              "      <td>0.9340</td>\n",
              "      <td>0.000000</td>\n",
              "      <td>0.0950</td>\n",
              "      <td>0.120</td>\n",
              "      <td>115.284</td>\n",
              "      <td>200186.0</td>\n",
              "      <td>4.0</td>\n",
              "    </tr>\n",
              "    <tr>\n",
              "      <th>16</th>\n",
              "      <td>2qT1uLXPVPzGgFOx4jtEu</td>\n",
              "      <td>no tears left to cry</td>\n",
              "      <td>Ariana Grande</td>\n",
              "      <td>0.699</td>\n",
              "      <td>0.713</td>\n",
              "      <td>9.0</td>\n",
              "      <td>-5.507</td>\n",
              "      <td>0.0</td>\n",
              "      <td>0.0594</td>\n",
              "      <td>0.0400</td>\n",
              "      <td>0.000003</td>\n",
              "      <td>0.2940</td>\n",
              "      <td>0.354</td>\n",
              "      <td>121.993</td>\n",
              "      <td>205920.0</td>\n",
              "      <td>4.0</td>\n",
              "    </tr>\n",
              "    <tr>\n",
              "      <th>2</th>\n",
              "      <td>0e7ipj03S05BNilyu5bRz</td>\n",
              "      <td>rockstar (feat. 21 Savage)</td>\n",
              "      <td>Post Malone</td>\n",
              "      <td>0.587</td>\n",
              "      <td>0.535</td>\n",
              "      <td>5.0</td>\n",
              "      <td>-6.090</td>\n",
              "      <td>0.0</td>\n",
              "      <td>0.0898</td>\n",
              "      <td>0.1170</td>\n",
              "      <td>0.000066</td>\n",
              "      <td>0.1310</td>\n",
              "      <td>0.140</td>\n",
              "      <td>159.847</td>\n",
              "      <td>218147.0</td>\n",
              "      <td>4.0</td>\n",
              "    </tr>\n",
              "  </tbody>\n",
              "</table>\n",
              "<p>100 rows × 16 columns</p>\n",
              "</div>"
            ],
            "text/plain": [
              "                       id  ... time_signature\n",
              "77  4QtiVmuA88tPQiCOHZuQ5  ...            4.0\n",
              "60  2BgEsaKNfHUdlh97KmvFy  ...            4.0\n",
              "34  2hl6q70unbviGo3g1R7uF  ...            4.0\n",
              "15  3GCdLUSnKSMJhs4Tj6CV3  ...            4.0\n",
              "47  4hQ6UGyWQIGJmHSo0J88J  ...            4.0\n",
              "..                    ...  ...            ...\n",
              "23  2iUXsYOEPhVqEBwsqP70r  ...            4.0\n",
              "38  7AFASza1mXqntmGtbxXpr  ...            4.0\n",
              "80  0u2P5u6lvoDfwTYjAADbn  ...            4.0\n",
              "16  2qT1uLXPVPzGgFOx4jtEu  ...            4.0\n",
              "2   0e7ipj03S05BNilyu5bRz  ...            4.0\n",
              "\n",
              "[100 rows x 16 columns]"
            ]
          },
          "metadata": {
            "tags": []
          },
          "execution_count": 55
        }
      ]
    },
    {
      "cell_type": "markdown",
      "metadata": {
        "id": "LIlLvSBQLLRe",
        "colab_type": "text"
      },
      "source": [
        "# **Reto**\n",
        "\n",
        "---\n",
        "\n",
        "Escoger columna y ordenarla en orden ascendente"
      ]
    },
    {
      "cell_type": "code",
      "metadata": {
        "id": "Ovxz8HjVKUA6",
        "colab_type": "code",
        "colab": {
          "base_uri": "https://localhost:8080/",
          "height": 221
        },
        "outputId": "65b49232-cf2f-4ac9-b72b-f2afed7ee899"
      },
      "source": [
        "data['artists'].sort_values(ascending=True)"
      ],
      "execution_count": 60,
      "outputs": [
        {
          "output_type": "execute_result",
          "data": {
            "text/plain": [
              "23    5 Seconds of Summer\n",
              "55                6ix9ine\n",
              "88                 Anitta\n",
              "60             Anne-Marie\n",
              "65          Ariana Grande\n",
              "             ...         \n",
              "38           XXXTENTACION\n",
              "98                   ZAYN\n",
              "95              Zac Efron\n",
              "14                   Zedd\n",
              "35           benny blanco\n",
              "Name: artists, Length: 100, dtype: object"
            ]
          },
          "metadata": {
            "tags": []
          },
          "execution_count": 60
        }
      ]
    },
    {
      "cell_type": "code",
      "metadata": {
        "id": "PifgWeP3LrKH",
        "colab_type": "code",
        "colab": {}
      },
      "source": [
        ""
      ],
      "execution_count": 0,
      "outputs": []
    }
  ]
}