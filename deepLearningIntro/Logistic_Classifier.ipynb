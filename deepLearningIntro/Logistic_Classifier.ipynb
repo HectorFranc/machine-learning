{
  "nbformat": 4,
  "nbformat_minor": 0,
  "metadata": {
    "colab": {
      "name": "Logistic_Classifier.ipynb",
      "provenance": [],
      "collapsed_sections": []
    },
    "kernelspec": {
      "name": "python3",
      "display_name": "Python 3"
    }
  },
  "cells": [
    {
      "cell_type": "code",
      "metadata": {
        "id": "HC_VVAGXtkpL",
        "colab_type": "code",
        "colab": {}
      },
      "source": [
        "%tensorflow_version 1.x\n",
        "import tensorflow as tf"
      ],
      "execution_count": 0,
      "outputs": []
    },
    {
      "cell_type": "code",
      "metadata": {
        "id": "Kyrx4zhEtzZA",
        "colab_type": "code",
        "colab": {}
      },
      "source": [
        "class LogisticClassifier:\n",
        "  def __init__(self, seq_max_Len, state_size, vocab_size, num_classes):\n",
        "    self.seq_max_Len = seq_max_Len\n",
        "    self.state_size = state_size\n",
        "    self.vocab_size = vocab_size\n",
        "    self.num_classes = num_classes\n",
        "  \n",
        "  def build_model(self):\n",
        "    self.x = tf.placeholder(shape=[None, self.seq_max_Len], dtype=tf.int32)\n",
        "    x_one_hot = tf.one_hot(self.x, self.vocab_size)\n",
        "    x_one_hot = tf.cast(x_one_hot, tf.float32)\n",
        "\n",
        "    self.y = tf.placeholder(shape=[None], dtype=tf.int32)\n",
        "    self.y_one_hot = tf.one_hot(self.y, self.num_classes, dtype=tf.float32)\n",
        "\n",
        "    self.batch_size = tf.placeholder(tf.int32, [], name='batch_size')\n",
        "\n",
        "    weights = {\n",
        "        'layer_0': tf.Variable(tf.random_normal([self.seq_max_Len*self.vocab_size, self.num_classes]))\n",
        "    }\n",
        "    biases = {\n",
        "        'layer_0': tf.Variable(tf.random_normal([self.num_classes]))\n",
        "    }\n",
        "\n",
        "    x_input = tf.reshape(x_one_hot, [-1, self.seq_max_Len*self.vocab_size])\n",
        "\n",
        "    output = tf.matmul(x_input, weights['layer_0']) + biases['layer_0']\n",
        "\n",
        "    self.logits = tf.sigmoid(output)\n",
        "    self.probs = tf.nn.softmax(self.logits, axis=1)\n",
        "\n",
        "    self.correct_preds = tf.equal(tf.arg_max(self.probs, axis=1), tf.argmax(self.y_one_hot, axis=1))\n",
        "    self.precision = tf.reduce_mean(tf.cast(self.correct_preds, dtype=tf.float32))\n",
        "\n",
        "  def step_training(self, learning_rate=0.01):\n",
        "    loss = tf.reduce_mean(tf.nn.softmax_cross_entropy_with_logits(logits=self.logits, labels=self.y_one_hot))\n",
        "\n",
        "    optimizer = tf.train.AdamOptimizer(learning_rate=learning_rate).minimize(loss)\n",
        "\n",
        "    return loss, optimizer"
      ],
      "execution_count": 0,
      "outputs": []
    },
    {
      "cell_type": "code",
      "metadata": {
        "id": "3NNLBBoVaObm",
        "colab_type": "code",
        "colab": {}
      },
      "source": [
        ""
      ],
      "execution_count": 0,
      "outputs": []
    }
  ]
}